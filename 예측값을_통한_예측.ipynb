{
  "nbformat": 4,
  "nbformat_minor": 0,
  "metadata": {
    "colab": {
      "name": "예측값을 통한 예측 의 사본",
      "provenance": [],
      "collapsed_sections": [],
      "include_colab_link": true
    },
    "kernelspec": {
      "name": "python3",
      "display_name": "Python 3"
    },
    "language_info": {
      "name": "python"
    }
  },
  "cells": [
    {
      "cell_type": "markdown",
      "metadata": {
        "id": "view-in-github",
        "colab_type": "text"
      },
      "source": [
        "<a href=\"https://colab.research.google.com/github/ferrry-ghsb/bigdata_6team/blob/main/%EC%98%88%EC%B8%A1%EA%B0%92%EC%9D%84_%ED%86%B5%ED%95%9C_%EC%98%88%EC%B8%A1.ipynb\" target=\"_parent\"><img src=\"https://colab.research.google.com/assets/colab-badge.svg\" alt=\"Open In Colab\"/></a>"
      ]
    },
    {
      "cell_type": "code",
      "source": [
        ""
      ],
      "metadata": {
        "id": "BUAZJAs-wTpZ"
      },
      "execution_count": null,
      "outputs": []
    },
    {
      "cell_type": "code",
      "execution_count": null,
      "metadata": {
        "id": "y0j15UBeuS-6"
      },
      "outputs": [],
      "source": [
        ""
      ]
    },
    {
      "cell_type": "code",
      "source": [
        "import pandas as pd\n",
        "import numpy as np\n",
        "%load_ext autoreload\n",
        "%autoreload 2"
      ],
      "metadata": {
        "id": "iULwGeqNux1T"
      },
      "execution_count": null,
      "outputs": []
    },
    {
      "cell_type": "code",
      "source": [
        "from google.colab import drive\n",
        "drive.mount('/content/drive')"
      ],
      "metadata": {
        "colab": {
          "base_uri": "https://localhost:8080/"
        },
        "id": "nZssYl5owQt2",
        "outputId": "8dacbcaa-74b7-4ba5-fa32-39bea94dbe5b"
      },
      "execution_count": null,
      "outputs": [
        {
          "output_type": "stream",
          "name": "stdout",
          "text": [
            "Mounted at /content/drive\n"
          ]
        }
      ]
    },
    {
      "cell_type": "code",
      "source": [
        "train = pd.read_csv('/content/drive/MyDrive/BIgdata team/gro_train.csv').iloc[:, 1:]\n",
        "valid = pd.read_csv('/content/drive/MyDrive/BIgdata team/gro_test.csv').iloc[:, 1:]"
      ],
      "metadata": {
        "id": "n8xmfefgvl9b"
      },
      "execution_count": null,
      "outputs": []
    },
    {
      "cell_type": "code",
      "source": [
        "valid"
      ],
      "metadata": {
        "colab": {
          "base_uri": "https://localhost:8080/",
          "height": 423
        },
        "id": "nkAfiP0Rvl_v",
        "outputId": "40cf39c3-bfc2-468b-d180-4df30558a573"
      },
      "execution_count": null,
      "outputs": [
        {
          "output_type": "execute_result",
          "data": {
            "text/html": [
              "\n",
              "  <div id=\"df-53cd91cf-8dc9-444d-b936-80ef58534ec6\">\n",
              "    <div class=\"colab-df-container\">\n",
              "      <div>\n",
              "<style scoped>\n",
              "    .dataframe tbody tr th:only-of-type {\n",
              "        vertical-align: middle;\n",
              "    }\n",
              "\n",
              "    .dataframe tbody tr th {\n",
              "        vertical-align: top;\n",
              "    }\n",
              "\n",
              "    .dataframe thead th {\n",
              "        text-align: right;\n",
              "    }\n",
              "</style>\n",
              "<table border=\"1\" class=\"dataframe\">\n",
              "  <thead>\n",
              "    <tr style=\"text-align: right;\">\n",
              "      <th></th>\n",
              "      <th>0</th>\n",
              "      <th>1</th>\n",
              "      <th>2</th>\n",
              "    </tr>\n",
              "  </thead>\n",
              "  <tbody>\n",
              "    <tr>\n",
              "      <th>0</th>\n",
              "      <td>0.364810</td>\n",
              "      <td>0.341317</td>\n",
              "      <td>0.328201</td>\n",
              "    </tr>\n",
              "    <tr>\n",
              "      <th>1</th>\n",
              "      <td>0.309653</td>\n",
              "      <td>0.161677</td>\n",
              "      <td>0.324055</td>\n",
              "    </tr>\n",
              "    <tr>\n",
              "      <th>2</th>\n",
              "      <td>0.340982</td>\n",
              "      <td>0.209581</td>\n",
              "      <td>0.327135</td>\n",
              "    </tr>\n",
              "    <tr>\n",
              "      <th>3</th>\n",
              "      <td>0.352785</td>\n",
              "      <td>0.263473</td>\n",
              "      <td>0.317660</td>\n",
              "    </tr>\n",
              "    <tr>\n",
              "      <th>4</th>\n",
              "      <td>0.138555</td>\n",
              "      <td>0.269461</td>\n",
              "      <td>0.317660</td>\n",
              "    </tr>\n",
              "    <tr>\n",
              "      <th>...</th>\n",
              "      <td>...</td>\n",
              "      <td>...</td>\n",
              "      <td>...</td>\n",
              "    </tr>\n",
              "    <tr>\n",
              "      <th>195</th>\n",
              "      <td>0.140099</td>\n",
              "      <td>0.143713</td>\n",
              "      <td>0.267914</td>\n",
              "    </tr>\n",
              "    <tr>\n",
              "      <th>196</th>\n",
              "      <td>0.179812</td>\n",
              "      <td>0.167665</td>\n",
              "      <td>0.253464</td>\n",
              "    </tr>\n",
              "    <tr>\n",
              "      <th>197</th>\n",
              "      <td>0.105019</td>\n",
              "      <td>0.113772</td>\n",
              "      <td>0.253464</td>\n",
              "    </tr>\n",
              "    <tr>\n",
              "      <th>198</th>\n",
              "      <td>0.265527</td>\n",
              "      <td>0.179641</td>\n",
              "      <td>0.253464</td>\n",
              "    </tr>\n",
              "    <tr>\n",
              "      <th>199</th>\n",
              "      <td>0.276669</td>\n",
              "      <td>0.173653</td>\n",
              "      <td>0.253228</td>\n",
              "    </tr>\n",
              "  </tbody>\n",
              "</table>\n",
              "<p>200 rows × 3 columns</p>\n",
              "</div>\n",
              "      <button class=\"colab-df-convert\" onclick=\"convertToInteractive('df-53cd91cf-8dc9-444d-b936-80ef58534ec6')\"\n",
              "              title=\"Convert this dataframe to an interactive table.\"\n",
              "              style=\"display:none;\">\n",
              "        \n",
              "  <svg xmlns=\"http://www.w3.org/2000/svg\" height=\"24px\"viewBox=\"0 0 24 24\"\n",
              "       width=\"24px\">\n",
              "    <path d=\"M0 0h24v24H0V0z\" fill=\"none\"/>\n",
              "    <path d=\"M18.56 5.44l.94 2.06.94-2.06 2.06-.94-2.06-.94-.94-2.06-.94 2.06-2.06.94zm-11 1L8.5 8.5l.94-2.06 2.06-.94-2.06-.94L8.5 2.5l-.94 2.06-2.06.94zm10 10l.94 2.06.94-2.06 2.06-.94-2.06-.94-.94-2.06-.94 2.06-2.06.94z\"/><path d=\"M17.41 7.96l-1.37-1.37c-.4-.4-.92-.59-1.43-.59-.52 0-1.04.2-1.43.59L10.3 9.45l-7.72 7.72c-.78.78-.78 2.05 0 2.83L4 21.41c.39.39.9.59 1.41.59.51 0 1.02-.2 1.41-.59l7.78-7.78 2.81-2.81c.8-.78.8-2.07 0-2.86zM5.41 20L4 18.59l7.72-7.72 1.47 1.35L5.41 20z\"/>\n",
              "  </svg>\n",
              "      </button>\n",
              "      \n",
              "  <style>\n",
              "    .colab-df-container {\n",
              "      display:flex;\n",
              "      flex-wrap:wrap;\n",
              "      gap: 12px;\n",
              "    }\n",
              "\n",
              "    .colab-df-convert {\n",
              "      background-color: #E8F0FE;\n",
              "      border: none;\n",
              "      border-radius: 50%;\n",
              "      cursor: pointer;\n",
              "      display: none;\n",
              "      fill: #1967D2;\n",
              "      height: 32px;\n",
              "      padding: 0 0 0 0;\n",
              "      width: 32px;\n",
              "    }\n",
              "\n",
              "    .colab-df-convert:hover {\n",
              "      background-color: #E2EBFA;\n",
              "      box-shadow: 0px 1px 2px rgba(60, 64, 67, 0.3), 0px 1px 3px 1px rgba(60, 64, 67, 0.15);\n",
              "      fill: #174EA6;\n",
              "    }\n",
              "\n",
              "    [theme=dark] .colab-df-convert {\n",
              "      background-color: #3B4455;\n",
              "      fill: #D2E3FC;\n",
              "    }\n",
              "\n",
              "    [theme=dark] .colab-df-convert:hover {\n",
              "      background-color: #434B5C;\n",
              "      box-shadow: 0px 1px 3px 1px rgba(0, 0, 0, 0.15);\n",
              "      filter: drop-shadow(0px 1px 2px rgba(0, 0, 0, 0.3));\n",
              "      fill: #FFFFFF;\n",
              "    }\n",
              "  </style>\n",
              "\n",
              "      <script>\n",
              "        const buttonEl =\n",
              "          document.querySelector('#df-53cd91cf-8dc9-444d-b936-80ef58534ec6 button.colab-df-convert');\n",
              "        buttonEl.style.display =\n",
              "          google.colab.kernel.accessAllowed ? 'block' : 'none';\n",
              "\n",
              "        async function convertToInteractive(key) {\n",
              "          const element = document.querySelector('#df-53cd91cf-8dc9-444d-b936-80ef58534ec6');\n",
              "          const dataTable =\n",
              "            await google.colab.kernel.invokeFunction('convertToInteractive',\n",
              "                                                     [key], {});\n",
              "          if (!dataTable) return;\n",
              "\n",
              "          const docLinkHtml = 'Like what you see? Visit the ' +\n",
              "            '<a target=\"_blank\" href=https://colab.research.google.com/notebooks/data_table.ipynb>data table notebook</a>'\n",
              "            + ' to learn more about interactive tables.';\n",
              "          element.innerHTML = '';\n",
              "          dataTable['output_type'] = 'display_data';\n",
              "          await google.colab.output.renderOutput(dataTable, element);\n",
              "          const docLink = document.createElement('div');\n",
              "          docLink.innerHTML = docLinkHtml;\n",
              "          element.appendChild(docLink);\n",
              "        }\n",
              "      </script>\n",
              "    </div>\n",
              "  </div>\n",
              "  "
            ],
            "text/plain": [
              "            0         1         2\n",
              "0    0.364810  0.341317  0.328201\n",
              "1    0.309653  0.161677  0.324055\n",
              "2    0.340982  0.209581  0.327135\n",
              "3    0.352785  0.263473  0.317660\n",
              "4    0.138555  0.269461  0.317660\n",
              "..        ...       ...       ...\n",
              "195  0.140099  0.143713  0.267914\n",
              "196  0.179812  0.167665  0.253464\n",
              "197  0.105019  0.113772  0.253464\n",
              "198  0.265527  0.179641  0.253464\n",
              "199  0.276669  0.173653  0.253228\n",
              "\n",
              "[200 rows x 3 columns]"
            ]
          },
          "metadata": {},
          "execution_count": 4
        }
      ]
    },
    {
      "cell_type": "code",
      "source": [
        "train"
      ],
      "metadata": {
        "colab": {
          "base_uri": "https://localhost:8080/",
          "height": 423
        },
        "id": "5QlYXXkLvmBu",
        "outputId": "bb8eed34-708f-4e62-b3fb-f551cd2f947a"
      },
      "execution_count": null,
      "outputs": [
        {
          "output_type": "execute_result",
          "data": {
            "text/html": [
              "\n",
              "  <div id=\"df-e8548b83-fecb-4c24-9b1c-6c61b998fd77\">\n",
              "    <div class=\"colab-df-container\">\n",
              "      <div>\n",
              "<style scoped>\n",
              "    .dataframe tbody tr th:only-of-type {\n",
              "        vertical-align: middle;\n",
              "    }\n",
              "\n",
              "    .dataframe tbody tr th {\n",
              "        vertical-align: top;\n",
              "    }\n",
              "\n",
              "    .dataframe thead th {\n",
              "        text-align: right;\n",
              "    }\n",
              "</style>\n",
              "<table border=\"1\" class=\"dataframe\">\n",
              "  <thead>\n",
              "    <tr style=\"text-align: right;\">\n",
              "      <th></th>\n",
              "      <th>0</th>\n",
              "      <th>1</th>\n",
              "      <th>2</th>\n",
              "    </tr>\n",
              "  </thead>\n",
              "  <tbody>\n",
              "    <tr>\n",
              "      <th>0</th>\n",
              "      <td>0.000000</td>\n",
              "      <td>0.000000</td>\n",
              "      <td>0.792965</td>\n",
              "    </tr>\n",
              "    <tr>\n",
              "      <th>1</th>\n",
              "      <td>0.292554</td>\n",
              "      <td>0.000000</td>\n",
              "      <td>0.792965</td>\n",
              "    </tr>\n",
              "    <tr>\n",
              "      <th>2</th>\n",
              "      <td>0.233977</td>\n",
              "      <td>0.000000</td>\n",
              "      <td>0.790951</td>\n",
              "    </tr>\n",
              "    <tr>\n",
              "      <th>3</th>\n",
              "      <td>0.226806</td>\n",
              "      <td>0.000000</td>\n",
              "      <td>0.792728</td>\n",
              "    </tr>\n",
              "    <tr>\n",
              "      <th>4</th>\n",
              "      <td>0.244457</td>\n",
              "      <td>0.000000</td>\n",
              "      <td>0.793675</td>\n",
              "    </tr>\n",
              "    <tr>\n",
              "      <th>...</th>\n",
              "      <td>...</td>\n",
              "      <td>...</td>\n",
              "      <td>...</td>\n",
              "    </tr>\n",
              "    <tr>\n",
              "      <th>1509</th>\n",
              "      <td>0.335245</td>\n",
              "      <td>0.185629</td>\n",
              "      <td>0.319673</td>\n",
              "    </tr>\n",
              "    <tr>\n",
              "      <th>1510</th>\n",
              "      <td>0.307998</td>\n",
              "      <td>0.173653</td>\n",
              "      <td>0.313159</td>\n",
              "    </tr>\n",
              "    <tr>\n",
              "      <th>1511</th>\n",
              "      <td>0.149366</td>\n",
              "      <td>0.137725</td>\n",
              "      <td>0.313159</td>\n",
              "    </tr>\n",
              "    <tr>\n",
              "      <th>1512</th>\n",
              "      <td>0.307998</td>\n",
              "      <td>0.161677</td>\n",
              "      <td>0.313159</td>\n",
              "    </tr>\n",
              "    <tr>\n",
              "      <th>1513</th>\n",
              "      <td>0.271704</td>\n",
              "      <td>0.191617</td>\n",
              "      <td>0.314580</td>\n",
              "    </tr>\n",
              "  </tbody>\n",
              "</table>\n",
              "<p>1514 rows × 3 columns</p>\n",
              "</div>\n",
              "      <button class=\"colab-df-convert\" onclick=\"convertToInteractive('df-e8548b83-fecb-4c24-9b1c-6c61b998fd77')\"\n",
              "              title=\"Convert this dataframe to an interactive table.\"\n",
              "              style=\"display:none;\">\n",
              "        \n",
              "  <svg xmlns=\"http://www.w3.org/2000/svg\" height=\"24px\"viewBox=\"0 0 24 24\"\n",
              "       width=\"24px\">\n",
              "    <path d=\"M0 0h24v24H0V0z\" fill=\"none\"/>\n",
              "    <path d=\"M18.56 5.44l.94 2.06.94-2.06 2.06-.94-2.06-.94-.94-2.06-.94 2.06-2.06.94zm-11 1L8.5 8.5l.94-2.06 2.06-.94-2.06-.94L8.5 2.5l-.94 2.06-2.06.94zm10 10l.94 2.06.94-2.06 2.06-.94-2.06-.94-.94-2.06-.94 2.06-2.06.94z\"/><path d=\"M17.41 7.96l-1.37-1.37c-.4-.4-.92-.59-1.43-.59-.52 0-1.04.2-1.43.59L10.3 9.45l-7.72 7.72c-.78.78-.78 2.05 0 2.83L4 21.41c.39.39.9.59 1.41.59.51 0 1.02-.2 1.41-.59l7.78-7.78 2.81-2.81c.8-.78.8-2.07 0-2.86zM5.41 20L4 18.59l7.72-7.72 1.47 1.35L5.41 20z\"/>\n",
              "  </svg>\n",
              "      </button>\n",
              "      \n",
              "  <style>\n",
              "    .colab-df-container {\n",
              "      display:flex;\n",
              "      flex-wrap:wrap;\n",
              "      gap: 12px;\n",
              "    }\n",
              "\n",
              "    .colab-df-convert {\n",
              "      background-color: #E8F0FE;\n",
              "      border: none;\n",
              "      border-radius: 50%;\n",
              "      cursor: pointer;\n",
              "      display: none;\n",
              "      fill: #1967D2;\n",
              "      height: 32px;\n",
              "      padding: 0 0 0 0;\n",
              "      width: 32px;\n",
              "    }\n",
              "\n",
              "    .colab-df-convert:hover {\n",
              "      background-color: #E2EBFA;\n",
              "      box-shadow: 0px 1px 2px rgba(60, 64, 67, 0.3), 0px 1px 3px 1px rgba(60, 64, 67, 0.15);\n",
              "      fill: #174EA6;\n",
              "    }\n",
              "\n",
              "    [theme=dark] .colab-df-convert {\n",
              "      background-color: #3B4455;\n",
              "      fill: #D2E3FC;\n",
              "    }\n",
              "\n",
              "    [theme=dark] .colab-df-convert:hover {\n",
              "      background-color: #434B5C;\n",
              "      box-shadow: 0px 1px 3px 1px rgba(0, 0, 0, 0.15);\n",
              "      filter: drop-shadow(0px 1px 2px rgba(0, 0, 0, 0.3));\n",
              "      fill: #FFFFFF;\n",
              "    }\n",
              "  </style>\n",
              "\n",
              "      <script>\n",
              "        const buttonEl =\n",
              "          document.querySelector('#df-e8548b83-fecb-4c24-9b1c-6c61b998fd77 button.colab-df-convert');\n",
              "        buttonEl.style.display =\n",
              "          google.colab.kernel.accessAllowed ? 'block' : 'none';\n",
              "\n",
              "        async function convertToInteractive(key) {\n",
              "          const element = document.querySelector('#df-e8548b83-fecb-4c24-9b1c-6c61b998fd77');\n",
              "          const dataTable =\n",
              "            await google.colab.kernel.invokeFunction('convertToInteractive',\n",
              "                                                     [key], {});\n",
              "          if (!dataTable) return;\n",
              "\n",
              "          const docLinkHtml = 'Like what you see? Visit the ' +\n",
              "            '<a target=\"_blank\" href=https://colab.research.google.com/notebooks/data_table.ipynb>data table notebook</a>'\n",
              "            + ' to learn more about interactive tables.';\n",
              "          element.innerHTML = '';\n",
              "          dataTable['output_type'] = 'display_data';\n",
              "          await google.colab.output.renderOutput(dataTable, element);\n",
              "          const docLink = document.createElement('div');\n",
              "          docLink.innerHTML = docLinkHtml;\n",
              "          element.appendChild(docLink);\n",
              "        }\n",
              "      </script>\n",
              "    </div>\n",
              "  </div>\n",
              "  "
            ],
            "text/plain": [
              "             0         1         2\n",
              "0     0.000000  0.000000  0.792965\n",
              "1     0.292554  0.000000  0.792965\n",
              "2     0.233977  0.000000  0.790951\n",
              "3     0.226806  0.000000  0.792728\n",
              "4     0.244457  0.000000  0.793675\n",
              "...        ...       ...       ...\n",
              "1509  0.335245  0.185629  0.319673\n",
              "1510  0.307998  0.173653  0.313159\n",
              "1511  0.149366  0.137725  0.313159\n",
              "1512  0.307998  0.161677  0.313159\n",
              "1513  0.271704  0.191617  0.314580\n",
              "\n",
              "[1514 rows x 3 columns]"
            ]
          },
          "metadata": {},
          "execution_count": 5
        }
      ]
    },
    {
      "cell_type": "code",
      "source": [
        "train.iloc[1:1+1, :].values"
      ],
      "metadata": {
        "colab": {
          "base_uri": "https://localhost:8080/"
        },
        "id": "pdhzqdywvmF1",
        "outputId": "3259061f-879d-484e-c1ab-74cdfc4e4e2c"
      },
      "execution_count": null,
      "outputs": [
        {
          "output_type": "execute_result",
          "data": {
            "text/plain": [
              "array([[0.29255378, 0.        , 0.79296459]])"
            ]
          },
          "metadata": {},
          "execution_count": 6
        }
      ]
    },
    {
      "cell_type": "code",
      "source": [
        "valid"
      ],
      "metadata": {
        "colab": {
          "base_uri": "https://localhost:8080/",
          "height": 423
        },
        "id": "sWAKYJy-vmHx",
        "outputId": "624d98ef-302d-4204-8f98-6e77dec2d441"
      },
      "execution_count": null,
      "outputs": [
        {
          "output_type": "execute_result",
          "data": {
            "text/html": [
              "\n",
              "  <div id=\"df-b066ea79-bb8a-42d8-b1f2-d6c6371a8ce3\">\n",
              "    <div class=\"colab-df-container\">\n",
              "      <div>\n",
              "<style scoped>\n",
              "    .dataframe tbody tr th:only-of-type {\n",
              "        vertical-align: middle;\n",
              "    }\n",
              "\n",
              "    .dataframe tbody tr th {\n",
              "        vertical-align: top;\n",
              "    }\n",
              "\n",
              "    .dataframe thead th {\n",
              "        text-align: right;\n",
              "    }\n",
              "</style>\n",
              "<table border=\"1\" class=\"dataframe\">\n",
              "  <thead>\n",
              "    <tr style=\"text-align: right;\">\n",
              "      <th></th>\n",
              "      <th>0</th>\n",
              "      <th>1</th>\n",
              "      <th>2</th>\n",
              "    </tr>\n",
              "  </thead>\n",
              "  <tbody>\n",
              "    <tr>\n",
              "      <th>0</th>\n",
              "      <td>0.364810</td>\n",
              "      <td>0.341317</td>\n",
              "      <td>0.328201</td>\n",
              "    </tr>\n",
              "    <tr>\n",
              "      <th>1</th>\n",
              "      <td>0.309653</td>\n",
              "      <td>0.161677</td>\n",
              "      <td>0.324055</td>\n",
              "    </tr>\n",
              "    <tr>\n",
              "      <th>2</th>\n",
              "      <td>0.340982</td>\n",
              "      <td>0.209581</td>\n",
              "      <td>0.327135</td>\n",
              "    </tr>\n",
              "    <tr>\n",
              "      <th>3</th>\n",
              "      <td>0.352785</td>\n",
              "      <td>0.263473</td>\n",
              "      <td>0.317660</td>\n",
              "    </tr>\n",
              "    <tr>\n",
              "      <th>4</th>\n",
              "      <td>0.138555</td>\n",
              "      <td>0.269461</td>\n",
              "      <td>0.317660</td>\n",
              "    </tr>\n",
              "    <tr>\n",
              "      <th>...</th>\n",
              "      <td>...</td>\n",
              "      <td>...</td>\n",
              "      <td>...</td>\n",
              "    </tr>\n",
              "    <tr>\n",
              "      <th>195</th>\n",
              "      <td>0.140099</td>\n",
              "      <td>0.143713</td>\n",
              "      <td>0.267914</td>\n",
              "    </tr>\n",
              "    <tr>\n",
              "      <th>196</th>\n",
              "      <td>0.179812</td>\n",
              "      <td>0.167665</td>\n",
              "      <td>0.253464</td>\n",
              "    </tr>\n",
              "    <tr>\n",
              "      <th>197</th>\n",
              "      <td>0.105019</td>\n",
              "      <td>0.113772</td>\n",
              "      <td>0.253464</td>\n",
              "    </tr>\n",
              "    <tr>\n",
              "      <th>198</th>\n",
              "      <td>0.265527</td>\n",
              "      <td>0.179641</td>\n",
              "      <td>0.253464</td>\n",
              "    </tr>\n",
              "    <tr>\n",
              "      <th>199</th>\n",
              "      <td>0.276669</td>\n",
              "      <td>0.173653</td>\n",
              "      <td>0.253228</td>\n",
              "    </tr>\n",
              "  </tbody>\n",
              "</table>\n",
              "<p>200 rows × 3 columns</p>\n",
              "</div>\n",
              "      <button class=\"colab-df-convert\" onclick=\"convertToInteractive('df-b066ea79-bb8a-42d8-b1f2-d6c6371a8ce3')\"\n",
              "              title=\"Convert this dataframe to an interactive table.\"\n",
              "              style=\"display:none;\">\n",
              "        \n",
              "  <svg xmlns=\"http://www.w3.org/2000/svg\" height=\"24px\"viewBox=\"0 0 24 24\"\n",
              "       width=\"24px\">\n",
              "    <path d=\"M0 0h24v24H0V0z\" fill=\"none\"/>\n",
              "    <path d=\"M18.56 5.44l.94 2.06.94-2.06 2.06-.94-2.06-.94-.94-2.06-.94 2.06-2.06.94zm-11 1L8.5 8.5l.94-2.06 2.06-.94-2.06-.94L8.5 2.5l-.94 2.06-2.06.94zm10 10l.94 2.06.94-2.06 2.06-.94-2.06-.94-.94-2.06-.94 2.06-2.06.94z\"/><path d=\"M17.41 7.96l-1.37-1.37c-.4-.4-.92-.59-1.43-.59-.52 0-1.04.2-1.43.59L10.3 9.45l-7.72 7.72c-.78.78-.78 2.05 0 2.83L4 21.41c.39.39.9.59 1.41.59.51 0 1.02-.2 1.41-.59l7.78-7.78 2.81-2.81c.8-.78.8-2.07 0-2.86zM5.41 20L4 18.59l7.72-7.72 1.47 1.35L5.41 20z\"/>\n",
              "  </svg>\n",
              "      </button>\n",
              "      \n",
              "  <style>\n",
              "    .colab-df-container {\n",
              "      display:flex;\n",
              "      flex-wrap:wrap;\n",
              "      gap: 12px;\n",
              "    }\n",
              "\n",
              "    .colab-df-convert {\n",
              "      background-color: #E8F0FE;\n",
              "      border: none;\n",
              "      border-radius: 50%;\n",
              "      cursor: pointer;\n",
              "      display: none;\n",
              "      fill: #1967D2;\n",
              "      height: 32px;\n",
              "      padding: 0 0 0 0;\n",
              "      width: 32px;\n",
              "    }\n",
              "\n",
              "    .colab-df-convert:hover {\n",
              "      background-color: #E2EBFA;\n",
              "      box-shadow: 0px 1px 2px rgba(60, 64, 67, 0.3), 0px 1px 3px 1px rgba(60, 64, 67, 0.15);\n",
              "      fill: #174EA6;\n",
              "    }\n",
              "\n",
              "    [theme=dark] .colab-df-convert {\n",
              "      background-color: #3B4455;\n",
              "      fill: #D2E3FC;\n",
              "    }\n",
              "\n",
              "    [theme=dark] .colab-df-convert:hover {\n",
              "      background-color: #434B5C;\n",
              "      box-shadow: 0px 1px 3px 1px rgba(0, 0, 0, 0.15);\n",
              "      filter: drop-shadow(0px 1px 2px rgba(0, 0, 0, 0.3));\n",
              "      fill: #FFFFFF;\n",
              "    }\n",
              "  </style>\n",
              "\n",
              "      <script>\n",
              "        const buttonEl =\n",
              "          document.querySelector('#df-b066ea79-bb8a-42d8-b1f2-d6c6371a8ce3 button.colab-df-convert');\n",
              "        buttonEl.style.display =\n",
              "          google.colab.kernel.accessAllowed ? 'block' : 'none';\n",
              "\n",
              "        async function convertToInteractive(key) {\n",
              "          const element = document.querySelector('#df-b066ea79-bb8a-42d8-b1f2-d6c6371a8ce3');\n",
              "          const dataTable =\n",
              "            await google.colab.kernel.invokeFunction('convertToInteractive',\n",
              "                                                     [key], {});\n",
              "          if (!dataTable) return;\n",
              "\n",
              "          const docLinkHtml = 'Like what you see? Visit the ' +\n",
              "            '<a target=\"_blank\" href=https://colab.research.google.com/notebooks/data_table.ipynb>data table notebook</a>'\n",
              "            + ' to learn more about interactive tables.';\n",
              "          element.innerHTML = '';\n",
              "          dataTable['output_type'] = 'display_data';\n",
              "          await google.colab.output.renderOutput(dataTable, element);\n",
              "          const docLink = document.createElement('div');\n",
              "          docLink.innerHTML = docLinkHtml;\n",
              "          element.appendChild(docLink);\n",
              "        }\n",
              "      </script>\n",
              "    </div>\n",
              "  </div>\n",
              "  "
            ],
            "text/plain": [
              "            0         1         2\n",
              "0    0.364810  0.341317  0.328201\n",
              "1    0.309653  0.161677  0.324055\n",
              "2    0.340982  0.209581  0.327135\n",
              "3    0.352785  0.263473  0.317660\n",
              "4    0.138555  0.269461  0.317660\n",
              "..        ...       ...       ...\n",
              "195  0.140099  0.143713  0.267914\n",
              "196  0.179812  0.167665  0.253464\n",
              "197  0.105019  0.113772  0.253464\n",
              "198  0.265527  0.179641  0.253464\n",
              "199  0.276669  0.173653  0.253228\n",
              "\n",
              "[200 rows x 3 columns]"
            ]
          },
          "metadata": {},
          "execution_count": 7
        }
      ]
    },
    {
      "cell_type": "code",
      "source": [
        "time_steps = 100\n",
        "ts_train_len = len(train)\n",
        "ts_valid_len = len(valid)\n",
        "output = 2\n",
        "for_periods = 14"
      ],
      "metadata": {
        "id": "MzUrAbbpvmJ6"
      },
      "execution_count": null,
      "outputs": []
    },
    {
      "cell_type": "code",
      "source": [
        "X_train = []\n",
        "y_train = []\n",
        "for i in range(time_steps, ts_train_len-1):\n",
        "    X_train.append(train.iloc[i-time_steps:i])\n",
        "    y_train.append(train.iloc[i:i+1, [0,2]].values.squeeze().tolist())\n",
        "X_train, y_train = np.array(X_train), np.array(y_train)"
      ],
      "metadata": {
        "id": "6yJAPEfBvtPX"
      },
      "execution_count": null,
      "outputs": []
    },
    {
      "cell_type": "code",
      "source": [
        "X_valid = []\n",
        "y_valid = []\n",
        "for i in range(time_steps, ts_valid_len-1):\n",
        "    X_valid.append(valid.iloc[i-time_steps:i])\n",
        "    y_valid.append(valid.iloc[i:i+1, [0,2]].values.squeeze().tolist())\n",
        "X_valid, y_valid = np.array(X_valid), np.array(y_valid)"
      ],
      "metadata": {
        "id": "Uxb12cFdvtUn"
      },
      "execution_count": null,
      "outputs": []
    },
    {
      "cell_type": "code",
      "source": [
        "X_train.shape, y_train.shape"
      ],
      "metadata": {
        "colab": {
          "base_uri": "https://localhost:8080/"
        },
        "id": "12HpoDY6vtZG",
        "outputId": "9637bd6e-df12-475e-81df-2d97b7c5841a"
      },
      "execution_count": null,
      "outputs": [
        {
          "output_type": "execute_result",
          "data": {
            "text/plain": [
              "((1413, 100, 3), (1413, 2))"
            ]
          },
          "metadata": {},
          "execution_count": 11
        }
      ]
    },
    {
      "cell_type": "code",
      "source": [
        "X_valid.shape, y_valid.shape"
      ],
      "metadata": {
        "colab": {
          "base_uri": "https://localhost:8080/"
        },
        "id": "kX451WREvtdG",
        "outputId": "e3376755-46d7-4adb-939a-2a83ffa4eaab"
      },
      "execution_count": null,
      "outputs": [
        {
          "output_type": "execute_result",
          "data": {
            "text/plain": [
              "((99, 100, 3), (99, 2))"
            ]
          },
          "metadata": {},
          "execution_count": 12
        }
      ]
    },
    {
      "cell_type": "code",
      "source": [
        "X_valid[0].shape"
      ],
      "metadata": {
        "colab": {
          "base_uri": "https://localhost:8080/"
        },
        "id": "PYFq4G-mvtfd",
        "outputId": "e7f3f230-ffdf-401b-a031-38e88f5dbc46"
      },
      "execution_count": null,
      "outputs": [
        {
          "output_type": "execute_result",
          "data": {
            "text/plain": [
              "(100, 3)"
            ]
          },
          "metadata": {},
          "execution_count": 13
        }
      ]
    },
    {
      "cell_type": "code",
      "source": [
        "from tensorflow import keras\n",
        "\n",
        "model = keras.models.Sequential([\n",
        "        keras.layers.LSTM(100, input_shape=[None, X_train.shape[2]]),\n",
        "        \n",
        "        keras.layers.Dense(output)\n",
        "])"
      ],
      "metadata": {
        "id": "e4PLd721vthO"
      },
      "execution_count": null,
      "outputs": []
    },
    {
      "cell_type": "code",
      "source": [
        "optimizer=keras.optimizers.Adam()"
      ],
      "metadata": {
        "id": "-MKSkyJjvmL5"
      },
      "execution_count": null,
      "outputs": []
    },
    {
      "cell_type": "code",
      "source": [
        "optimizer.learning_rate = 0.01"
      ],
      "metadata": {
        "id": "ngsr0ZPVv07b"
      },
      "execution_count": null,
      "outputs": []
    },
    {
      "cell_type": "code",
      "source": [
        "optimizer.learning_rate"
      ],
      "metadata": {
        "colab": {
          "base_uri": "https://localhost:8080/"
        },
        "id": "sduxlz4nv1A-",
        "outputId": "d42ca634-3151-45c9-d122-ff42246648f6"
      },
      "execution_count": null,
      "outputs": [
        {
          "output_type": "execute_result",
          "data": {
            "text/plain": [
              "<tf.Variable 'learning_rate:0' shape=() dtype=float32, numpy=0.01>"
            ]
          },
          "metadata": {},
          "execution_count": 17
        }
      ]
    },
    {
      "cell_type": "code",
      "source": [
        "model.compile(loss=keras.losses.MeanSquaredError(), optimizer=keras.optimizers.Adam())"
      ],
      "metadata": {
        "id": "Vhdl6LOvv1Eq"
      },
      "execution_count": null,
      "outputs": []
    },
    {
      "cell_type": "code",
      "source": [
        "history = model.fit(X_train, y_train, epochs=100, validation_data=(X_valid, y_valid))"
      ],
      "metadata": {
        "colab": {
          "base_uri": "https://localhost:8080/"
        },
        "id": "50rPyDprv1H7",
        "outputId": "d3e1745a-b39a-4688-e002-3d0b853a73de"
      },
      "execution_count": null,
      "outputs": [
        {
          "output_type": "stream",
          "name": "stdout",
          "text": [
            "Epoch 1/100\n",
            "45/45 [==============================] - 5s 80ms/step - loss: 0.0245 - val_loss: 0.0042\n",
            "Epoch 2/100\n",
            "45/45 [==============================] - 3s 65ms/step - loss: 0.0037 - val_loss: 0.0036\n",
            "Epoch 3/100\n",
            "45/45 [==============================] - 3s 65ms/step - loss: 0.0036 - val_loss: 0.0036\n",
            "Epoch 4/100\n",
            "45/45 [==============================] - 3s 65ms/step - loss: 0.0036 - val_loss: 0.0038\n",
            "Epoch 5/100\n",
            "45/45 [==============================] - 3s 64ms/step - loss: 0.0036 - val_loss: 0.0037\n",
            "Epoch 6/100\n",
            "45/45 [==============================] - 3s 62ms/step - loss: 0.0036 - val_loss: 0.0039\n",
            "Epoch 7/100\n",
            "45/45 [==============================] - 3s 62ms/step - loss: 0.0036 - val_loss: 0.0037\n",
            "Epoch 8/100\n",
            "45/45 [==============================] - 3s 63ms/step - loss: 0.0036 - val_loss: 0.0037\n",
            "Epoch 9/100\n",
            "45/45 [==============================] - 3s 63ms/step - loss: 0.0036 - val_loss: 0.0038\n",
            "Epoch 10/100\n",
            "45/45 [==============================] - 3s 65ms/step - loss: 0.0035 - val_loss: 0.0037\n",
            "Epoch 11/100\n",
            "45/45 [==============================] - 3s 63ms/step - loss: 0.0035 - val_loss: 0.0036\n",
            "Epoch 12/100\n",
            "45/45 [==============================] - 3s 64ms/step - loss: 0.0035 - val_loss: 0.0036\n",
            "Epoch 13/100\n",
            "45/45 [==============================] - 3s 65ms/step - loss: 0.0035 - val_loss: 0.0036\n",
            "Epoch 14/100\n",
            "45/45 [==============================] - 3s 67ms/step - loss: 0.0035 - val_loss: 0.0036\n",
            "Epoch 15/100\n",
            "45/45 [==============================] - 3s 67ms/step - loss: 0.0034 - val_loss: 0.0036\n",
            "Epoch 16/100\n",
            "45/45 [==============================] - 3s 64ms/step - loss: 0.0035 - val_loss: 0.0037\n",
            "Epoch 17/100\n",
            "45/45 [==============================] - 3s 63ms/step - loss: 0.0034 - val_loss: 0.0037\n",
            "Epoch 18/100\n",
            "45/45 [==============================] - 3s 64ms/step - loss: 0.0034 - val_loss: 0.0039\n",
            "Epoch 19/100\n",
            "45/45 [==============================] - 3s 64ms/step - loss: 0.0035 - val_loss: 0.0037\n",
            "Epoch 20/100\n",
            "45/45 [==============================] - 3s 69ms/step - loss: 0.0034 - val_loss: 0.0036\n",
            "Epoch 21/100\n",
            "45/45 [==============================] - 3s 67ms/step - loss: 0.0034 - val_loss: 0.0036\n",
            "Epoch 22/100\n",
            "45/45 [==============================] - 3s 63ms/step - loss: 0.0033 - val_loss: 0.0036\n",
            "Epoch 23/100\n",
            "45/45 [==============================] - 3s 65ms/step - loss: 0.0034 - val_loss: 0.0038\n",
            "Epoch 24/100\n",
            "45/45 [==============================] - 3s 65ms/step - loss: 0.0036 - val_loss: 0.0036\n",
            "Epoch 25/100\n",
            "45/45 [==============================] - 3s 65ms/step - loss: 0.0033 - val_loss: 0.0036\n",
            "Epoch 26/100\n",
            "45/45 [==============================] - 3s 66ms/step - loss: 0.0034 - val_loss: 0.0036\n",
            "Epoch 27/100\n",
            "45/45 [==============================] - 3s 66ms/step - loss: 0.0034 - val_loss: 0.0036\n",
            "Epoch 28/100\n",
            "45/45 [==============================] - 4s 97ms/step - loss: 0.0034 - val_loss: 0.0037\n",
            "Epoch 29/100\n",
            "45/45 [==============================] - 3s 66ms/step - loss: 0.0034 - val_loss: 0.0037\n",
            "Epoch 30/100\n",
            "45/45 [==============================] - 3s 68ms/step - loss: 0.0033 - val_loss: 0.0036\n",
            "Epoch 31/100\n",
            "45/45 [==============================] - 3s 64ms/step - loss: 0.0033 - val_loss: 0.0036\n",
            "Epoch 32/100\n",
            "45/45 [==============================] - 3s 66ms/step - loss: 0.0034 - val_loss: 0.0036\n",
            "Epoch 33/100\n",
            "45/45 [==============================] - 3s 66ms/step - loss: 0.0033 - val_loss: 0.0037\n",
            "Epoch 34/100\n",
            "45/45 [==============================] - 3s 64ms/step - loss: 0.0033 - val_loss: 0.0036\n",
            "Epoch 35/100\n",
            "45/45 [==============================] - 3s 68ms/step - loss: 0.0033 - val_loss: 0.0036\n",
            "Epoch 36/100\n",
            "45/45 [==============================] - 3s 67ms/step - loss: 0.0035 - val_loss: 0.0036\n",
            "Epoch 37/100\n",
            "45/45 [==============================] - 3s 67ms/step - loss: 0.0033 - val_loss: 0.0036\n",
            "Epoch 38/100\n",
            "45/45 [==============================] - 3s 65ms/step - loss: 0.0033 - val_loss: 0.0036\n",
            "Epoch 39/100\n",
            "45/45 [==============================] - 3s 65ms/step - loss: 0.0033 - val_loss: 0.0036\n",
            "Epoch 40/100\n",
            "45/45 [==============================] - 3s 68ms/step - loss: 0.0032 - val_loss: 0.0036\n",
            "Epoch 41/100\n",
            "45/45 [==============================] - 3s 65ms/step - loss: 0.0033 - val_loss: 0.0036\n",
            "Epoch 42/100\n",
            "45/45 [==============================] - 3s 67ms/step - loss: 0.0033 - val_loss: 0.0036\n",
            "Epoch 43/100\n",
            "45/45 [==============================] - 3s 65ms/step - loss: 0.0033 - val_loss: 0.0036\n",
            "Epoch 44/100\n",
            "45/45 [==============================] - 3s 65ms/step - loss: 0.0033 - val_loss: 0.0037\n",
            "Epoch 45/100\n",
            "45/45 [==============================] - 3s 66ms/step - loss: 0.0034 - val_loss: 0.0035\n",
            "Epoch 46/100\n",
            "45/45 [==============================] - 3s 66ms/step - loss: 0.0032 - val_loss: 0.0035\n",
            "Epoch 47/100\n",
            "45/45 [==============================] - 3s 64ms/step - loss: 0.0032 - val_loss: 0.0036\n",
            "Epoch 48/100\n",
            "45/45 [==============================] - 3s 67ms/step - loss: 0.0032 - val_loss: 0.0035\n",
            "Epoch 49/100\n",
            "45/45 [==============================] - 3s 65ms/step - loss: 0.0032 - val_loss: 0.0035\n",
            "Epoch 50/100\n",
            "45/45 [==============================] - 3s 67ms/step - loss: 0.0032 - val_loss: 0.0036\n",
            "Epoch 51/100\n",
            "45/45 [==============================] - 3s 66ms/step - loss: 0.0032 - val_loss: 0.0035\n",
            "Epoch 52/100\n",
            "45/45 [==============================] - 3s 66ms/step - loss: 0.0032 - val_loss: 0.0036\n",
            "Epoch 53/100\n",
            "45/45 [==============================] - 3s 64ms/step - loss: 0.0032 - val_loss: 0.0035\n",
            "Epoch 54/100\n",
            "45/45 [==============================] - 3s 64ms/step - loss: 0.0033 - val_loss: 0.0036\n",
            "Epoch 55/100\n",
            "45/45 [==============================] - 3s 65ms/step - loss: 0.0032 - val_loss: 0.0035\n",
            "Epoch 56/100\n",
            "45/45 [==============================] - 3s 64ms/step - loss: 0.0032 - val_loss: 0.0035\n",
            "Epoch 57/100\n",
            "45/45 [==============================] - 3s 66ms/step - loss: 0.0032 - val_loss: 0.0034\n",
            "Epoch 58/100\n",
            "45/45 [==============================] - 3s 65ms/step - loss: 0.0032 - val_loss: 0.0034\n",
            "Epoch 59/100\n",
            "45/45 [==============================] - 3s 63ms/step - loss: 0.0031 - val_loss: 0.0035\n",
            "Epoch 60/100\n",
            "45/45 [==============================] - 3s 67ms/step - loss: 0.0032 - val_loss: 0.0034\n",
            "Epoch 61/100\n",
            "45/45 [==============================] - 3s 68ms/step - loss: 0.0031 - val_loss: 0.0034\n",
            "Epoch 62/100\n",
            "45/45 [==============================] - 3s 63ms/step - loss: 0.0031 - val_loss: 0.0035\n",
            "Epoch 63/100\n",
            "45/45 [==============================] - 3s 65ms/step - loss: 0.0031 - val_loss: 0.0033\n",
            "Epoch 64/100\n",
            "45/45 [==============================] - 3s 64ms/step - loss: 0.0031 - val_loss: 0.0032\n",
            "Epoch 65/100\n",
            "45/45 [==============================] - 3s 64ms/step - loss: 0.0030 - val_loss: 0.0032\n",
            "Epoch 66/100\n",
            "45/45 [==============================] - 3s 64ms/step - loss: 0.0030 - val_loss: 0.0032\n",
            "Epoch 67/100\n",
            "45/45 [==============================] - 3s 67ms/step - loss: 0.0030 - val_loss: 0.0032\n",
            "Epoch 68/100\n",
            "45/45 [==============================] - 3s 66ms/step - loss: 0.0030 - val_loss: 0.0032\n",
            "Epoch 69/100\n",
            "45/45 [==============================] - 3s 67ms/step - loss: 0.0030 - val_loss: 0.0031\n",
            "Epoch 70/100\n",
            "45/45 [==============================] - 3s 67ms/step - loss: 0.0029 - val_loss: 0.0032\n",
            "Epoch 71/100\n",
            "45/45 [==============================] - 3s 65ms/step - loss: 0.0029 - val_loss: 0.0031\n",
            "Epoch 72/100\n",
            "45/45 [==============================] - 3s 65ms/step - loss: 0.0030 - val_loss: 0.0032\n",
            "Epoch 73/100\n",
            "45/45 [==============================] - 3s 67ms/step - loss: 0.0030 - val_loss: 0.0031\n",
            "Epoch 74/100\n",
            "45/45 [==============================] - 3s 64ms/step - loss: 0.0029 - val_loss: 0.0032\n",
            "Epoch 75/100\n",
            "45/45 [==============================] - 3s 63ms/step - loss: 0.0029 - val_loss: 0.0030\n",
            "Epoch 76/100\n",
            "45/45 [==============================] - 3s 65ms/step - loss: 0.0028 - val_loss: 0.0030\n",
            "Epoch 77/100\n",
            "45/45 [==============================] - 3s 64ms/step - loss: 0.0028 - val_loss: 0.0030\n",
            "Epoch 78/100\n",
            "45/45 [==============================] - 3s 63ms/step - loss: 0.0028 - val_loss: 0.0035\n",
            "Epoch 79/100\n",
            "45/45 [==============================] - 3s 64ms/step - loss: 0.0028 - val_loss: 0.0030\n",
            "Epoch 80/100\n",
            "45/45 [==============================] - 3s 66ms/step - loss: 0.0028 - val_loss: 0.0030\n",
            "Epoch 81/100\n",
            "45/45 [==============================] - 3s 66ms/step - loss: 0.0029 - val_loss: 0.0031\n",
            "Epoch 82/100\n",
            "45/45 [==============================] - 3s 66ms/step - loss: 0.0028 - val_loss: 0.0030\n",
            "Epoch 83/100\n",
            "45/45 [==============================] - 3s 65ms/step - loss: 0.0028 - val_loss: 0.0030\n",
            "Epoch 84/100\n",
            "45/45 [==============================] - 3s 67ms/step - loss: 0.0028 - val_loss: 0.0031\n",
            "Epoch 85/100\n",
            "45/45 [==============================] - 3s 65ms/step - loss: 0.0028 - val_loss: 0.0030\n",
            "Epoch 86/100\n",
            "45/45 [==============================] - 3s 65ms/step - loss: 0.0028 - val_loss: 0.0029\n",
            "Epoch 87/100\n",
            "45/45 [==============================] - 3s 65ms/step - loss: 0.0028 - val_loss: 0.0029\n",
            "Epoch 88/100\n",
            "45/45 [==============================] - 3s 65ms/step - loss: 0.0028 - val_loss: 0.0030\n",
            "Epoch 89/100\n",
            "45/45 [==============================] - 3s 64ms/step - loss: 0.0028 - val_loss: 0.0029\n",
            "Epoch 90/100\n",
            "45/45 [==============================] - 3s 68ms/step - loss: 0.0027 - val_loss: 0.0030\n",
            "Epoch 91/100\n",
            "45/45 [==============================] - 3s 68ms/step - loss: 0.0028 - val_loss: 0.0033\n",
            "Epoch 92/100\n",
            "45/45 [==============================] - 3s 67ms/step - loss: 0.0028 - val_loss: 0.0030\n",
            "Epoch 93/100\n",
            "45/45 [==============================] - 3s 66ms/step - loss: 0.0028 - val_loss: 0.0031\n",
            "Epoch 94/100\n",
            "45/45 [==============================] - 3s 66ms/step - loss: 0.0028 - val_loss: 0.0029\n",
            "Epoch 95/100\n",
            "45/45 [==============================] - 3s 65ms/step - loss: 0.0028 - val_loss: 0.0029\n",
            "Epoch 96/100\n",
            "45/45 [==============================] - 3s 65ms/step - loss: 0.0027 - val_loss: 0.0031\n",
            "Epoch 97/100\n",
            "45/45 [==============================] - 3s 65ms/step - loss: 0.0027 - val_loss: 0.0029\n",
            "Epoch 98/100\n",
            "45/45 [==============================] - 3s 65ms/step - loss: 0.0027 - val_loss: 0.0029\n",
            "Epoch 99/100\n",
            "45/45 [==============================] - 3s 68ms/step - loss: 0.0027 - val_loss: 0.0032\n",
            "Epoch 100/100\n",
            "45/45 [==============================] - 3s 64ms/step - loss: 0.0027 - val_loss: 0.0029\n"
          ]
        }
      ]
    },
    {
      "cell_type": "code",
      "source": [
        "keras.optimizers.Adam().learning_rate"
      ],
      "metadata": {
        "colab": {
          "base_uri": "https://localhost:8080/"
        },
        "id": "i1j6UP3dv5DL",
        "outputId": "652d77b5-11f3-4ec9-ddbf-2cb941ee3833"
      },
      "execution_count": null,
      "outputs": [
        {
          "output_type": "execute_result",
          "data": {
            "text/plain": [
              "<tf.Variable 'learning_rate:0' shape=() dtype=float32, numpy=0.001>"
            ]
          },
          "metadata": {},
          "execution_count": 20
        }
      ]
    },
    {
      "cell_type": "code",
      "source": [
        "import matplotlib.pyplot as plt\n",
        "y_vloss = history.history['val_loss']\n",
        "y_loss = history.history['loss']\n",
        "\n",
        "x_len = np.arange(len(y_loss))\n",
        "plt.plot(x_len, y_vloss, marker='.', c='red', label=\"Validation-set Loss\")\n",
        "plt.plot(x_len, y_loss, marker='.', c='blue', label=\"Train-set Loss\")\n",
        "plt.title(f'time_steps : {time_steps}, periods : {for_periods}')\n",
        "plt.legend(loc='upper right')\n",
        "plt.grid()\n",
        "plt.xlabel('epoch')\n",
        "plt.ylabel('loss')\n",
        "plt.show()"
      ],
      "metadata": {
        "colab": {
          "base_uri": "https://localhost:8080/",
          "height": 295
        },
        "id": "luegxSDKv5KD",
        "outputId": "9d87e2c0-ba89-411b-e52e-a3e4f9d860fc"
      },
      "execution_count": null,
      "outputs": [
        {
          "output_type": "display_data",
          "data": {
            "image/png": "[encoded data removed]",
            "text/plain": [
              "<Figure size 432x288 with 1 Axes>"
            ]
          },
          "metadata": {
            "needs_background": "light"
          }
        }
      ]
    },
    {
      "cell_type": "code",
      "source": [
        " model.predict(X_valid)"
      ],
      "metadata": {
        "colab": {
          "base_uri": "https://localhost:8080/"
        },
        "id": "z3Het9Jbv5Mv",
        "outputId": "a2b0ee95-8cc0-4614-a103-ae2a150aaba0"
      },
      "execution_count": null,
      "outputs": [
        {
          "output_type": "execute_result",
          "data": {
            "text/plain": [
              "array([[0.32489854, 0.25042826],\n",
              "       [0.2611653 , 0.25377315],\n",
              "       [0.24584709, 0.2549672 ],\n",
              "       [0.24785058, 0.26056805],\n",
              "       [0.2434075 , 0.26606134],\n",
              "       [0.2949392 , 0.27105314],\n",
              "       [0.3233028 , 0.27273196],\n",
              "       [0.31598186, 0.2747521 ],\n",
              "       [0.26964214, 0.2756197 ],\n",
              "       [0.24281125, 0.27749518],\n",
              "       [0.23599899, 0.28117225],\n",
              "       [0.23734222, 0.28557   ],\n",
              "       [0.29129988, 0.29015237],\n",
              "       [0.3124114 , 0.29446337],\n",
              "       [0.31531978, 0.2965489 ],\n",
              "       [0.26486686, 0.2851789 ],\n",
              "       [0.20431179, 0.2763243 ],\n",
              "       [0.21605751, 0.27254233],\n",
              "       [0.24665116, 0.27325904],\n",
              "       [0.3033825 , 0.27419728],\n",
              "       [0.31204095, 0.2749513 ],\n",
              "       [0.2966197 , 0.27032983],\n",
              "       [0.2538735 , 0.26617688],\n",
              "       [0.23780505, 0.25785172],\n",
              "       [0.25728345, 0.25190789],\n",
              "       [0.2602213 , 0.25084955],\n",
              "       [0.30643916, 0.25135753],\n",
              "       [0.32281524, 0.25618434],\n",
              "       [0.29914036, 0.2496921 ],\n",
              "       [0.24820541, 0.24011277],\n",
              "       [0.22527024, 0.23169737],\n",
              "       [0.24478838, 0.23012173],\n",
              "       [0.25280207, 0.23174226],\n",
              "       [0.2969757 , 0.2351686 ],\n",
              "       [0.30688286, 0.2390019 ],\n",
              "       [0.33277732, 0.23548383],\n",
              "       [0.29285145, 0.22830682],\n",
              "       [0.2541031 , 0.21974315],\n",
              "       [0.2541239 , 0.2130026 ],\n",
              "       [0.25370595, 0.21169652],\n",
              "       [0.3259536 , 0.21477601],\n",
              "       [0.3919354 , 0.21471006],\n",
              "       [0.35382518, 0.21243659],\n",
              "       [0.2763772 , 0.20306528],\n",
              "       [0.22855222, 0.1951991 ],\n",
              "       [0.2422403 , 0.1949974 ],\n",
              "       [0.26077354, 0.19920419],\n",
              "       [0.2893108 , 0.20326531],\n",
              "       [0.29146284, 0.20487082],\n",
              "       [0.29689196, 0.20582862],\n",
              "       [0.27244765, 0.20946279],\n",
              "       [0.25465328, 0.21268857],\n",
              "       [0.24383147, 0.21486385],\n",
              "       [0.26505637, 0.2228123 ],\n",
              "       [0.29075924, 0.22599289],\n",
              "       [0.27105728, 0.22741336],\n",
              "       [0.28902453, 0.22875836],\n",
              "       [0.2925257 , 0.22944298],\n",
              "       [0.2835901 , 0.22874638],\n",
              "       [0.28523022, 0.22824463],\n",
              "       [0.27302104, 0.22790405],\n",
              "       [0.28636137, 0.22389427],\n",
              "       [0.29695016, 0.22258872],\n",
              "       [0.27804273, 0.22131911],\n",
              "       [0.30560797, 0.22185016],\n",
              "       [0.31124413, 0.22484815],\n",
              "       [0.30915806, 0.22868377],\n",
              "       [0.27681   , 0.23232421],\n",
              "       [0.26795235, 0.23653656],\n",
              "       [0.2523399 , 0.23699577],\n",
              "       [0.23713611, 0.23732018],\n",
              "       [0.27885178, 0.23891416],\n",
              "       [0.3163766 , 0.2417296 ],\n",
              "       [0.31023285, 0.24687013],\n",
              "       [0.26705697, 0.24583258],\n",
              "       [0.23783468, 0.23886557],\n",
              "       [0.2389745 , 0.23609778],\n",
              "       [0.2473328 , 0.23560706],\n",
              "       [0.30105382, 0.23846224],\n",
              "       [0.32162753, 0.24711812],\n",
              "       [0.31578237, 0.257042  ],\n",
              "       [0.27424657, 0.26393315],\n",
              "       [0.24658604, 0.2696145 ],\n",
              "       [0.24768682, 0.27593386],\n",
              "       [0.2505321 , 0.28094682],\n",
              "       [0.30671257, 0.28552422],\n",
              "       [0.32777464, 0.2837718 ],\n",
              "       [0.3204798 , 0.28340575],\n",
              "       [0.26499426, 0.27798176],\n",
              "       [0.2452131 , 0.27466395],\n",
              "       [0.2446825 , 0.27330217],\n",
              "       [0.2564859 , 0.27446505],\n",
              "       [0.301668  , 0.27548498],\n",
              "       [0.32082295, 0.27506116],\n",
              "       [0.29121885, 0.27672693],\n",
              "       [0.24387772, 0.27127475],\n",
              "       [0.1948375 , 0.2663187 ],\n",
              "       [0.21092473, 0.25999743],\n",
              "       [0.24907823, 0.25772667]], dtype=float32)"
            ]
          },
          "metadata": {},
          "execution_count": 22
        }
      ]
    },
    {
      "cell_type": "code",
      "source": [
        "import matplotlib.pyplot as plt\n",
        "\n",
        "plt.figure(figsize = (10, 4))\n",
        "plt.plot(valid.iloc[:-1, [0,2]])\n",
        "plt.plot(valid.iloc[:-1, 1], alpha = 0.4)\n",
        "plt.plot(range(1+time_steps, len(X_valid) + time_steps+1), model.predict(X_valid)[:, :])\n",
        "plt.vlines(time_steps+1, 0, 1, color = 'red', linestyle = '--')\n",
        "plt.ylim(valid.iloc[:-1, 0].values.min() - 0.1,valid.iloc[:-1, 0].values.max()+0.1)\n",
        "plt.legend(['True_sales', 'True_oil', 'True_promotion', 'Predict_sales', 'Predict_oli'], loc='center left', bbox_to_anchor=(1, 0.5))\n",
        "\n",
        "\n",
        "plt.show()"
      ],
      "metadata": {
        "colab": {
          "base_uri": "https://localhost:8080/",
          "height": 265
        },
        "id": "3zWCvJKxv5PH",
        "outputId": "3959a324-d550-44ba-e399-0e2915804d92"
      },
      "execution_count": null,
      "outputs": [
        {
          "output_type": "display_data",
          "data": {
            "image/png": "[encoded data removed]",
            "text/plain": [
              "<Figure size 720x288 with 1 Axes>"
            ]
          },
          "metadata": {
            "needs_background": "light"
          }
        }
      ]
    },
    {
      "cell_type": "code",
      "source": [
        ""
      ],
      "metadata": {
        "id": "47vrK6w9v-Tz"
      },
      "execution_count": null,
      "outputs": []
    },
    {
      "cell_type": "code",
      "source": [
        ""
      ],
      "metadata": {
        "id": "9crOpHUvv-V7"
      },
      "execution_count": null,
      "outputs": []
    },
    {
      "cell_type": "code",
      "source": [
        ""
      ],
      "metadata": {
        "id": "9_KCmnWUv-X-"
      },
      "execution_count": null,
      "outputs": []
    },
    {
      "cell_type": "code",
      "source": [
        ""
      ],
      "metadata": {
        "id": "zgxS26Y6v-aX"
      },
      "execution_count": null,
      "outputs": []
    },
    {
      "cell_type": "code",
      "source": [
        ""
      ],
      "metadata": {
        "id": "YvbFmPePv-b9"
      },
      "execution_count": null,
      "outputs": []
    },
    {
      "cell_type": "code",
      "source": [
        ""
      ],
      "metadata": {
        "id": "Z13J-HMrvmNt"
      },
      "execution_count": null,
      "outputs": []
    }
  ]
}
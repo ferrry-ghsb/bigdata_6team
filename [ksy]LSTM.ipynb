{
  "nbformat": 4,
  "nbformat_minor": 0,
  "metadata": {
    "colab": {
      "name": "[ksy]LSTM.ipynb",
      "provenance": [],
      "collapsed_sections": [],
      "include_colab_link": true
    },
    "kernelspec": {
      "name": "python3",
      "display_name": "Python 3"
    },
    "language_info": {
      "name": "python"
    },
    "accelerator": "GPU"
  },
  "cells": [
    {
      "cell_type": "markdown",
      "metadata": {
        "id": "view-in-github",
        "colab_type": "text"
      },
      "source": [
        "<a href=\"https://colab.research.google.com/github/ferrry-ghsb/bigdata_6team/blob/main/%5Bksy%5DLSTM.ipynb\" target=\"_parent\"><img src=\"https://colab.research.google.com/assets/colab-badge.svg\" alt=\"Open In Colab\"/></a>"
      ]
    },
    {
      "cell_type": "code",
      "metadata": {
        "id": "kHjd8vGzQWs7"
      },
      "source": [
        "import os\n",
        "import pandas as pd"
      ],
      "execution_count": 1,
      "outputs": []
    },
    {
      "cell_type": "code",
      "metadata": {
        "colab": {
          "base_uri": "https://localhost:8080/"
        },
        "id": "mynhOw8BXA-x",
        "outputId": "7f8bb6c8-241d-4f82-a352-a4aa00ff7290"
      },
      "source": [
        "from google.colab import drive\n",
        "drive.mount('/content/drive')"
      ],
      "execution_count": 2,
      "outputs": [
        {
          "output_type": "stream",
          "name": "stdout",
          "text": [
            "Mounted at /content/drive\n"
          ]
        }
      ]
    },
    {
      "cell_type": "code",
      "metadata": {
        "id": "FmHdfEchOYdk"
      },
      "source": [
        "#전처리 완료된 파일 불러오기\n",
        "train = pd.read_csv('/content/drive/MyDrive/수업/빅데이터분석/데이터/gro_train.csv')\n",
        "test = pd.read_csv('/content/drive/MyDrive/수업/빅데이터분석/데이터/gro_test.csv')"
      ],
      "execution_count": 3,
      "outputs": []
    },
    {
      "cell_type": "code",
      "metadata": {
        "colab": {
          "base_uri": "https://localhost:8080/",
          "height": 424
        },
        "id": "T_qpTLXAAMHc",
        "outputId": "25fb5d6f-ff54-4dca-bf28-f33810023476"
      },
      "source": [
        "train"
      ],
      "execution_count": 4,
      "outputs": [
        {
          "output_type": "execute_result",
          "data": {
            "text/html": [
              "<div>\n",
              "<style scoped>\n",
              "    .dataframe tbody tr th:only-of-type {\n",
              "        vertical-align: middle;\n",
              "    }\n",
              "\n",
              "    .dataframe tbody tr th {\n",
              "        vertical-align: top;\n",
              "    }\n",
              "\n",
              "    .dataframe thead th {\n",
              "        text-align: right;\n",
              "    }\n",
              "</style>\n",
              "<table border=\"1\" class=\"dataframe\">\n",
              "  <thead>\n",
              "    <tr style=\"text-align: right;\">\n",
              "      <th></th>\n",
              "      <th>Unnamed: 0</th>\n",
              "      <th>0</th>\n",
              "      <th>1</th>\n",
              "      <th>2</th>\n",
              "    </tr>\n",
              "  </thead>\n",
              "  <tbody>\n",
              "    <tr>\n",
              "      <th>0</th>\n",
              "      <td>0</td>\n",
              "      <td>0.000000</td>\n",
              "      <td>0.000000</td>\n",
              "      <td>0.792965</td>\n",
              "    </tr>\n",
              "    <tr>\n",
              "      <th>1</th>\n",
              "      <td>1</td>\n",
              "      <td>0.292554</td>\n",
              "      <td>0.000000</td>\n",
              "      <td>0.792965</td>\n",
              "    </tr>\n",
              "    <tr>\n",
              "      <th>2</th>\n",
              "      <td>2</td>\n",
              "      <td>0.233977</td>\n",
              "      <td>0.000000</td>\n",
              "      <td>0.790951</td>\n",
              "    </tr>\n",
              "    <tr>\n",
              "      <th>3</th>\n",
              "      <td>3</td>\n",
              "      <td>0.226806</td>\n",
              "      <td>0.000000</td>\n",
              "      <td>0.792728</td>\n",
              "    </tr>\n",
              "    <tr>\n",
              "      <th>4</th>\n",
              "      <td>4</td>\n",
              "      <td>0.244457</td>\n",
              "      <td>0.000000</td>\n",
              "      <td>0.793675</td>\n",
              "    </tr>\n",
              "    <tr>\n",
              "      <th>...</th>\n",
              "      <td>...</td>\n",
              "      <td>...</td>\n",
              "      <td>...</td>\n",
              "      <td>...</td>\n",
              "    </tr>\n",
              "    <tr>\n",
              "      <th>1509</th>\n",
              "      <td>1509</td>\n",
              "      <td>0.335245</td>\n",
              "      <td>0.185629</td>\n",
              "      <td>0.319673</td>\n",
              "    </tr>\n",
              "    <tr>\n",
              "      <th>1510</th>\n",
              "      <td>1510</td>\n",
              "      <td>0.307998</td>\n",
              "      <td>0.173653</td>\n",
              "      <td>0.313159</td>\n",
              "    </tr>\n",
              "    <tr>\n",
              "      <th>1511</th>\n",
              "      <td>1511</td>\n",
              "      <td>0.149366</td>\n",
              "      <td>0.137725</td>\n",
              "      <td>0.313159</td>\n",
              "    </tr>\n",
              "    <tr>\n",
              "      <th>1512</th>\n",
              "      <td>1512</td>\n",
              "      <td>0.307998</td>\n",
              "      <td>0.161677</td>\n",
              "      <td>0.313159</td>\n",
              "    </tr>\n",
              "    <tr>\n",
              "      <th>1513</th>\n",
              "      <td>1513</td>\n",
              "      <td>0.271704</td>\n",
              "      <td>0.191617</td>\n",
              "      <td>0.314580</td>\n",
              "    </tr>\n",
              "  </tbody>\n",
              "</table>\n",
              "<p>1514 rows × 4 columns</p>\n",
              "</div>"
            ],
            "text/plain": [
              "      Unnamed: 0         0         1         2\n",
              "0              0  0.000000  0.000000  0.792965\n",
              "1              1  0.292554  0.000000  0.792965\n",
              "2              2  0.233977  0.000000  0.790951\n",
              "3              3  0.226806  0.000000  0.792728\n",
              "4              4  0.244457  0.000000  0.793675\n",
              "...          ...       ...       ...       ...\n",
              "1509        1509  0.335245  0.185629  0.319673\n",
              "1510        1510  0.307998  0.173653  0.313159\n",
              "1511        1511  0.149366  0.137725  0.313159\n",
              "1512        1512  0.307998  0.161677  0.313159\n",
              "1513        1513  0.271704  0.191617  0.314580\n",
              "\n",
              "[1514 rows x 4 columns]"
            ]
          },
          "metadata": {},
          "execution_count": 4
        }
      ]
    },
    {
      "cell_type": "code",
      "source": [
        "len(train)"
      ],
      "metadata": {
        "colab": {
          "base_uri": "https://localhost:8080/"
        },
        "id": "QMWsaj38MXmk",
        "outputId": "2aa73216-14f8-4924-db7b-8a5e46399e72"
      },
      "execution_count": 18,
      "outputs": [
        {
          "output_type": "execute_result",
          "data": {
            "text/plain": [
              "1514"
            ]
          },
          "metadata": {},
          "execution_count": 18
        }
      ]
    },
    {
      "cell_type": "code",
      "source": [
        "train[6:7]"
      ],
      "metadata": {
        "colab": {
          "base_uri": "https://localhost:8080/",
          "height": 81
        },
        "id": "zjQW2Yy6NUHO",
        "outputId": "6f24aa7e-04ca-4415-f133-b56ecc7f9bf2"
      },
      "execution_count": 26,
      "outputs": [
        {
          "output_type": "execute_result",
          "data": {
            "text/html": [
              "<div>\n",
              "<style scoped>\n",
              "    .dataframe tbody tr th:only-of-type {\n",
              "        vertical-align: middle;\n",
              "    }\n",
              "\n",
              "    .dataframe tbody tr th {\n",
              "        vertical-align: top;\n",
              "    }\n",
              "\n",
              "    .dataframe thead th {\n",
              "        text-align: right;\n",
              "    }\n",
              "</style>\n",
              "<table border=\"1\" class=\"dataframe\">\n",
              "  <thead>\n",
              "    <tr style=\"text-align: right;\">\n",
              "      <th></th>\n",
              "      <th>Unnamed: 0</th>\n",
              "      <th>0</th>\n",
              "      <th>1</th>\n",
              "      <th>2</th>\n",
              "    </tr>\n",
              "  </thead>\n",
              "  <tbody>\n",
              "    <tr>\n",
              "      <th>6</th>\n",
              "      <td>6</td>\n",
              "      <td>0.249531</td>\n",
              "      <td>0.0</td>\n",
              "      <td>0.793675</td>\n",
              "    </tr>\n",
              "  </tbody>\n",
              "</table>\n",
              "</div>"
            ],
            "text/plain": [
              "   Unnamed: 0         0    1         2\n",
              "6           6  0.249531  0.0  0.793675"
            ]
          },
          "metadata": {},
          "execution_count": 26
        }
      ]
    },
    {
      "cell_type": "code",
      "source": [
        "train= train.iloc[:, 1:4]"
      ],
      "metadata": {
        "id": "r3yG8fgLQFzf"
      },
      "execution_count": 50,
      "outputs": []
    },
    {
      "cell_type": "code",
      "source": [
        "test= test.iloc[:, 1:4]"
      ],
      "metadata": {
        "id": "6Z4c3XgLN7J7"
      },
      "execution_count": 51,
      "outputs": []
    },
    {
      "cell_type": "code",
      "source": [
        "time_steps = 7\n",
        "target = 1\n",
        "train_len = len(train)\n",
        "test_len = len(test)"
      ],
      "metadata": {
        "id": "VYKaIgCnMPAf"
      },
      "execution_count": 19,
      "outputs": []
    },
    {
      "cell_type": "code",
      "source": [
        "X_train = []\n",
        "Y_train = []\n",
        "for i in range(time_steps, train_len-1):\n",
        "  X_train.append(train[i-time_steps:i])\n",
        "  Y_train.append(train.iloc[i, 0])\n",
        "\n",
        "X_train, Y_train = np.array(X_train), np.array(Y_train)"
      ],
      "metadata": {
        "id": "k3OIRbj2MbrD"
      },
      "execution_count": 75,
      "outputs": []
    },
    {
      "cell_type": "code",
      "source": [
        "X_test = []\n",
        "Y_test = []\n",
        "for i in range(time_steps, test_len-1):\n",
        "  X_test.append(test[i-time_steps:i])\n",
        "  Y_test.append(test.iloc[i, 0])\n",
        "\n",
        "X_test, Y_test = np.array(X_test), np.array(Y_test)"
      ],
      "metadata": {
        "id": "hbqnsruaNJdW"
      },
      "execution_count": 76,
      "outputs": []
    },
    {
      "cell_type": "code",
      "source": [
        "X_train.shape, Y_train.shape"
      ],
      "metadata": {
        "colab": {
          "base_uri": "https://localhost:8080/"
        },
        "id": "GsetG6WjNlqH",
        "outputId": "6ade752a-365c-40fb-a86d-1b5f1ed37257"
      },
      "execution_count": 77,
      "outputs": [
        {
          "output_type": "execute_result",
          "data": {
            "text/plain": [
              "((1506, 7, 3), (1506,))"
            ]
          },
          "metadata": {},
          "execution_count": 77
        }
      ]
    },
    {
      "cell_type": "code",
      "source": [
        "X_test.shape, Y_test.shape"
      ],
      "metadata": {
        "colab": {
          "base_uri": "https://localhost:8080/"
        },
        "id": "hAQUc9gnNyXW",
        "outputId": "e374da82-1d68-4639-df73-992ee743201f"
      },
      "execution_count": 78,
      "outputs": [
        {
          "output_type": "execute_result",
          "data": {
            "text/plain": [
              "((192, 7, 3), (192,))"
            ]
          },
          "metadata": {},
          "execution_count": 78
        }
      ]
    },
    {
      "cell_type": "code",
      "source": [
        "from keras.layers import LSTM \n",
        "from keras.models import Sequential \n",
        "from keras.layers import Dense \n",
        "import keras.backend as K \n",
        "from keras.callbacks import EarlyStopping"
      ],
      "metadata": {
        "id": "SaGSchaHOFQg"
      },
      "execution_count": 79,
      "outputs": []
    },
    {
      "cell_type": "code",
      "source": [
        "K.clear_session()\n",
        "model = Sequential() # Sequeatial Model \n",
        "model.add(LSTM(20, input_shape=(None, 3))) # (timestep, feature) \n",
        "model.add(Dense(1)) # output = 1 \n",
        "model.compile(loss='mean_squared_error', optimizer='adam') \n",
        "\n",
        "model.summary()"
      ],
      "metadata": {
        "colab": {
          "base_uri": "https://localhost:8080/"
        },
        "id": "FWeVQ_zIOUFk",
        "outputId": "fdc5b924-c576-48e1-a184-c00e5e68b764"
      },
      "execution_count": 80,
      "outputs": [
        {
          "output_type": "stream",
          "name": "stdout",
          "text": [
            "Model: \"sequential\"\n",
            "_________________________________________________________________\n",
            " Layer (type)                Output Shape              Param #   \n",
            "=================================================================\n",
            " lstm (LSTM)                 (None, 20)                1920      \n",
            "                                                                 \n",
            " dense (Dense)               (None, 1)                 21        \n",
            "                                                                 \n",
            "=================================================================\n",
            "Total params: 1,941\n",
            "Trainable params: 1,941\n",
            "Non-trainable params: 0\n",
            "_________________________________________________________________\n"
          ]
        }
      ]
    },
    {
      "cell_type": "code",
      "source": [
        "history = model.fit(X_train, Y_train, epochs=100, validation_data=(X_test, Y_test))"
      ],
      "metadata": {
        "colab": {
          "base_uri": "https://localhost:8080/"
        },
        "id": "h5XGHz74O4fR",
        "outputId": "9b87b672-67cb-479f-ccf8-906f200317dd"
      },
      "execution_count": 81,
      "outputs": [
        {
          "output_type": "stream",
          "name": "stdout",
          "text": [
            "Epoch 1/100\n",
            "48/48 [==============================] - 3s 18ms/step - loss: 0.0192 - val_loss: 0.0097\n",
            "Epoch 2/100\n",
            "48/48 [==============================] - 0s 6ms/step - loss: 0.0065 - val_loss: 0.0084\n",
            "Epoch 3/100\n",
            "48/48 [==============================] - 0s 7ms/step - loss: 0.0062 - val_loss: 0.0080\n",
            "Epoch 4/100\n",
            "48/48 [==============================] - 0s 6ms/step - loss: 0.0062 - val_loss: 0.0079\n",
            "Epoch 5/100\n",
            "48/48 [==============================] - 0s 6ms/step - loss: 0.0062 - val_loss: 0.0080\n",
            "Epoch 6/100\n",
            "48/48 [==============================] - 0s 6ms/step - loss: 0.0062 - val_loss: 0.0081\n",
            "Epoch 7/100\n",
            "48/48 [==============================] - 0s 6ms/step - loss: 0.0062 - val_loss: 0.0080\n",
            "Epoch 8/100\n",
            "48/48 [==============================] - 0s 6ms/step - loss: 0.0061 - val_loss: 0.0080\n",
            "Epoch 9/100\n",
            "48/48 [==============================] - 0s 6ms/step - loss: 0.0061 - val_loss: 0.0079\n",
            "Epoch 10/100\n",
            "48/48 [==============================] - 0s 6ms/step - loss: 0.0061 - val_loss: 0.0079\n",
            "Epoch 11/100\n",
            "48/48 [==============================] - 0s 6ms/step - loss: 0.0061 - val_loss: 0.0082\n",
            "Epoch 12/100\n",
            "48/48 [==============================] - 0s 6ms/step - loss: 0.0062 - val_loss: 0.0079\n",
            "Epoch 13/100\n",
            "48/48 [==============================] - 0s 6ms/step - loss: 0.0061 - val_loss: 0.0078\n",
            "Epoch 14/100\n",
            "48/48 [==============================] - 0s 7ms/step - loss: 0.0060 - val_loss: 0.0080\n",
            "Epoch 15/100\n",
            "48/48 [==============================] - 0s 6ms/step - loss: 0.0061 - val_loss: 0.0078\n",
            "Epoch 16/100\n",
            "48/48 [==============================] - 0s 7ms/step - loss: 0.0061 - val_loss: 0.0079\n",
            "Epoch 17/100\n",
            "48/48 [==============================] - 0s 6ms/step - loss: 0.0060 - val_loss: 0.0078\n",
            "Epoch 18/100\n",
            "48/48 [==============================] - 0s 6ms/step - loss: 0.0060 - val_loss: 0.0078\n",
            "Epoch 19/100\n",
            "48/48 [==============================] - 0s 6ms/step - loss: 0.0061 - val_loss: 0.0077\n",
            "Epoch 20/100\n",
            "48/48 [==============================] - 0s 6ms/step - loss: 0.0060 - val_loss: 0.0079\n",
            "Epoch 21/100\n",
            "48/48 [==============================] - 0s 7ms/step - loss: 0.0061 - val_loss: 0.0077\n",
            "Epoch 22/100\n",
            "48/48 [==============================] - 0s 6ms/step - loss: 0.0060 - val_loss: 0.0078\n",
            "Epoch 23/100\n",
            "48/48 [==============================] - 0s 6ms/step - loss: 0.0059 - val_loss: 0.0077\n",
            "Epoch 24/100\n",
            "48/48 [==============================] - 0s 7ms/step - loss: 0.0060 - val_loss: 0.0077\n",
            "Epoch 25/100\n",
            "48/48 [==============================] - 0s 6ms/step - loss: 0.0059 - val_loss: 0.0078\n",
            "Epoch 26/100\n",
            "48/48 [==============================] - 0s 7ms/step - loss: 0.0059 - val_loss: 0.0078\n",
            "Epoch 27/100\n",
            "48/48 [==============================] - 0s 6ms/step - loss: 0.0059 - val_loss: 0.0076\n",
            "Epoch 28/100\n",
            "48/48 [==============================] - 0s 6ms/step - loss: 0.0059 - val_loss: 0.0076\n",
            "Epoch 29/100\n",
            "48/48 [==============================] - 0s 6ms/step - loss: 0.0059 - val_loss: 0.0076\n",
            "Epoch 30/100\n",
            "48/48 [==============================] - 0s 7ms/step - loss: 0.0058 - val_loss: 0.0076\n",
            "Epoch 31/100\n",
            "48/48 [==============================] - 0s 6ms/step - loss: 0.0058 - val_loss: 0.0075\n",
            "Epoch 32/100\n",
            "48/48 [==============================] - 0s 6ms/step - loss: 0.0058 - val_loss: 0.0077\n",
            "Epoch 33/100\n",
            "48/48 [==============================] - 0s 6ms/step - loss: 0.0057 - val_loss: 0.0075\n",
            "Epoch 34/100\n",
            "48/48 [==============================] - 0s 7ms/step - loss: 0.0057 - val_loss: 0.0073\n",
            "Epoch 35/100\n",
            "48/48 [==============================] - 0s 6ms/step - loss: 0.0057 - val_loss: 0.0072\n",
            "Epoch 36/100\n",
            "48/48 [==============================] - 0s 7ms/step - loss: 0.0056 - val_loss: 0.0072\n",
            "Epoch 37/100\n",
            "48/48 [==============================] - 0s 7ms/step - loss: 0.0056 - val_loss: 0.0074\n",
            "Epoch 38/100\n",
            "48/48 [==============================] - 0s 7ms/step - loss: 0.0056 - val_loss: 0.0069\n",
            "Epoch 39/100\n",
            "48/48 [==============================] - 0s 7ms/step - loss: 0.0056 - val_loss: 0.0070\n",
            "Epoch 40/100\n",
            "48/48 [==============================] - 0s 7ms/step - loss: 0.0054 - val_loss: 0.0067\n",
            "Epoch 41/100\n",
            "48/48 [==============================] - 0s 6ms/step - loss: 0.0052 - val_loss: 0.0066\n",
            "Epoch 42/100\n",
            "48/48 [==============================] - 0s 6ms/step - loss: 0.0052 - val_loss: 0.0066\n",
            "Epoch 43/100\n",
            "48/48 [==============================] - 0s 6ms/step - loss: 0.0051 - val_loss: 0.0067\n",
            "Epoch 44/100\n",
            "48/48 [==============================] - 0s 6ms/step - loss: 0.0050 - val_loss: 0.0065\n",
            "Epoch 45/100\n",
            "48/48 [==============================] - 0s 6ms/step - loss: 0.0050 - val_loss: 0.0065\n",
            "Epoch 46/100\n",
            "48/48 [==============================] - 0s 6ms/step - loss: 0.0049 - val_loss: 0.0064\n",
            "Epoch 47/100\n",
            "48/48 [==============================] - 0s 6ms/step - loss: 0.0050 - val_loss: 0.0070\n",
            "Epoch 48/100\n",
            "48/48 [==============================] - 0s 6ms/step - loss: 0.0050 - val_loss: 0.0063\n",
            "Epoch 49/100\n",
            "48/48 [==============================] - 0s 6ms/step - loss: 0.0049 - val_loss: 0.0063\n",
            "Epoch 50/100\n",
            "48/48 [==============================] - 0s 6ms/step - loss: 0.0049 - val_loss: 0.0064\n",
            "Epoch 51/100\n",
            "48/48 [==============================] - 0s 6ms/step - loss: 0.0050 - val_loss: 0.0063\n",
            "Epoch 52/100\n",
            "48/48 [==============================] - 0s 6ms/step - loss: 0.0049 - val_loss: 0.0065\n",
            "Epoch 53/100\n",
            "48/48 [==============================] - 0s 6ms/step - loss: 0.0047 - val_loss: 0.0065\n",
            "Epoch 54/100\n",
            "48/48 [==============================] - 0s 7ms/step - loss: 0.0049 - val_loss: 0.0062\n",
            "Epoch 55/100\n",
            "48/48 [==============================] - 0s 7ms/step - loss: 0.0047 - val_loss: 0.0062\n",
            "Epoch 56/100\n",
            "48/48 [==============================] - 0s 6ms/step - loss: 0.0047 - val_loss: 0.0062\n",
            "Epoch 57/100\n",
            "48/48 [==============================] - 0s 7ms/step - loss: 0.0050 - val_loss: 0.0063\n",
            "Epoch 58/100\n",
            "48/48 [==============================] - 0s 6ms/step - loss: 0.0049 - val_loss: 0.0062\n",
            "Epoch 59/100\n",
            "48/48 [==============================] - 0s 6ms/step - loss: 0.0047 - val_loss: 0.0061\n",
            "Epoch 60/100\n",
            "48/48 [==============================] - 0s 7ms/step - loss: 0.0047 - val_loss: 0.0065\n",
            "Epoch 61/100\n",
            "48/48 [==============================] - 0s 6ms/step - loss: 0.0047 - val_loss: 0.0061\n",
            "Epoch 62/100\n",
            "48/48 [==============================] - 0s 6ms/step - loss: 0.0046 - val_loss: 0.0060\n",
            "Epoch 63/100\n",
            "48/48 [==============================] - 0s 6ms/step - loss: 0.0046 - val_loss: 0.0060\n",
            "Epoch 64/100\n",
            "48/48 [==============================] - 0s 6ms/step - loss: 0.0046 - val_loss: 0.0061\n",
            "Epoch 65/100\n",
            "48/48 [==============================] - 0s 6ms/step - loss: 0.0046 - val_loss: 0.0061\n",
            "Epoch 66/100\n",
            "48/48 [==============================] - 0s 6ms/step - loss: 0.0046 - val_loss: 0.0059\n",
            "Epoch 67/100\n",
            "48/48 [==============================] - 0s 6ms/step - loss: 0.0046 - val_loss: 0.0063\n",
            "Epoch 68/100\n",
            "48/48 [==============================] - 0s 7ms/step - loss: 0.0046 - val_loss: 0.0059\n",
            "Epoch 69/100\n",
            "48/48 [==============================] - 0s 6ms/step - loss: 0.0045 - val_loss: 0.0062\n",
            "Epoch 70/100\n",
            "48/48 [==============================] - 0s 6ms/step - loss: 0.0048 - val_loss: 0.0060\n",
            "Epoch 71/100\n",
            "48/48 [==============================] - 0s 6ms/step - loss: 0.0045 - val_loss: 0.0059\n",
            "Epoch 72/100\n",
            "48/48 [==============================] - 0s 7ms/step - loss: 0.0045 - val_loss: 0.0058\n",
            "Epoch 73/100\n",
            "48/48 [==============================] - 0s 7ms/step - loss: 0.0045 - val_loss: 0.0060\n",
            "Epoch 74/100\n",
            "48/48 [==============================] - 0s 7ms/step - loss: 0.0046 - val_loss: 0.0068\n",
            "Epoch 75/100\n",
            "48/48 [==============================] - 0s 6ms/step - loss: 0.0046 - val_loss: 0.0058\n",
            "Epoch 76/100\n",
            "48/48 [==============================] - 0s 7ms/step - loss: 0.0045 - val_loss: 0.0058\n",
            "Epoch 77/100\n",
            "48/48 [==============================] - 0s 8ms/step - loss: 0.0045 - val_loss: 0.0058\n",
            "Epoch 78/100\n",
            "48/48 [==============================] - 0s 6ms/step - loss: 0.0044 - val_loss: 0.0057\n",
            "Epoch 79/100\n",
            "48/48 [==============================] - 0s 7ms/step - loss: 0.0045 - val_loss: 0.0059\n",
            "Epoch 80/100\n",
            "48/48 [==============================] - 0s 7ms/step - loss: 0.0044 - val_loss: 0.0059\n",
            "Epoch 81/100\n",
            "48/48 [==============================] - 0s 6ms/step - loss: 0.0044 - val_loss: 0.0057\n",
            "Epoch 82/100\n",
            "48/48 [==============================] - 0s 6ms/step - loss: 0.0046 - val_loss: 0.0057\n",
            "Epoch 83/100\n",
            "48/48 [==============================] - 0s 6ms/step - loss: 0.0044 - val_loss: 0.0057\n",
            "Epoch 84/100\n",
            "48/48 [==============================] - 0s 6ms/step - loss: 0.0044 - val_loss: 0.0056\n",
            "Epoch 85/100\n",
            "48/48 [==============================] - 0s 6ms/step - loss: 0.0043 - val_loss: 0.0057\n",
            "Epoch 86/100\n",
            "48/48 [==============================] - 0s 6ms/step - loss: 0.0044 - val_loss: 0.0056\n",
            "Epoch 87/100\n",
            "48/48 [==============================] - 0s 6ms/step - loss: 0.0044 - val_loss: 0.0057\n",
            "Epoch 88/100\n",
            "48/48 [==============================] - 0s 6ms/step - loss: 0.0044 - val_loss: 0.0058\n",
            "Epoch 89/100\n",
            "48/48 [==============================] - 0s 6ms/step - loss: 0.0045 - val_loss: 0.0075\n",
            "Epoch 90/100\n",
            "48/48 [==============================] - 0s 6ms/step - loss: 0.0045 - val_loss: 0.0056\n",
            "Epoch 91/100\n",
            "48/48 [==============================] - 0s 6ms/step - loss: 0.0043 - val_loss: 0.0055\n",
            "Epoch 92/100\n",
            "48/48 [==============================] - 0s 6ms/step - loss: 0.0042 - val_loss: 0.0055\n",
            "Epoch 93/100\n",
            "48/48 [==============================] - 0s 6ms/step - loss: 0.0043 - val_loss: 0.0055\n",
            "Epoch 94/100\n",
            "48/48 [==============================] - 0s 6ms/step - loss: 0.0044 - val_loss: 0.0055\n",
            "Epoch 95/100\n",
            "48/48 [==============================] - 0s 6ms/step - loss: 0.0043 - val_loss: 0.0056\n",
            "Epoch 96/100\n",
            "48/48 [==============================] - 0s 7ms/step - loss: 0.0043 - val_loss: 0.0056\n",
            "Epoch 97/100\n",
            "48/48 [==============================] - 0s 7ms/step - loss: 0.0044 - val_loss: 0.0054\n",
            "Epoch 98/100\n",
            "48/48 [==============================] - 0s 7ms/step - loss: 0.0043 - val_loss: 0.0054\n",
            "Epoch 99/100\n",
            "48/48 [==============================] - 0s 7ms/step - loss: 0.0042 - val_loss: 0.0060\n",
            "Epoch 100/100\n",
            "48/48 [==============================] - 0s 6ms/step - loss: 0.0043 - val_loss: 0.0053\n"
          ]
        }
      ]
    },
    {
      "cell_type": "code",
      "metadata": {
        "id": "HIZQnJ82PAZ5",
        "colab": {
          "base_uri": "https://localhost:8080/",
          "height": 279
        },
        "outputId": "71734562-7386-4434-9ac9-8a03e8a1f171"
      },
      "source": [
        "import matplotlib.pyplot as plt\n",
        "y_vloss = history.history['val_loss']\n",
        "y_loss = history.history['loss']\n",
        "\n",
        "x_len = np.arange(len(y_loss))\n",
        "plt.plot(x_len, y_vloss, marker='.', c='red', label=\"Validation-set Loss\")\n",
        "plt.plot(x_len, y_loss, marker='.', c='blue', label=\"Train-set Loss\")\n",
        "\n",
        "plt.legend(loc='upper right')\n",
        "plt.grid()\n",
        "plt.xlabel('epoch')\n",
        "plt.ylabel('loss')\n",
        "plt.show()"
      ],
      "execution_count": 82,
      "outputs": [
        {
          "output_type": "display_data",
          "data": {
            "image/png": "[encoded data removed]",
            "text/plain": [
              "<Figure size 432x288 with 1 Axes>"
            ]
          },
          "metadata": {
            "needs_background": "light"
          }
        }
      ]
    },
    {
      "cell_type": "code",
      "metadata": {
        "id": "TurcPK9AWwrf"
      },
      "source": [
        "def plot_predict(a = 0):\n",
        "    len_stor = range(1, 55)\n",
        "    len_family = range(33)\n",
        "\n",
        "    column_name = []\n",
        "    for store in len_stor:\n",
        "        for family in len_family:\n",
        "            column_name+= [f\"store : {store} family : {store_family.loc[store].iloc[family].name}\"]\n",
        "                \n",
        "    plt.plot(scaler.transform(sales_data)[-77:,a])\n",
        "    plt.plot(model.predict(X_valid)[:, a])\n",
        "    plt.title(column_name[a])\n",
        "    plt.legend(['True', 'Predict'])\n",
        "    plt.show()"
      ],
      "execution_count": 83,
      "outputs": []
    },
    {
      "cell_type": "code",
      "source": [
        "import matplotlib.pyplot as plt\n",
        "\n",
        "plt.figure(figsize = (10, 4))\n",
        "plt.plot(test.iloc[time_steps:-target, 0].values)\n",
        "plt.plot(model.predict(X_test)[:])\n",
        "\n",
        "plt.legend(['True', 'Predict'])\n",
        "plt.show()"
      ],
      "metadata": {
        "colab": {
          "base_uri": "https://localhost:8080/",
          "height": 265
        },
        "id": "7TCYk2OhJ6p7",
        "outputId": "6246614b-8234-456d-e412-9e3696f3f2d1"
      },
      "execution_count": 85,
      "outputs": [
        {
          "output_type": "display_data",
          "data": {
            "image/png": "[encoded data removed]",
            "text/plain": [
              "<Figure size 720x288 with 1 Axes>"
            ]
          },
          "metadata": {
            "needs_background": "light"
          }
        }
      ]
    },
    {
      "cell_type": "markdown",
      "source": [
        "time step = 21일, 예측 1일"
      ],
      "metadata": {
        "id": "Q3BBMgNTVHBL"
      }
    },
    {
      "cell_type": "code",
      "source": [
        "time_steps = 21\n",
        "target = 1\n",
        "train_len = len(train)\n",
        "test_len = len(test)"
      ],
      "metadata": {
        "id": "E4ZK85iM50dI"
      },
      "execution_count": 86,
      "outputs": []
    },
    {
      "cell_type": "code",
      "source": [
        "X_train = []\n",
        "Y_train = []\n",
        "for i in range(time_steps, train_len-1):\n",
        "  X_train.append(train[i-time_steps:i])\n",
        "  Y_train.append(train.iloc[i, 0])\n",
        "\n",
        "X_train, Y_train = np.array(X_train), np.array(Y_train)"
      ],
      "metadata": {
        "id": "QrixGFrxUYjg"
      },
      "execution_count": 87,
      "outputs": []
    },
    {
      "cell_type": "code",
      "source": [
        "X_test = []\n",
        "Y_test = []\n",
        "for i in range(time_steps, test_len-1):\n",
        "  X_test.append(test[i-time_steps:i])\n",
        "  Y_test.append(test.iloc[i, 0])\n",
        "\n",
        "X_test, Y_test = np.array(X_test), np.array(Y_test)"
      ],
      "metadata": {
        "id": "QXhy-MQpUaJK"
      },
      "execution_count": 88,
      "outputs": []
    },
    {
      "cell_type": "code",
      "source": [
        "X_train.shape, Y_train.shape"
      ],
      "metadata": {
        "colab": {
          "base_uri": "https://localhost:8080/"
        },
        "id": "YF4FVxz8Ub8T",
        "outputId": "48759363-3eea-4b65-a2b9-cc901afa583c"
      },
      "execution_count": 89,
      "outputs": [
        {
          "output_type": "execute_result",
          "data": {
            "text/plain": [
              "((1492, 21, 3), (1492,))"
            ]
          },
          "metadata": {},
          "execution_count": 89
        }
      ]
    },
    {
      "cell_type": "code",
      "source": [
        "X_test.shape, Y_test.shape"
      ],
      "metadata": {
        "colab": {
          "base_uri": "https://localhost:8080/"
        },
        "id": "OUmY1uP1Udk8",
        "outputId": "bd40c4aa-89c1-4057-b2d3-47adfa14dfe9"
      },
      "execution_count": 90,
      "outputs": [
        {
          "output_type": "execute_result",
          "data": {
            "text/plain": [
              "((178, 21, 3), (178,))"
            ]
          },
          "metadata": {},
          "execution_count": 90
        }
      ]
    },
    {
      "cell_type": "code",
      "source": [
        "K.clear_session()\n",
        "model = Sequential() # Sequeatial Model \n",
        "model.add(LSTM(20, input_shape=(None, 3))) # (timestep, feature) \n",
        "model.add(Dense(1)) # output = 1 \n",
        "model.compile(loss='mean_squared_error', optimizer='adam') \n",
        "\n",
        "model.summary()"
      ],
      "metadata": {
        "colab": {
          "base_uri": "https://localhost:8080/"
        },
        "id": "Of1NSwWMUfmE",
        "outputId": "8c7966b1-f4cd-4833-c64a-669a178a692f"
      },
      "execution_count": 96,
      "outputs": [
        {
          "output_type": "stream",
          "name": "stdout",
          "text": [
            "Model: \"sequential\"\n",
            "_________________________________________________________________\n",
            " Layer (type)                Output Shape              Param #   \n",
            "=================================================================\n",
            " lstm (LSTM)                 (None, 20)                1920      \n",
            "                                                                 \n",
            " dense (Dense)               (None, 1)                 21        \n",
            "                                                                 \n",
            "=================================================================\n",
            "Total params: 1,941\n",
            "Trainable params: 1,941\n",
            "Non-trainable params: 0\n",
            "_________________________________________________________________\n"
          ]
        }
      ]
    },
    {
      "cell_type": "code",
      "source": [
        "history = model.fit(X_train, Y_train, epochs=100, validation_data=(X_test, Y_test))"
      ],
      "metadata": {
        "colab": {
          "base_uri": "https://localhost:8080/"
        },
        "id": "mK9g30OaUhNd",
        "outputId": "4a3a07cf-1d2a-4939-f97b-c2ef2de06be1"
      },
      "execution_count": 97,
      "outputs": [
        {
          "output_type": "stream",
          "name": "stdout",
          "text": [
            "Epoch 1/100\n",
            "47/47 [==============================] - 3s 20ms/step - loss: 0.0165 - val_loss: 0.0103\n",
            "Epoch 2/100\n",
            "47/47 [==============================] - 0s 8ms/step - loss: 0.0066 - val_loss: 0.0084\n",
            "Epoch 3/100\n",
            "47/47 [==============================] - 0s 8ms/step - loss: 0.0064 - val_loss: 0.0083\n",
            "Epoch 4/100\n",
            "47/47 [==============================] - 0s 8ms/step - loss: 0.0063 - val_loss: 0.0082\n",
            "Epoch 5/100\n",
            "47/47 [==============================] - 0s 7ms/step - loss: 0.0063 - val_loss: 0.0085\n",
            "Epoch 6/100\n",
            "47/47 [==============================] - 0s 9ms/step - loss: 0.0063 - val_loss: 0.0083\n",
            "Epoch 7/100\n",
            "47/47 [==============================] - 0s 8ms/step - loss: 0.0063 - val_loss: 0.0082\n",
            "Epoch 8/100\n",
            "47/47 [==============================] - 0s 8ms/step - loss: 0.0063 - val_loss: 0.0082\n",
            "Epoch 9/100\n",
            "47/47 [==============================] - 0s 8ms/step - loss: 0.0063 - val_loss: 0.0082\n",
            "Epoch 10/100\n",
            "47/47 [==============================] - 0s 8ms/step - loss: 0.0063 - val_loss: 0.0081\n",
            "Epoch 11/100\n",
            "47/47 [==============================] - 0s 8ms/step - loss: 0.0063 - val_loss: 0.0081\n",
            "Epoch 12/100\n",
            "47/47 [==============================] - 0s 8ms/step - loss: 0.0062 - val_loss: 0.0084\n",
            "Epoch 13/100\n",
            "47/47 [==============================] - 0s 8ms/step - loss: 0.0063 - val_loss: 0.0081\n",
            "Epoch 14/100\n",
            "47/47 [==============================] - 0s 8ms/step - loss: 0.0062 - val_loss: 0.0083\n",
            "Epoch 15/100\n",
            "47/47 [==============================] - 0s 8ms/step - loss: 0.0062 - val_loss: 0.0083\n",
            "Epoch 16/100\n",
            "47/47 [==============================] - 0s 7ms/step - loss: 0.0063 - val_loss: 0.0081\n",
            "Epoch 17/100\n",
            "47/47 [==============================] - 0s 8ms/step - loss: 0.0061 - val_loss: 0.0084\n",
            "Epoch 18/100\n",
            "47/47 [==============================] - 0s 8ms/step - loss: 0.0062 - val_loss: 0.0081\n",
            "Epoch 19/100\n",
            "47/47 [==============================] - 0s 8ms/step - loss: 0.0061 - val_loss: 0.0081\n",
            "Epoch 20/100\n",
            "47/47 [==============================] - 0s 7ms/step - loss: 0.0061 - val_loss: 0.0081\n",
            "Epoch 21/100\n",
            "47/47 [==============================] - 0s 9ms/step - loss: 0.0061 - val_loss: 0.0081\n",
            "Epoch 22/100\n",
            "47/47 [==============================] - 0s 8ms/step - loss: 0.0063 - val_loss: 0.0081\n",
            "Epoch 23/100\n",
            "47/47 [==============================] - 0s 8ms/step - loss: 0.0061 - val_loss: 0.0084\n",
            "Epoch 24/100\n",
            "47/47 [==============================] - 0s 8ms/step - loss: 0.0061 - val_loss: 0.0081\n",
            "Epoch 25/100\n",
            "47/47 [==============================] - 0s 8ms/step - loss: 0.0061 - val_loss: 0.0080\n",
            "Epoch 26/100\n",
            "47/47 [==============================] - 0s 8ms/step - loss: 0.0061 - val_loss: 0.0083\n",
            "Epoch 27/100\n",
            "47/47 [==============================] - 0s 8ms/step - loss: 0.0061 - val_loss: 0.0080\n",
            "Epoch 28/100\n",
            "47/47 [==============================] - 0s 8ms/step - loss: 0.0060 - val_loss: 0.0080\n",
            "Epoch 29/100\n",
            "47/47 [==============================] - 0s 9ms/step - loss: 0.0061 - val_loss: 0.0081\n",
            "Epoch 30/100\n",
            "47/47 [==============================] - 0s 8ms/step - loss: 0.0060 - val_loss: 0.0080\n",
            "Epoch 31/100\n",
            "47/47 [==============================] - 0s 8ms/step - loss: 0.0060 - val_loss: 0.0080\n",
            "Epoch 32/100\n",
            "47/47 [==============================] - 0s 8ms/step - loss: 0.0061 - val_loss: 0.0080\n",
            "Epoch 33/100\n",
            "47/47 [==============================] - 0s 7ms/step - loss: 0.0060 - val_loss: 0.0081\n",
            "Epoch 34/100\n",
            "47/47 [==============================] - 0s 8ms/step - loss: 0.0060 - val_loss: 0.0082\n",
            "Epoch 35/100\n",
            "47/47 [==============================] - 0s 8ms/step - loss: 0.0060 - val_loss: 0.0082\n",
            "Epoch 36/100\n",
            "47/47 [==============================] - 0s 7ms/step - loss: 0.0060 - val_loss: 0.0080\n",
            "Epoch 37/100\n",
            "47/47 [==============================] - 0s 8ms/step - loss: 0.0060 - val_loss: 0.0083\n",
            "Epoch 38/100\n",
            "47/47 [==============================] - 0s 8ms/step - loss: 0.0060 - val_loss: 0.0080\n",
            "Epoch 39/100\n",
            "47/47 [==============================] - 0s 9ms/step - loss: 0.0060 - val_loss: 0.0080\n",
            "Epoch 40/100\n",
            "47/47 [==============================] - 0s 8ms/step - loss: 0.0060 - val_loss: 0.0081\n",
            "Epoch 41/100\n",
            "47/47 [==============================] - 0s 8ms/step - loss: 0.0060 - val_loss: 0.0080\n",
            "Epoch 42/100\n",
            "47/47 [==============================] - 0s 8ms/step - loss: 0.0060 - val_loss: 0.0082\n",
            "Epoch 43/100\n",
            "47/47 [==============================] - 0s 8ms/step - loss: 0.0060 - val_loss: 0.0080\n",
            "Epoch 44/100\n",
            "47/47 [==============================] - 0s 8ms/step - loss: 0.0060 - val_loss: 0.0080\n",
            "Epoch 45/100\n",
            "47/47 [==============================] - 0s 8ms/step - loss: 0.0060 - val_loss: 0.0079\n",
            "Epoch 46/100\n",
            "47/47 [==============================] - 0s 9ms/step - loss: 0.0059 - val_loss: 0.0080\n",
            "Epoch 47/100\n",
            "47/47 [==============================] - 0s 8ms/step - loss: 0.0059 - val_loss: 0.0081\n",
            "Epoch 48/100\n",
            "47/47 [==============================] - 0s 9ms/step - loss: 0.0061 - val_loss: 0.0080\n",
            "Epoch 49/100\n",
            "47/47 [==============================] - 0s 8ms/step - loss: 0.0059 - val_loss: 0.0081\n",
            "Epoch 50/100\n",
            "47/47 [==============================] - 0s 9ms/step - loss: 0.0060 - val_loss: 0.0079\n",
            "Epoch 51/100\n",
            "47/47 [==============================] - 0s 8ms/step - loss: 0.0059 - val_loss: 0.0080\n",
            "Epoch 52/100\n",
            "47/47 [==============================] - 0s 8ms/step - loss: 0.0059 - val_loss: 0.0079\n",
            "Epoch 53/100\n",
            "47/47 [==============================] - 0s 8ms/step - loss: 0.0059 - val_loss: 0.0079\n",
            "Epoch 54/100\n",
            "47/47 [==============================] - 0s 8ms/step - loss: 0.0059 - val_loss: 0.0081\n",
            "Epoch 55/100\n",
            "47/47 [==============================] - 0s 8ms/step - loss: 0.0059 - val_loss: 0.0078\n",
            "Epoch 56/100\n",
            "47/47 [==============================] - 0s 8ms/step - loss: 0.0059 - val_loss: 0.0079\n",
            "Epoch 57/100\n",
            "47/47 [==============================] - 0s 8ms/step - loss: 0.0059 - val_loss: 0.0078\n",
            "Epoch 58/100\n",
            "47/47 [==============================] - 0s 9ms/step - loss: 0.0059 - val_loss: 0.0078\n",
            "Epoch 59/100\n",
            "47/47 [==============================] - 0s 8ms/step - loss: 0.0059 - val_loss: 0.0078\n",
            "Epoch 60/100\n",
            "47/47 [==============================] - 0s 9ms/step - loss: 0.0058 - val_loss: 0.0084\n",
            "Epoch 61/100\n",
            "47/47 [==============================] - 0s 8ms/step - loss: 0.0059 - val_loss: 0.0077\n",
            "Epoch 62/100\n",
            "47/47 [==============================] - 0s 8ms/step - loss: 0.0058 - val_loss: 0.0077\n",
            "Epoch 63/100\n",
            "47/47 [==============================] - 0s 8ms/step - loss: 0.0058 - val_loss: 0.0077\n",
            "Epoch 64/100\n",
            "47/47 [==============================] - 0s 8ms/step - loss: 0.0058 - val_loss: 0.0077\n",
            "Epoch 65/100\n",
            "47/47 [==============================] - 0s 8ms/step - loss: 0.0058 - val_loss: 0.0076\n",
            "Epoch 66/100\n",
            "47/47 [==============================] - 0s 8ms/step - loss: 0.0058 - val_loss: 0.0076\n",
            "Epoch 67/100\n",
            "47/47 [==============================] - 0s 8ms/step - loss: 0.0058 - val_loss: 0.0077\n",
            "Epoch 68/100\n",
            "47/47 [==============================] - 0s 8ms/step - loss: 0.0057 - val_loss: 0.0076\n",
            "Epoch 69/100\n",
            "47/47 [==============================] - 0s 8ms/step - loss: 0.0057 - val_loss: 0.0075\n",
            "Epoch 70/100\n",
            "47/47 [==============================] - 0s 8ms/step - loss: 0.0058 - val_loss: 0.0076\n",
            "Epoch 71/100\n",
            "47/47 [==============================] - 0s 8ms/step - loss: 0.0058 - val_loss: 0.0076\n",
            "Epoch 72/100\n",
            "47/47 [==============================] - 0s 7ms/step - loss: 0.0057 - val_loss: 0.0076\n",
            "Epoch 73/100\n",
            "47/47 [==============================] - 0s 8ms/step - loss: 0.0057 - val_loss: 0.0075\n",
            "Epoch 74/100\n",
            "47/47 [==============================] - 0s 9ms/step - loss: 0.0056 - val_loss: 0.0073\n",
            "Epoch 75/100\n",
            "47/47 [==============================] - 0s 9ms/step - loss: 0.0056 - val_loss: 0.0072\n",
            "Epoch 76/100\n",
            "47/47 [==============================] - 0s 8ms/step - loss: 0.0055 - val_loss: 0.0072\n",
            "Epoch 77/100\n",
            "47/47 [==============================] - 0s 8ms/step - loss: 0.0054 - val_loss: 0.0072\n",
            "Epoch 78/100\n",
            "47/47 [==============================] - 0s 8ms/step - loss: 0.0054 - val_loss: 0.0071\n",
            "Epoch 79/100\n",
            "47/47 [==============================] - 0s 8ms/step - loss: 0.0054 - val_loss: 0.0071\n",
            "Epoch 80/100\n",
            "47/47 [==============================] - 0s 8ms/step - loss: 0.0054 - val_loss: 0.0071\n",
            "Epoch 81/100\n",
            "47/47 [==============================] - 0s 8ms/step - loss: 0.0055 - val_loss: 0.0071\n",
            "Epoch 82/100\n",
            "47/47 [==============================] - 0s 8ms/step - loss: 0.0053 - val_loss: 0.0070\n",
            "Epoch 83/100\n",
            "47/47 [==============================] - 0s 8ms/step - loss: 0.0053 - val_loss: 0.0069\n",
            "Epoch 84/100\n",
            "47/47 [==============================] - 0s 8ms/step - loss: 0.0053 - val_loss: 0.0069\n",
            "Epoch 85/100\n",
            "47/47 [==============================] - 0s 8ms/step - loss: 0.0052 - val_loss: 0.0070\n",
            "Epoch 86/100\n",
            "47/47 [==============================] - 0s 8ms/step - loss: 0.0052 - val_loss: 0.0070\n",
            "Epoch 87/100\n",
            "47/47 [==============================] - 0s 8ms/step - loss: 0.0052 - val_loss: 0.0068\n",
            "Epoch 88/100\n",
            "47/47 [==============================] - 0s 9ms/step - loss: 0.0052 - val_loss: 0.0070\n",
            "Epoch 89/100\n",
            "47/47 [==============================] - 0s 9ms/step - loss: 0.0051 - val_loss: 0.0067\n",
            "Epoch 90/100\n",
            "47/47 [==============================] - 0s 8ms/step - loss: 0.0051 - val_loss: 0.0067\n",
            "Epoch 91/100\n",
            "47/47 [==============================] - 0s 8ms/step - loss: 0.0051 - val_loss: 0.0068\n",
            "Epoch 92/100\n",
            "47/47 [==============================] - 0s 8ms/step - loss: 0.0051 - val_loss: 0.0066\n",
            "Epoch 93/100\n",
            "47/47 [==============================] - 0s 8ms/step - loss: 0.0051 - val_loss: 0.0066\n",
            "Epoch 94/100\n",
            "47/47 [==============================] - 0s 8ms/step - loss: 0.0050 - val_loss: 0.0066\n",
            "Epoch 95/100\n",
            "47/47 [==============================] - 0s 8ms/step - loss: 0.0050 - val_loss: 0.0066\n",
            "Epoch 96/100\n",
            "47/47 [==============================] - 0s 8ms/step - loss: 0.0049 - val_loss: 0.0065\n",
            "Epoch 97/100\n",
            "47/47 [==============================] - 0s 8ms/step - loss: 0.0050 - val_loss: 0.0065\n",
            "Epoch 98/100\n",
            "47/47 [==============================] - 0s 8ms/step - loss: 0.0050 - val_loss: 0.0064\n",
            "Epoch 99/100\n",
            "47/47 [==============================] - 0s 8ms/step - loss: 0.0049 - val_loss: 0.0065\n",
            "Epoch 100/100\n",
            "47/47 [==============================] - 0s 8ms/step - loss: 0.0048 - val_loss: 0.0063\n"
          ]
        }
      ]
    },
    {
      "cell_type": "code",
      "source": [
        "y_vloss = history.history['val_loss']\n",
        "y_loss = history.history['loss']\n",
        "\n",
        "x_len = np.arange(len(y_loss))\n",
        "plt.plot(x_len, y_vloss, marker='.', c='red', label=\"Validation-set Loss\")\n",
        "plt.plot(x_len, y_loss, marker='.', c='blue', label=\"Train-set Loss\")\n",
        "\n",
        "plt.legend(loc='upper right')\n",
        "plt.grid()\n",
        "plt.xlabel('epoch')\n",
        "plt.ylabel('loss')\n",
        "plt.show()"
      ],
      "metadata": {
        "colab": {
          "base_uri": "https://localhost:8080/",
          "height": 279
        },
        "id": "NmH7uMSuVETS",
        "outputId": "e849d0d7-3b70-4613-e203-19cdc12f6845"
      },
      "execution_count": 98,
      "outputs": [
        {
          "output_type": "display_data",
          "data": {
            "image/png": "[encoded data removed]",
            "text/plain": [
              "<Figure size 432x288 with 1 Axes>"
            ]
          },
          "metadata": {
            "needs_background": "light"
          }
        }
      ]
    },
    {
      "cell_type": "code",
      "source": [
        "plt.figure(figsize = (10, 4))\n",
        "plt.plot(test.iloc[time_steps:-target, 0].values)\n",
        "plt.plot(model.predict(X_test)[:])\n",
        "\n",
        "plt.legend(['True', 'Predict'])\n",
        "plt.show()"
      ],
      "metadata": {
        "colab": {
          "base_uri": "https://localhost:8080/",
          "height": 265
        },
        "id": "nCVovIlMVPBq",
        "outputId": "ffab24aa-34e1-49bd-8503-39ff2a1100ce"
      },
      "execution_count": 99,
      "outputs": [
        {
          "output_type": "display_data",
          "data": {
            "image/png": "[encoded data removed]",
            "text/plain": [
              "<Figure size 720x288 with 1 Axes>"
            ]
          },
          "metadata": {
            "needs_background": "light"
          }
        }
      ]
    },
    {
      "cell_type": "markdown",
      "source": [
        "7, 7"
      ],
      "metadata": {
        "id": "dULfIjO_XoB1"
      }
    },
    {
      "cell_type": "code",
      "source": [
        "train.iloc[7:14, 0]"
      ],
      "metadata": {
        "colab": {
          "base_uri": "https://localhost:8080/"
        },
        "id": "KY6nAJVJXBz-",
        "outputId": "a8157a47-8b12-4e56-d83c-b7933b6fbdd2"
      },
      "execution_count": 116,
      "outputs": [
        {
          "output_type": "execute_result",
          "data": {
            "text/plain": [
              "7     0.196580\n",
              "8     0.267954\n",
              "9     0.170325\n",
              "10    0.193050\n",
              "11    0.198125\n",
              "12    0.106012\n",
              "13    0.209818\n",
              "Name: 0, dtype: float64"
            ]
          },
          "metadata": {},
          "execution_count": 116
        }
      ]
    },
    {
      "cell_type": "code",
      "source": [
        "time_steps = 7\n",
        "target = 7\n",
        "train_len = len(train)\n",
        "test_len = len(test)"
      ],
      "metadata": {
        "id": "oip4aB45VoV7"
      },
      "execution_count": 111,
      "outputs": []
    },
    {
      "cell_type": "code",
      "source": [
        "X_train = []\n",
        "Y_train = []\n",
        "for i in range(time_steps, train_len-target):\n",
        "  X_train.append(train[i-time_steps:i])\n",
        "  Y_train.append(train.iloc[i:i+target, 0])\n",
        "\n",
        "X_train, Y_train = np.array(X_train), np.array(Y_train)"
      ],
      "metadata": {
        "id": "jPPkgdOfWrCb"
      },
      "execution_count": 121,
      "outputs": []
    },
    {
      "cell_type": "code",
      "source": [
        "X_test = []\n",
        "Y_test = []\n",
        "for i in range(time_steps, test_len-target):\n",
        "  X_test.append(test[i-time_steps:i])\n",
        "  Y_test.append(test.iloc[i:i+target, 0])\n",
        "\n",
        "X_test, Y_test = np.array(X_test), np.array(Y_test)"
      ],
      "metadata": {
        "id": "7jzuBG0yWtEk"
      },
      "execution_count": 122,
      "outputs": []
    },
    {
      "cell_type": "code",
      "source": [
        "X_train.shape, Y_train.shape"
      ],
      "metadata": {
        "colab": {
          "base_uri": "https://localhost:8080/"
        },
        "id": "r_dxEKflWutJ",
        "outputId": "5935ce98-3850-4c26-effc-c79df6daaebb"
      },
      "execution_count": 123,
      "outputs": [
        {
          "output_type": "execute_result",
          "data": {
            "text/plain": [
              "((1500, 7, 3), (1500, 7))"
            ]
          },
          "metadata": {},
          "execution_count": 123
        }
      ]
    },
    {
      "cell_type": "code",
      "source": [
        "X_test.shape, Y_test.shape"
      ],
      "metadata": {
        "colab": {
          "base_uri": "https://localhost:8080/"
        },
        "id": "KcF8vYyCWy-t",
        "outputId": "8f0f2a39-b050-468c-bee2-47fdfd6f735c"
      },
      "execution_count": 124,
      "outputs": [
        {
          "output_type": "execute_result",
          "data": {
            "text/plain": [
              "((186, 7, 3), (186, 7))"
            ]
          },
          "metadata": {},
          "execution_count": 124
        }
      ]
    },
    {
      "cell_type": "code",
      "source": [
        "K.clear_session()\n",
        "model = Sequential() # Sequeatial Model \n",
        "model.add(LSTM(20, input_shape=(None, 3))) # (timestep, feature) \n",
        "model.add(Dense(7)) # output = 7\n",
        "model.compile(loss='mean_squared_error', optimizer='adam') \n",
        "\n",
        "model.summary()"
      ],
      "metadata": {
        "colab": {
          "base_uri": "https://localhost:8080/"
        },
        "id": "8MbxAWOwW7fz",
        "outputId": "91f9e217-6b5a-4bb4-b945-25d96732e7ea"
      },
      "execution_count": 130,
      "outputs": [
        {
          "output_type": "stream",
          "name": "stdout",
          "text": [
            "Model: \"sequential\"\n",
            "_________________________________________________________________\n",
            " Layer (type)                Output Shape              Param #   \n",
            "=================================================================\n",
            " lstm (LSTM)                 (None, 20)                1920      \n",
            "                                                                 \n",
            " dense (Dense)               (None, 7)                 147       \n",
            "                                                                 \n",
            "=================================================================\n",
            "Total params: 2,067\n",
            "Trainable params: 2,067\n",
            "Non-trainable params: 0\n",
            "_________________________________________________________________\n"
          ]
        }
      ]
    },
    {
      "cell_type": "code",
      "source": [
        "history = model.fit(X_train, Y_train, epochs=100, validation_data=(X_test, Y_test))"
      ],
      "metadata": {
        "colab": {
          "base_uri": "https://localhost:8080/"
        },
        "id": "C3B28g8jW_fe",
        "outputId": "5029ca9d-de22-4b03-8022-b864a1b81883"
      },
      "execution_count": 131,
      "outputs": [
        {
          "output_type": "stream",
          "name": "stdout",
          "text": [
            "Epoch 1/100\n",
            "47/47 [==============================] - 3s 19ms/step - loss: 0.0389 - val_loss: 0.0118\n",
            "Epoch 2/100\n",
            "47/47 [==============================] - 0s 6ms/step - loss: 0.0075 - val_loss: 0.0086\n",
            "Epoch 3/100\n",
            "47/47 [==============================] - 0s 7ms/step - loss: 0.0065 - val_loss: 0.0082\n",
            "Epoch 4/100\n",
            "47/47 [==============================] - 0s 6ms/step - loss: 0.0064 - val_loss: 0.0080\n",
            "Epoch 5/100\n",
            "47/47 [==============================] - 0s 6ms/step - loss: 0.0063 - val_loss: 0.0080\n",
            "Epoch 6/100\n",
            "47/47 [==============================] - 0s 7ms/step - loss: 0.0063 - val_loss: 0.0079\n",
            "Epoch 7/100\n",
            "47/47 [==============================] - 0s 6ms/step - loss: 0.0062 - val_loss: 0.0079\n",
            "Epoch 8/100\n",
            "47/47 [==============================] - 0s 7ms/step - loss: 0.0062 - val_loss: 0.0079\n",
            "Epoch 9/100\n",
            "47/47 [==============================] - 0s 6ms/step - loss: 0.0062 - val_loss: 0.0078\n",
            "Epoch 10/100\n",
            "47/47 [==============================] - 0s 6ms/step - loss: 0.0062 - val_loss: 0.0079\n",
            "Epoch 11/100\n",
            "47/47 [==============================] - 0s 7ms/step - loss: 0.0062 - val_loss: 0.0078\n",
            "Epoch 12/100\n",
            "47/47 [==============================] - 0s 6ms/step - loss: 0.0062 - val_loss: 0.0078\n",
            "Epoch 13/100\n",
            "47/47 [==============================] - 0s 6ms/step - loss: 0.0062 - val_loss: 0.0078\n",
            "Epoch 14/100\n",
            "47/47 [==============================] - 0s 8ms/step - loss: 0.0062 - val_loss: 0.0078\n",
            "Epoch 15/100\n",
            "47/47 [==============================] - 0s 6ms/step - loss: 0.0062 - val_loss: 0.0078\n",
            "Epoch 16/100\n",
            "47/47 [==============================] - 0s 6ms/step - loss: 0.0062 - val_loss: 0.0078\n",
            "Epoch 17/100\n",
            "47/47 [==============================] - 0s 7ms/step - loss: 0.0061 - val_loss: 0.0077\n",
            "Epoch 18/100\n",
            "47/47 [==============================] - 0s 7ms/step - loss: 0.0062 - val_loss: 0.0077\n",
            "Epoch 19/100\n",
            "47/47 [==============================] - 0s 7ms/step - loss: 0.0061 - val_loss: 0.0077\n",
            "Epoch 20/100\n",
            "47/47 [==============================] - 0s 6ms/step - loss: 0.0061 - val_loss: 0.0078\n",
            "Epoch 21/100\n",
            "47/47 [==============================] - 0s 7ms/step - loss: 0.0061 - val_loss: 0.0077\n",
            "Epoch 22/100\n",
            "47/47 [==============================] - 0s 6ms/step - loss: 0.0061 - val_loss: 0.0077\n",
            "Epoch 23/100\n",
            "47/47 [==============================] - 0s 6ms/step - loss: 0.0061 - val_loss: 0.0077\n",
            "Epoch 24/100\n",
            "47/47 [==============================] - 0s 6ms/step - loss: 0.0061 - val_loss: 0.0076\n",
            "Epoch 25/100\n",
            "47/47 [==============================] - 0s 6ms/step - loss: 0.0061 - val_loss: 0.0076\n",
            "Epoch 26/100\n",
            "47/47 [==============================] - 0s 6ms/step - loss: 0.0061 - val_loss: 0.0077\n",
            "Epoch 27/100\n",
            "47/47 [==============================] - 0s 7ms/step - loss: 0.0061 - val_loss: 0.0076\n",
            "Epoch 28/100\n",
            "47/47 [==============================] - 0s 7ms/step - loss: 0.0061 - val_loss: 0.0076\n",
            "Epoch 29/100\n",
            "47/47 [==============================] - 0s 6ms/step - loss: 0.0060 - val_loss: 0.0076\n",
            "Epoch 30/100\n",
            "47/47 [==============================] - 0s 7ms/step - loss: 0.0060 - val_loss: 0.0076\n",
            "Epoch 31/100\n",
            "47/47 [==============================] - 0s 6ms/step - loss: 0.0060 - val_loss: 0.0077\n",
            "Epoch 32/100\n",
            "47/47 [==============================] - 0s 6ms/step - loss: 0.0060 - val_loss: 0.0075\n",
            "Epoch 33/100\n",
            "47/47 [==============================] - 0s 6ms/step - loss: 0.0060 - val_loss: 0.0075\n",
            "Epoch 34/100\n",
            "47/47 [==============================] - 0s 7ms/step - loss: 0.0060 - val_loss: 0.0075\n",
            "Epoch 35/100\n",
            "47/47 [==============================] - 0s 6ms/step - loss: 0.0060 - val_loss: 0.0077\n",
            "Epoch 36/100\n",
            "47/47 [==============================] - 0s 7ms/step - loss: 0.0060 - val_loss: 0.0074\n",
            "Epoch 37/100\n",
            "47/47 [==============================] - 0s 6ms/step - loss: 0.0060 - val_loss: 0.0075\n",
            "Epoch 38/100\n",
            "47/47 [==============================] - 0s 7ms/step - loss: 0.0059 - val_loss: 0.0074\n",
            "Epoch 39/100\n",
            "47/47 [==============================] - 0s 6ms/step - loss: 0.0059 - val_loss: 0.0074\n",
            "Epoch 40/100\n",
            "47/47 [==============================] - 0s 6ms/step - loss: 0.0059 - val_loss: 0.0074\n",
            "Epoch 41/100\n",
            "47/47 [==============================] - 0s 7ms/step - loss: 0.0059 - val_loss: 0.0074\n",
            "Epoch 42/100\n",
            "47/47 [==============================] - 0s 6ms/step - loss: 0.0059 - val_loss: 0.0073\n",
            "Epoch 43/100\n",
            "47/47 [==============================] - 0s 6ms/step - loss: 0.0059 - val_loss: 0.0073\n",
            "Epoch 44/100\n",
            "47/47 [==============================] - 0s 6ms/step - loss: 0.0059 - val_loss: 0.0073\n",
            "Epoch 45/100\n",
            "47/47 [==============================] - 0s 6ms/step - loss: 0.0059 - val_loss: 0.0073\n",
            "Epoch 46/100\n",
            "47/47 [==============================] - 0s 6ms/step - loss: 0.0059 - val_loss: 0.0072\n",
            "Epoch 47/100\n",
            "47/47 [==============================] - 0s 6ms/step - loss: 0.0058 - val_loss: 0.0073\n",
            "Epoch 48/100\n",
            "47/47 [==============================] - 0s 7ms/step - loss: 0.0058 - val_loss: 0.0072\n",
            "Epoch 49/100\n",
            "47/47 [==============================] - 0s 7ms/step - loss: 0.0058 - val_loss: 0.0072\n",
            "Epoch 50/100\n",
            "47/47 [==============================] - 0s 6ms/step - loss: 0.0058 - val_loss: 0.0072\n",
            "Epoch 51/100\n",
            "47/47 [==============================] - 0s 6ms/step - loss: 0.0058 - val_loss: 0.0072\n",
            "Epoch 52/100\n",
            "47/47 [==============================] - 0s 6ms/step - loss: 0.0058 - val_loss: 0.0072\n",
            "Epoch 53/100\n",
            "47/47 [==============================] - 0s 6ms/step - loss: 0.0058 - val_loss: 0.0072\n",
            "Epoch 54/100\n",
            "47/47 [==============================] - 0s 6ms/step - loss: 0.0058 - val_loss: 0.0072\n",
            "Epoch 55/100\n",
            "47/47 [==============================] - 0s 6ms/step - loss: 0.0057 - val_loss: 0.0072\n",
            "Epoch 56/100\n",
            "47/47 [==============================] - 0s 6ms/step - loss: 0.0058 - val_loss: 0.0072\n",
            "Epoch 57/100\n",
            "47/47 [==============================] - 0s 6ms/step - loss: 0.0057 - val_loss: 0.0072\n",
            "Epoch 58/100\n",
            "47/47 [==============================] - 0s 6ms/step - loss: 0.0057 - val_loss: 0.0071\n",
            "Epoch 59/100\n",
            "47/47 [==============================] - 0s 6ms/step - loss: 0.0057 - val_loss: 0.0072\n",
            "Epoch 60/100\n",
            "47/47 [==============================] - 0s 6ms/step - loss: 0.0057 - val_loss: 0.0071\n",
            "Epoch 61/100\n",
            "47/47 [==============================] - 0s 6ms/step - loss: 0.0057 - val_loss: 0.0071\n",
            "Epoch 62/100\n",
            "47/47 [==============================] - 0s 6ms/step - loss: 0.0057 - val_loss: 0.0071\n",
            "Epoch 63/100\n",
            "47/47 [==============================] - 0s 6ms/step - loss: 0.0057 - val_loss: 0.0071\n",
            "Epoch 64/100\n",
            "47/47 [==============================] - 0s 7ms/step - loss: 0.0057 - val_loss: 0.0071\n",
            "Epoch 65/100\n",
            "47/47 [==============================] - 0s 6ms/step - loss: 0.0057 - val_loss: 0.0072\n",
            "Epoch 66/100\n",
            "47/47 [==============================] - 0s 7ms/step - loss: 0.0057 - val_loss: 0.0071\n",
            "Epoch 67/100\n",
            "47/47 [==============================] - 0s 6ms/step - loss: 0.0056 - val_loss: 0.0071\n",
            "Epoch 68/100\n",
            "47/47 [==============================] - 0s 7ms/step - loss: 0.0057 - val_loss: 0.0071\n",
            "Epoch 69/100\n",
            "47/47 [==============================] - 0s 6ms/step - loss: 0.0057 - val_loss: 0.0071\n",
            "Epoch 70/100\n",
            "47/47 [==============================] - 0s 6ms/step - loss: 0.0057 - val_loss: 0.0070\n",
            "Epoch 71/100\n",
            "47/47 [==============================] - 0s 7ms/step - loss: 0.0056 - val_loss: 0.0070\n",
            "Epoch 72/100\n",
            "47/47 [==============================] - 0s 7ms/step - loss: 0.0057 - val_loss: 0.0071\n",
            "Epoch 73/100\n",
            "47/47 [==============================] - 0s 6ms/step - loss: 0.0056 - val_loss: 0.0070\n",
            "Epoch 74/100\n",
            "47/47 [==============================] - 0s 6ms/step - loss: 0.0056 - val_loss: 0.0071\n",
            "Epoch 75/100\n",
            "47/47 [==============================] - 0s 6ms/step - loss: 0.0056 - val_loss: 0.0071\n",
            "Epoch 76/100\n",
            "47/47 [==============================] - 0s 6ms/step - loss: 0.0056 - val_loss: 0.0070\n",
            "Epoch 77/100\n",
            "47/47 [==============================] - 0s 7ms/step - loss: 0.0056 - val_loss: 0.0070\n",
            "Epoch 78/100\n",
            "47/47 [==============================] - 0s 7ms/step - loss: 0.0056 - val_loss: 0.0070\n",
            "Epoch 79/100\n",
            "47/47 [==============================] - 0s 6ms/step - loss: 0.0056 - val_loss: 0.0071\n",
            "Epoch 80/100\n",
            "47/47 [==============================] - 0s 7ms/step - loss: 0.0056 - val_loss: 0.0071\n",
            "Epoch 81/100\n",
            "47/47 [==============================] - 0s 7ms/step - loss: 0.0056 - val_loss: 0.0070\n",
            "Epoch 82/100\n",
            "47/47 [==============================] - 0s 7ms/step - loss: 0.0056 - val_loss: 0.0070\n",
            "Epoch 83/100\n",
            "47/47 [==============================] - 0s 6ms/step - loss: 0.0056 - val_loss: 0.0070\n",
            "Epoch 84/100\n",
            "47/47 [==============================] - 0s 7ms/step - loss: 0.0055 - val_loss: 0.0070\n",
            "Epoch 85/100\n",
            "47/47 [==============================] - 0s 6ms/step - loss: 0.0056 - val_loss: 0.0071\n",
            "Epoch 86/100\n",
            "47/47 [==============================] - 0s 6ms/step - loss: 0.0056 - val_loss: 0.0071\n",
            "Epoch 87/100\n",
            "47/47 [==============================] - 0s 7ms/step - loss: 0.0055 - val_loss: 0.0070\n",
            "Epoch 88/100\n",
            "47/47 [==============================] - 0s 7ms/step - loss: 0.0056 - val_loss: 0.0070\n",
            "Epoch 89/100\n",
            "47/47 [==============================] - 0s 6ms/step - loss: 0.0056 - val_loss: 0.0070\n",
            "Epoch 90/100\n",
            "47/47 [==============================] - 0s 7ms/step - loss: 0.0055 - val_loss: 0.0070\n",
            "Epoch 91/100\n",
            "47/47 [==============================] - 0s 6ms/step - loss: 0.0056 - val_loss: 0.0070\n",
            "Epoch 92/100\n",
            "47/47 [==============================] - 0s 6ms/step - loss: 0.0055 - val_loss: 0.0069\n",
            "Epoch 93/100\n",
            "47/47 [==============================] - 0s 6ms/step - loss: 0.0055 - val_loss: 0.0070\n",
            "Epoch 94/100\n",
            "47/47 [==============================] - 0s 7ms/step - loss: 0.0055 - val_loss: 0.0070\n",
            "Epoch 95/100\n",
            "47/47 [==============================] - 0s 6ms/step - loss: 0.0055 - val_loss: 0.0070\n",
            "Epoch 96/100\n",
            "47/47 [==============================] - 0s 6ms/step - loss: 0.0055 - val_loss: 0.0069\n",
            "Epoch 97/100\n",
            "47/47 [==============================] - 0s 7ms/step - loss: 0.0055 - val_loss: 0.0069\n",
            "Epoch 98/100\n",
            "47/47 [==============================] - 0s 7ms/step - loss: 0.0055 - val_loss: 0.0069\n",
            "Epoch 99/100\n",
            "47/47 [==============================] - 0s 7ms/step - loss: 0.0055 - val_loss: 0.0070\n",
            "Epoch 100/100\n",
            "47/47 [==============================] - 0s 6ms/step - loss: 0.0055 - val_loss: 0.0069\n"
          ]
        }
      ]
    },
    {
      "cell_type": "code",
      "source": [
        "y_vloss = history.history['val_loss']\n",
        "y_loss = history.history['loss']\n",
        "\n",
        "x_len = np.arange(len(y_loss))\n",
        "plt.plot(x_len, y_vloss, marker='.', c='red', label=\"Validation-set Loss\")\n",
        "plt.plot(x_len, y_loss, marker='.', c='blue', label=\"Train-set Loss\")\n",
        "\n",
        "plt.legend(loc='upper right')\n",
        "plt.grid()\n",
        "plt.xlabel('epoch')\n",
        "plt.ylabel('loss')\n",
        "plt.show()"
      ],
      "metadata": {
        "colab": {
          "base_uri": "https://localhost:8080/",
          "height": 280
        },
        "id": "AZu5-W_3Y7MN",
        "outputId": "e5c93602-2d0c-46dd-8e91-b116ad28d942"
      },
      "execution_count": 132,
      "outputs": [
        {
          "output_type": "display_data",
          "data": {
            "image/png": "[encoded data removed]",
            "text/plain": [
              "<Figure size 432x288 with 1 Axes>"
            ]
          },
          "metadata": {
            "needs_background": "light"
          }
        }
      ]
    },
    {
      "cell_type": "code",
      "source": [
        "X_test.shape"
      ],
      "metadata": {
        "colab": {
          "base_uri": "https://localhost:8080/"
        },
        "id": "GYvLdhAFbIeC",
        "outputId": "0fbb1fe3-4379-4d39-b5b8-93e74b931cb1"
      },
      "execution_count": 149,
      "outputs": [
        {
          "output_type": "execute_result",
          "data": {
            "text/plain": [
              "(186, 7, 3)"
            ]
          },
          "metadata": {},
          "execution_count": 149
        }
      ]
    },
    {
      "cell_type": "code",
      "source": [
        "model.predict(X_test[:-1])"
      ],
      "metadata": {
        "colab": {
          "base_uri": "https://localhost:8080/"
        },
        "id": "y6zSWNmiaf0c",
        "outputId": "29e46258-d45b-4a97-d9ef-2d7e850b47b0"
      },
      "execution_count": 143,
      "outputs": [
        {
          "output_type": "execute_result",
          "data": {
            "text/plain": [
              "array([[0.30601227, 0.2985396 , 0.30069777, ..., 0.25374264, 0.24758828,\n",
              "        0.29827103],\n",
              "       [0.29347533, 0.27491033, 0.27852938, ..., 0.27153194, 0.27667373,\n",
              "        0.31013608],\n",
              "       [0.27990603, 0.26963112, 0.29238394, ..., 0.29191786, 0.29620555,\n",
              "        0.2770564 ],\n",
              "       ...,\n",
              "       [0.26875877, 0.26628986, 0.29848787, ..., 0.30446112, 0.2886945 ,\n",
              "        0.28186136],\n",
              "       [0.24933921, 0.26191396, 0.29956728, ..., 0.3009553 , 0.28830338,\n",
              "        0.24218567],\n",
              "       [0.25730026, 0.27410123, 0.31021166, ..., 0.2697369 , 0.2564616 ,\n",
              "        0.19150986]], dtype=float32)"
            ]
          },
          "metadata": {},
          "execution_count": 143
        }
      ]
    },
    {
      "cell_type": "code",
      "source": [
        "import torch"
      ],
      "metadata": {
        "id": "cDejXWUaeVz6"
      },
      "execution_count": 179,
      "outputs": []
    },
    {
      "cell_type": "code",
      "source": [
        "i = 4\n",
        "plt.plot(np.arange(time_steps + target), test.iloc[i:time_steps + target+i, 0].values)\n",
        "plt.plot(np.arange(time_steps, time_steps + target), test.iloc[i+time_steps:time_steps + target+i, 0].values)\n",
        "plt.plot(np.arange(time_steps, time_steps + target) , model.predict(np.expand_dims(X_train[i], axis = 0)).squeeze())\n",
        "plt.vlines(7, 0, 1, color = 'gray', linestyle = '--')\n",
        "plt.ylim(0,test.iloc[:time_steps + target, 0].values.max() + 0.2)\n",
        "plt.legend(['period', 'True', 'Predict'])\n",
        "plt.show()"
      ],
      "metadata": {
        "colab": {
          "base_uri": "https://localhost:8080/",
          "height": 265
        },
        "id": "m1xcGLLie8Qw",
        "outputId": "08a61f84-ed40-4f9d-ec2d-92e3741330c0"
      },
      "execution_count": 193,
      "outputs": [
        {
          "output_type": "display_data",
          "data": {
            "image/png": "[encoded data removed]",
            "text/plain": [
              "<Figure size 432x288 with 1 Axes>"
            ]
          },
          "metadata": {
            "needs_background": "light"
          }
        }
      ]
    },
    {
      "cell_type": "markdown",
      "source": [
        "14, 1"
      ],
      "metadata": {
        "id": "YD928EvpgGl7"
      }
    },
    {
      "cell_type": "code",
      "source": [
        "time_steps = 14\n",
        "target = 1\n",
        "train_len = len(train)\n",
        "test_len = len(test)"
      ],
      "metadata": {
        "id": "fmnO5gdugGUY"
      },
      "execution_count": 196,
      "outputs": []
    },
    {
      "cell_type": "code",
      "source": [
        "X_train = []\n",
        "Y_train = []\n",
        "for i in range(time_steps, train_len-target):\n",
        "  X_train.append(train[i-time_steps:i])\n",
        "  Y_train.append(train.iloc[i:i+target, 0])\n",
        "\n",
        "X_train, Y_train = np.array(X_train), np.array(Y_train)"
      ],
      "metadata": {
        "id": "5_2da72-gMGj"
      },
      "execution_count": 197,
      "outputs": []
    },
    {
      "cell_type": "code",
      "source": [
        "X_test = []\n",
        "Y_test = []\n",
        "for i in range(time_steps, test_len-target):\n",
        "  X_test.append(test[i-time_steps:i])\n",
        "  Y_test.append(test.iloc[i:i+target, 0])\n",
        "\n",
        "X_test, Y_test = np.array(X_test), np.array(Y_test)"
      ],
      "metadata": {
        "id": "NC2wbz9fgkLh"
      },
      "execution_count": 198,
      "outputs": []
    },
    {
      "cell_type": "code",
      "source": [
        "K.clear_session()\n",
        "model = Sequential() # Sequeatial Model \n",
        "model.add(LSTM(20, input_shape=(None, 3))) # (timestep, feature) \n",
        "model.add(Dense(1)) # output = 1\n",
        "model.compile(loss='mean_squared_error', optimizer='adam') \n",
        "\n",
        "model.summary()"
      ],
      "metadata": {
        "colab": {
          "base_uri": "https://localhost:8080/"
        },
        "id": "yEgAffYLhOZm",
        "outputId": "895a605e-d0a1-4527-ea1c-2768dd0ffbaa"
      },
      "execution_count": 199,
      "outputs": [
        {
          "output_type": "stream",
          "name": "stdout",
          "text": [
            "Model: \"sequential\"\n",
            "_________________________________________________________________\n",
            " Layer (type)                Output Shape              Param #   \n",
            "=================================================================\n",
            " lstm (LSTM)                 (None, 20)                1920      \n",
            "                                                                 \n",
            " dense (Dense)               (None, 1)                 21        \n",
            "                                                                 \n",
            "=================================================================\n",
            "Total params: 1,941\n",
            "Trainable params: 1,941\n",
            "Non-trainable params: 0\n",
            "_________________________________________________________________\n"
          ]
        }
      ]
    },
    {
      "cell_type": "code",
      "source": [
        "history = model.fit(X_train, Y_train, epochs=100, validation_data=(X_test, Y_test))"
      ],
      "metadata": {
        "colab": {
          "base_uri": "https://localhost:8080/"
        },
        "id": "hvOqbaeQhSdI",
        "outputId": "c5aacbdd-4c5b-4d86-9901-69aa4a2560d5"
      },
      "execution_count": 200,
      "outputs": [
        {
          "output_type": "stream",
          "name": "stdout",
          "text": [
            "Epoch 1/100\n",
            "47/47 [==============================] - 3s 19ms/step - loss: 0.0236 - val_loss: 0.0086\n",
            "Epoch 2/100\n",
            "47/47 [==============================] - 0s 7ms/step - loss: 0.0064 - val_loss: 0.0084\n",
            "Epoch 3/100\n",
            "47/47 [==============================] - 0s 7ms/step - loss: 0.0063 - val_loss: 0.0083\n",
            "Epoch 4/100\n",
            "47/47 [==============================] - 0s 7ms/step - loss: 0.0062 - val_loss: 0.0083\n",
            "Epoch 5/100\n",
            "47/47 [==============================] - 0s 7ms/step - loss: 0.0061 - val_loss: 0.0083\n",
            "Epoch 6/100\n",
            "47/47 [==============================] - 0s 7ms/step - loss: 0.0062 - val_loss: 0.0082\n",
            "Epoch 7/100\n",
            "47/47 [==============================] - 0s 7ms/step - loss: 0.0061 - val_loss: 0.0081\n",
            "Epoch 8/100\n",
            "47/47 [==============================] - 0s 7ms/step - loss: 0.0062 - val_loss: 0.0082\n",
            "Epoch 9/100\n",
            "47/47 [==============================] - 0s 7ms/step - loss: 0.0061 - val_loss: 0.0082\n",
            "Epoch 10/100\n",
            "47/47 [==============================] - 0s 7ms/step - loss: 0.0061 - val_loss: 0.0082\n",
            "Epoch 11/100\n",
            "47/47 [==============================] - 0s 7ms/step - loss: 0.0061 - val_loss: 0.0083\n",
            "Epoch 12/100\n",
            "47/47 [==============================] - 0s 7ms/step - loss: 0.0061 - val_loss: 0.0082\n",
            "Epoch 13/100\n",
            "47/47 [==============================] - 0s 7ms/step - loss: 0.0061 - val_loss: 0.0083\n",
            "Epoch 14/100\n",
            "47/47 [==============================] - 0s 7ms/step - loss: 0.0061 - val_loss: 0.0081\n",
            "Epoch 15/100\n",
            "47/47 [==============================] - 0s 8ms/step - loss: 0.0061 - val_loss: 0.0081\n",
            "Epoch 16/100\n",
            "47/47 [==============================] - 0s 7ms/step - loss: 0.0061 - val_loss: 0.0081\n",
            "Epoch 17/100\n",
            "47/47 [==============================] - 0s 8ms/step - loss: 0.0061 - val_loss: 0.0081\n",
            "Epoch 18/100\n",
            "47/47 [==============================] - 0s 7ms/step - loss: 0.0061 - val_loss: 0.0081\n",
            "Epoch 19/100\n",
            "47/47 [==============================] - 0s 7ms/step - loss: 0.0061 - val_loss: 0.0082\n",
            "Epoch 20/100\n",
            "47/47 [==============================] - 0s 7ms/step - loss: 0.0061 - val_loss: 0.0082\n",
            "Epoch 21/100\n",
            "47/47 [==============================] - 0s 7ms/step - loss: 0.0061 - val_loss: 0.0081\n",
            "Epoch 22/100\n",
            "47/47 [==============================] - 0s 7ms/step - loss: 0.0061 - val_loss: 0.0081\n",
            "Epoch 23/100\n",
            "47/47 [==============================] - 0s 7ms/step - loss: 0.0061 - val_loss: 0.0081\n",
            "Epoch 24/100\n",
            "47/47 [==============================] - 0s 7ms/step - loss: 0.0061 - val_loss: 0.0080\n",
            "Epoch 25/100\n",
            "47/47 [==============================] - 0s 7ms/step - loss: 0.0061 - val_loss: 0.0080\n",
            "Epoch 26/100\n",
            "47/47 [==============================] - 0s 7ms/step - loss: 0.0061 - val_loss: 0.0080\n",
            "Epoch 27/100\n",
            "47/47 [==============================] - 0s 7ms/step - loss: 0.0061 - val_loss: 0.0081\n",
            "Epoch 28/100\n",
            "47/47 [==============================] - 0s 7ms/step - loss: 0.0060 - val_loss: 0.0080\n",
            "Epoch 29/100\n",
            "47/47 [==============================] - 0s 8ms/step - loss: 0.0061 - val_loss: 0.0083\n",
            "Epoch 30/100\n",
            "47/47 [==============================] - 0s 7ms/step - loss: 0.0060 - val_loss: 0.0081\n",
            "Epoch 31/100\n",
            "47/47 [==============================] - 0s 7ms/step - loss: 0.0060 - val_loss: 0.0079\n",
            "Epoch 32/100\n",
            "47/47 [==============================] - 0s 7ms/step - loss: 0.0060 - val_loss: 0.0084\n",
            "Epoch 33/100\n",
            "47/47 [==============================] - 0s 7ms/step - loss: 0.0060 - val_loss: 0.0079\n",
            "Epoch 34/100\n",
            "47/47 [==============================] - 0s 8ms/step - loss: 0.0060 - val_loss: 0.0081\n",
            "Epoch 35/100\n",
            "47/47 [==============================] - 0s 8ms/step - loss: 0.0060 - val_loss: 0.0079\n",
            "Epoch 36/100\n",
            "47/47 [==============================] - 0s 7ms/step - loss: 0.0060 - val_loss: 0.0079\n",
            "Epoch 37/100\n",
            "47/47 [==============================] - 0s 8ms/step - loss: 0.0060 - val_loss: 0.0079\n",
            "Epoch 38/100\n",
            "47/47 [==============================] - 0s 7ms/step - loss: 0.0060 - val_loss: 0.0079\n",
            "Epoch 39/100\n",
            "47/47 [==============================] - 0s 7ms/step - loss: 0.0060 - val_loss: 0.0079\n",
            "Epoch 40/100\n",
            "47/47 [==============================] - 0s 7ms/step - loss: 0.0059 - val_loss: 0.0080\n",
            "Epoch 41/100\n",
            "47/47 [==============================] - 0s 7ms/step - loss: 0.0060 - val_loss: 0.0079\n",
            "Epoch 42/100\n",
            "47/47 [==============================] - 0s 7ms/step - loss: 0.0059 - val_loss: 0.0079\n",
            "Epoch 43/100\n",
            "47/47 [==============================] - 0s 7ms/step - loss: 0.0059 - val_loss: 0.0080\n",
            "Epoch 44/100\n",
            "47/47 [==============================] - 0s 7ms/step - loss: 0.0059 - val_loss: 0.0078\n",
            "Epoch 45/100\n",
            "47/47 [==============================] - 0s 7ms/step - loss: 0.0059 - val_loss: 0.0077\n",
            "Epoch 46/100\n",
            "47/47 [==============================] - 0s 7ms/step - loss: 0.0059 - val_loss: 0.0078\n",
            "Epoch 47/100\n",
            "47/47 [==============================] - 0s 7ms/step - loss: 0.0060 - val_loss: 0.0077\n",
            "Epoch 48/100\n",
            "47/47 [==============================] - 0s 7ms/step - loss: 0.0059 - val_loss: 0.0077\n",
            "Epoch 49/100\n",
            "47/47 [==============================] - 0s 7ms/step - loss: 0.0059 - val_loss: 0.0084\n",
            "Epoch 50/100\n",
            "47/47 [==============================] - 0s 7ms/step - loss: 0.0060 - val_loss: 0.0078\n",
            "Epoch 51/100\n",
            "47/47 [==============================] - 0s 8ms/step - loss: 0.0059 - val_loss: 0.0077\n",
            "Epoch 52/100\n",
            "47/47 [==============================] - 0s 8ms/step - loss: 0.0059 - val_loss: 0.0077\n",
            "Epoch 53/100\n",
            "47/47 [==============================] - 0s 7ms/step - loss: 0.0059 - val_loss: 0.0076\n",
            "Epoch 54/100\n",
            "47/47 [==============================] - 0s 7ms/step - loss: 0.0060 - val_loss: 0.0076\n",
            "Epoch 55/100\n",
            "47/47 [==============================] - 0s 7ms/step - loss: 0.0059 - val_loss: 0.0077\n",
            "Epoch 56/100\n",
            "47/47 [==============================] - 0s 7ms/step - loss: 0.0059 - val_loss: 0.0079\n",
            "Epoch 57/100\n",
            "47/47 [==============================] - 0s 8ms/step - loss: 0.0059 - val_loss: 0.0077\n",
            "Epoch 58/100\n",
            "47/47 [==============================] - 0s 7ms/step - loss: 0.0058 - val_loss: 0.0076\n",
            "Epoch 59/100\n",
            "47/47 [==============================] - 0s 7ms/step - loss: 0.0058 - val_loss: 0.0077\n",
            "Epoch 60/100\n",
            "47/47 [==============================] - 0s 7ms/step - loss: 0.0058 - val_loss: 0.0076\n",
            "Epoch 61/100\n",
            "47/47 [==============================] - 0s 7ms/step - loss: 0.0058 - val_loss: 0.0078\n",
            "Epoch 62/100\n",
            "47/47 [==============================] - 0s 7ms/step - loss: 0.0058 - val_loss: 0.0077\n",
            "Epoch 63/100\n",
            "47/47 [==============================] - 0s 7ms/step - loss: 0.0058 - val_loss: 0.0076\n",
            "Epoch 64/100\n",
            "47/47 [==============================] - 0s 7ms/step - loss: 0.0058 - val_loss: 0.0076\n",
            "Epoch 65/100\n",
            "47/47 [==============================] - 0s 7ms/step - loss: 0.0058 - val_loss: 0.0076\n",
            "Epoch 66/100\n",
            "47/47 [==============================] - 0s 8ms/step - loss: 0.0058 - val_loss: 0.0087\n",
            "Epoch 67/100\n",
            "47/47 [==============================] - 0s 8ms/step - loss: 0.0058 - val_loss: 0.0080\n",
            "Epoch 68/100\n",
            "47/47 [==============================] - 0s 7ms/step - loss: 0.0058 - val_loss: 0.0079\n",
            "Epoch 69/100\n",
            "47/47 [==============================] - 0s 7ms/step - loss: 0.0058 - val_loss: 0.0076\n",
            "Epoch 70/100\n",
            "47/47 [==============================] - 0s 7ms/step - loss: 0.0057 - val_loss: 0.0077\n",
            "Epoch 71/100\n",
            "47/47 [==============================] - 0s 8ms/step - loss: 0.0057 - val_loss: 0.0077\n",
            "Epoch 72/100\n",
            "47/47 [==============================] - 0s 8ms/step - loss: 0.0057 - val_loss: 0.0076\n",
            "Epoch 73/100\n",
            "47/47 [==============================] - 0s 7ms/step - loss: 0.0057 - val_loss: 0.0077\n",
            "Epoch 74/100\n",
            "47/47 [==============================] - 0s 7ms/step - loss: 0.0056 - val_loss: 0.0076\n",
            "Epoch 75/100\n",
            "47/47 [==============================] - 0s 8ms/step - loss: 0.0057 - val_loss: 0.0075\n",
            "Epoch 76/100\n",
            "47/47 [==============================] - 0s 8ms/step - loss: 0.0057 - val_loss: 0.0075\n",
            "Epoch 77/100\n",
            "47/47 [==============================] - 0s 8ms/step - loss: 0.0058 - val_loss: 0.0075\n",
            "Epoch 78/100\n",
            "47/47 [==============================] - 0s 7ms/step - loss: 0.0057 - val_loss: 0.0075\n",
            "Epoch 79/100\n",
            "47/47 [==============================] - 0s 7ms/step - loss: 0.0056 - val_loss: 0.0075\n",
            "Epoch 80/100\n",
            "47/47 [==============================] - 0s 7ms/step - loss: 0.0057 - val_loss: 0.0077\n",
            "Epoch 81/100\n",
            "47/47 [==============================] - 0s 7ms/step - loss: 0.0056 - val_loss: 0.0075\n",
            "Epoch 82/100\n",
            "47/47 [==============================] - 0s 7ms/step - loss: 0.0056 - val_loss: 0.0075\n",
            "Epoch 83/100\n",
            "47/47 [==============================] - 0s 9ms/step - loss: 0.0055 - val_loss: 0.0082\n",
            "Epoch 84/100\n",
            "47/47 [==============================] - 0s 8ms/step - loss: 0.0055 - val_loss: 0.0076\n",
            "Epoch 85/100\n",
            "47/47 [==============================] - 0s 7ms/step - loss: 0.0056 - val_loss: 0.0074\n",
            "Epoch 86/100\n",
            "47/47 [==============================] - 0s 8ms/step - loss: 0.0055 - val_loss: 0.0076\n",
            "Epoch 87/100\n",
            "47/47 [==============================] - 0s 8ms/step - loss: 0.0056 - val_loss: 0.0077\n",
            "Epoch 88/100\n",
            "47/47 [==============================] - 0s 7ms/step - loss: 0.0055 - val_loss: 0.0074\n",
            "Epoch 89/100\n",
            "47/47 [==============================] - 0s 8ms/step - loss: 0.0056 - val_loss: 0.0074\n",
            "Epoch 90/100\n",
            "47/47 [==============================] - 0s 7ms/step - loss: 0.0054 - val_loss: 0.0074\n",
            "Epoch 91/100\n",
            "47/47 [==============================] - 0s 8ms/step - loss: 0.0055 - val_loss: 0.0074\n",
            "Epoch 92/100\n",
            "47/47 [==============================] - 0s 7ms/step - loss: 0.0054 - val_loss: 0.0076\n",
            "Epoch 93/100\n",
            "47/47 [==============================] - 0s 8ms/step - loss: 0.0054 - val_loss: 0.0081\n",
            "Epoch 94/100\n",
            "47/47 [==============================] - 0s 8ms/step - loss: 0.0054 - val_loss: 0.0073\n",
            "Epoch 95/100\n",
            "47/47 [==============================] - 0s 7ms/step - loss: 0.0054 - val_loss: 0.0075\n",
            "Epoch 96/100\n",
            "47/47 [==============================] - 0s 7ms/step - loss: 0.0054 - val_loss: 0.0078\n",
            "Epoch 97/100\n",
            "47/47 [==============================] - 0s 8ms/step - loss: 0.0053 - val_loss: 0.0073\n",
            "Epoch 98/100\n",
            "47/47 [==============================] - 0s 7ms/step - loss: 0.0054 - val_loss: 0.0073\n",
            "Epoch 99/100\n",
            "47/47 [==============================] - 0s 7ms/step - loss: 0.0052 - val_loss: 0.0075\n",
            "Epoch 100/100\n",
            "47/47 [==============================] - 0s 8ms/step - loss: 0.0054 - val_loss: 0.0072\n"
          ]
        }
      ]
    },
    {
      "cell_type": "code",
      "source": [
        "y_vloss = history.history['val_loss']\n",
        "y_loss = history.history['loss']\n",
        "\n",
        "x_len = np.arange(len(y_loss))\n",
        "plt.plot(x_len, y_vloss, marker='.', c='red', label=\"Validation-set Loss\")\n",
        "plt.plot(x_len, y_loss, marker='.', c='blue', label=\"Train-set Loss\")\n",
        "\n",
        "plt.legend(loc='upper right')\n",
        "plt.grid()\n",
        "plt.xlabel('epoch')\n",
        "plt.ylabel('loss')\n",
        "plt.show()"
      ],
      "metadata": {
        "colab": {
          "base_uri": "https://localhost:8080/",
          "height": 279
        },
        "id": "wr8LnAhuhc6Z",
        "outputId": "d6583e07-53f2-44f2-e81d-8b7966a7c239"
      },
      "execution_count": 201,
      "outputs": [
        {
          "output_type": "display_data",
          "data": {
            "image/png": "[encoded data removed]",
            "text/plain": [
              "<Figure size 432x288 with 1 Axes>"
            ]
          },
          "metadata": {
            "needs_background": "light"
          }
        }
      ]
    },
    {
      "cell_type": "code",
      "source": [
        "plt.figure(figsize = (10, 4))\n",
        "plt.plot(test.iloc[time_steps:-target, 0].values)\n",
        "plt.plot(model.predict(X_test)[:])\n",
        "\n",
        "plt.legend(['True', 'Predict'])\n",
        "plt.show()"
      ],
      "metadata": {
        "colab": {
          "base_uri": "https://localhost:8080/",
          "height": 265
        },
        "id": "8KeqcCQNhk37",
        "outputId": "efa3046f-24ff-44a6-fbde-1bfd10c849e0"
      },
      "execution_count": 202,
      "outputs": [
        {
          "output_type": "display_data",
          "data": {
            "image/png": "[encoded data removed]",
            "text/plain": [
              "<Figure size 720x288 with 1 Axes>"
            ]
          },
          "metadata": {
            "needs_background": "light"
          }
        }
      ]
    }
  ]
}
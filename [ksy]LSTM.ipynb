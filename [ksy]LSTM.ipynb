{
  "nbformat": 4,
  "nbformat_minor": 0,
  "metadata": {
    "colab": {
      "name": "[ksy]LSTM.ipynb",
      "provenance": [],
      "collapsed_sections": [],
      "include_colab_link": true
    },
    "kernelspec": {
      "name": "python3",
      "display_name": "Python 3"
    },
    "language_info": {
      "name": "python"
    },
    "accelerator": "GPU"
  },
  "cells": [
    {
      "cell_type": "markdown",
      "metadata": {
        "id": "view-in-github",
        "colab_type": "text"
      },
      "source": [
        "<a href=\"https://colab.research.google.com/github/ferrry-ghsb/bigdata_6team/blob/main/%5Bksy%5DLSTM.ipynb\" target=\"_parent\"><img src=\"https://colab.research.google.com/assets/colab-badge.svg\" alt=\"Open In Colab\"/></a>"
      ]
    },
    {
      "cell_type": "code",
      "metadata": {
        "id": "kHjd8vGzQWs7"
      },
      "source": [
        "import os\n",
        "import pandas as pd"
      ],
      "execution_count": 24,
      "outputs": []
    },
    {
      "cell_type": "code",
      "metadata": {
        "colab": {
          "base_uri": "https://localhost:8080/"
        },
        "id": "mynhOw8BXA-x",
        "outputId": "ac541569-9974-4c7c-8263-6811a50da1f1"
      },
      "source": [
        "from google.colab import drive\n",
        "drive.mount('/content/drive')"
      ],
      "execution_count": 25,
      "outputs": [
        {
          "output_type": "stream",
          "name": "stdout",
          "text": [
            "Drive already mounted at /content/drive; to attempt to forcibly remount, call drive.mount(\"/content/drive\", force_remount=True).\n"
          ]
        }
      ]
    },
    {
      "cell_type": "code",
      "metadata": {
        "id": "FmHdfEchOYdk"
      },
      "source": [
        "#전처리 완료된 파일 불러오기\n",
        "train = pd.read_csv('/content/drive/MyDrive/수업/빅데이터분석/데이터/gro_train.csv')\n",
        "test = pd.read_csv('/content/drive/MyDrive/수업/빅데이터분석/데이터/gro_test.csv')"
      ],
      "execution_count": 26,
      "outputs": []
    },
    {
      "cell_type": "code",
      "metadata": {
        "colab": {
          "base_uri": "https://localhost:8080/",
          "height": 424
        },
        "id": "T_qpTLXAAMHc",
        "outputId": "944360ae-20e5-4a50-cd0b-fe2b3f4fbb55"
      },
      "source": [
        "train"
      ],
      "execution_count": 27,
      "outputs": [
        {
          "output_type": "execute_result",
          "data": {
            "text/html": [
              "<div>\n",
              "<style scoped>\n",
              "    .dataframe tbody tr th:only-of-type {\n",
              "        vertical-align: middle;\n",
              "    }\n",
              "\n",
              "    .dataframe tbody tr th {\n",
              "        vertical-align: top;\n",
              "    }\n",
              "\n",
              "    .dataframe thead th {\n",
              "        text-align: right;\n",
              "    }\n",
              "</style>\n",
              "<table border=\"1\" class=\"dataframe\">\n",
              "  <thead>\n",
              "    <tr style=\"text-align: right;\">\n",
              "      <th></th>\n",
              "      <th>Unnamed: 0</th>\n",
              "      <th>0</th>\n",
              "      <th>1</th>\n",
              "      <th>2</th>\n",
              "    </tr>\n",
              "  </thead>\n",
              "  <tbody>\n",
              "    <tr>\n",
              "      <th>0</th>\n",
              "      <td>0</td>\n",
              "      <td>0.000000</td>\n",
              "      <td>0.000000</td>\n",
              "      <td>0.792965</td>\n",
              "    </tr>\n",
              "    <tr>\n",
              "      <th>1</th>\n",
              "      <td>1</td>\n",
              "      <td>0.292554</td>\n",
              "      <td>0.000000</td>\n",
              "      <td>0.792965</td>\n",
              "    </tr>\n",
              "    <tr>\n",
              "      <th>2</th>\n",
              "      <td>2</td>\n",
              "      <td>0.233977</td>\n",
              "      <td>0.000000</td>\n",
              "      <td>0.790951</td>\n",
              "    </tr>\n",
              "    <tr>\n",
              "      <th>3</th>\n",
              "      <td>3</td>\n",
              "      <td>0.226806</td>\n",
              "      <td>0.000000</td>\n",
              "      <td>0.792728</td>\n",
              "    </tr>\n",
              "    <tr>\n",
              "      <th>4</th>\n",
              "      <td>4</td>\n",
              "      <td>0.244457</td>\n",
              "      <td>0.000000</td>\n",
              "      <td>0.793675</td>\n",
              "    </tr>\n",
              "    <tr>\n",
              "      <th>...</th>\n",
              "      <td>...</td>\n",
              "      <td>...</td>\n",
              "      <td>...</td>\n",
              "      <td>...</td>\n",
              "    </tr>\n",
              "    <tr>\n",
              "      <th>1509</th>\n",
              "      <td>1509</td>\n",
              "      <td>0.335245</td>\n",
              "      <td>0.185629</td>\n",
              "      <td>0.319673</td>\n",
              "    </tr>\n",
              "    <tr>\n",
              "      <th>1510</th>\n",
              "      <td>1510</td>\n",
              "      <td>0.307998</td>\n",
              "      <td>0.173653</td>\n",
              "      <td>0.313159</td>\n",
              "    </tr>\n",
              "    <tr>\n",
              "      <th>1511</th>\n",
              "      <td>1511</td>\n",
              "      <td>0.149366</td>\n",
              "      <td>0.137725</td>\n",
              "      <td>0.313159</td>\n",
              "    </tr>\n",
              "    <tr>\n",
              "      <th>1512</th>\n",
              "      <td>1512</td>\n",
              "      <td>0.307998</td>\n",
              "      <td>0.161677</td>\n",
              "      <td>0.313159</td>\n",
              "    </tr>\n",
              "    <tr>\n",
              "      <th>1513</th>\n",
              "      <td>1513</td>\n",
              "      <td>0.271704</td>\n",
              "      <td>0.191617</td>\n",
              "      <td>0.314580</td>\n",
              "    </tr>\n",
              "  </tbody>\n",
              "</table>\n",
              "<p>1514 rows × 4 columns</p>\n",
              "</div>"
            ],
            "text/plain": [
              "      Unnamed: 0         0         1         2\n",
              "0              0  0.000000  0.000000  0.792965\n",
              "1              1  0.292554  0.000000  0.792965\n",
              "2              2  0.233977  0.000000  0.790951\n",
              "3              3  0.226806  0.000000  0.792728\n",
              "4              4  0.244457  0.000000  0.793675\n",
              "...          ...       ...       ...       ...\n",
              "1509        1509  0.335245  0.185629  0.319673\n",
              "1510        1510  0.307998  0.173653  0.313159\n",
              "1511        1511  0.149366  0.137725  0.313159\n",
              "1512        1512  0.307998  0.161677  0.313159\n",
              "1513        1513  0.271704  0.191617  0.314580\n",
              "\n",
              "[1514 rows x 4 columns]"
            ]
          },
          "metadata": {},
          "execution_count": 27
        }
      ]
    },
    {
      "cell_type": "code",
      "source": [
        "len(train)"
      ],
      "metadata": {
        "colab": {
          "base_uri": "https://localhost:8080/"
        },
        "id": "QMWsaj38MXmk",
        "outputId": "12348820-5dbe-4022-8f45-b32bf95cf183"
      },
      "execution_count": 28,
      "outputs": [
        {
          "output_type": "execute_result",
          "data": {
            "text/plain": [
              "1514"
            ]
          },
          "metadata": {},
          "execution_count": 28
        }
      ]
    },
    {
      "cell_type": "code",
      "source": [
        "train[6:7]"
      ],
      "metadata": {
        "colab": {
          "base_uri": "https://localhost:8080/",
          "height": 81
        },
        "id": "zjQW2Yy6NUHO",
        "outputId": "73d49b26-a910-4e1b-a758-2d200b68f6ab"
      },
      "execution_count": 29,
      "outputs": [
        {
          "output_type": "execute_result",
          "data": {
            "text/html": [
              "<div>\n",
              "<style scoped>\n",
              "    .dataframe tbody tr th:only-of-type {\n",
              "        vertical-align: middle;\n",
              "    }\n",
              "\n",
              "    .dataframe tbody tr th {\n",
              "        vertical-align: top;\n",
              "    }\n",
              "\n",
              "    .dataframe thead th {\n",
              "        text-align: right;\n",
              "    }\n",
              "</style>\n",
              "<table border=\"1\" class=\"dataframe\">\n",
              "  <thead>\n",
              "    <tr style=\"text-align: right;\">\n",
              "      <th></th>\n",
              "      <th>Unnamed: 0</th>\n",
              "      <th>0</th>\n",
              "      <th>1</th>\n",
              "      <th>2</th>\n",
              "    </tr>\n",
              "  </thead>\n",
              "  <tbody>\n",
              "    <tr>\n",
              "      <th>6</th>\n",
              "      <td>6</td>\n",
              "      <td>0.249531</td>\n",
              "      <td>0.0</td>\n",
              "      <td>0.793675</td>\n",
              "    </tr>\n",
              "  </tbody>\n",
              "</table>\n",
              "</div>"
            ],
            "text/plain": [
              "   Unnamed: 0         0    1         2\n",
              "6           6  0.249531  0.0  0.793675"
            ]
          },
          "metadata": {},
          "execution_count": 29
        }
      ]
    },
    {
      "cell_type": "code",
      "source": [
        "train= train.iloc[:, 1:4]"
      ],
      "metadata": {
        "id": "r3yG8fgLQFzf"
      },
      "execution_count": 30,
      "outputs": []
    },
    {
      "cell_type": "code",
      "source": [
        "test= test.iloc[:, 1:4]"
      ],
      "metadata": {
        "id": "6Z4c3XgLN7J7"
      },
      "execution_count": 31,
      "outputs": []
    },
    {
      "cell_type": "code",
      "source": [
        "time_steps = 7\n",
        "target = 1\n",
        "train_len = len(train)\n",
        "test_len = len(test)"
      ],
      "metadata": {
        "id": "VYKaIgCnMPAf"
      },
      "execution_count": 32,
      "outputs": []
    },
    {
      "cell_type": "code",
      "source": [
        "import numpy as np"
      ],
      "metadata": {
        "id": "QYQrNE2jBC0R"
      },
      "execution_count": 33,
      "outputs": []
    },
    {
      "cell_type": "code",
      "source": [
        "X_train = []\n",
        "Y_train = []\n",
        "for i in range(time_steps, train_len-1):\n",
        "  X_train.append(train[i-time_steps:i])\n",
        "  Y_train.append(train.iloc[i, 0])\n",
        "\n",
        "X_train, Y_train = np.array(X_train), np.array(Y_train)"
      ],
      "metadata": {
        "id": "k3OIRbj2MbrD"
      },
      "execution_count": 34,
      "outputs": []
    },
    {
      "cell_type": "code",
      "source": [
        "X_test = []\n",
        "Y_test = []\n",
        "for i in range(time_steps, test_len-1):\n",
        "  X_test.append(test[i-time_steps:i])\n",
        "  Y_test.append(test.iloc[i, 0])\n",
        "\n",
        "X_test, Y_test = np.array(X_test), np.array(Y_test)"
      ],
      "metadata": {
        "id": "hbqnsruaNJdW"
      },
      "execution_count": 35,
      "outputs": []
    },
    {
      "cell_type": "code",
      "source": [
        "X_train.shape, Y_train.shape"
      ],
      "metadata": {
        "colab": {
          "base_uri": "https://localhost:8080/"
        },
        "id": "GsetG6WjNlqH",
        "outputId": "dc1f4393-80b7-44b9-fdf7-fe7dc0392f98"
      },
      "execution_count": 36,
      "outputs": [
        {
          "output_type": "execute_result",
          "data": {
            "text/plain": [
              "((1506, 7, 3), (1506,))"
            ]
          },
          "metadata": {},
          "execution_count": 36
        }
      ]
    },
    {
      "cell_type": "code",
      "source": [
        "X_test.shape, Y_test.shape"
      ],
      "metadata": {
        "colab": {
          "base_uri": "https://localhost:8080/"
        },
        "id": "hAQUc9gnNyXW",
        "outputId": "a38fe968-1b2a-4dbf-f666-3fe1eba61fba"
      },
      "execution_count": 37,
      "outputs": [
        {
          "output_type": "execute_result",
          "data": {
            "text/plain": [
              "((192, 7, 3), (192,))"
            ]
          },
          "metadata": {},
          "execution_count": 37
        }
      ]
    },
    {
      "cell_type": "code",
      "source": [
        "from keras.layers import LSTM \n",
        "from keras.models import Sequential \n",
        "from keras.layers import Dense \n",
        "import keras.backend as K \n",
        "from keras.callbacks import EarlyStopping"
      ],
      "metadata": {
        "id": "SaGSchaHOFQg"
      },
      "execution_count": 38,
      "outputs": []
    },
    {
      "cell_type": "code",
      "source": [
        "K.clear_session()\n",
        "model = Sequential() # Sequeatial Model \n",
        "model.add(LSTM(20, input_shape=(None, 3))) # (timestep, feature) \n",
        "model.add(Dense(1)) # output = 1 \n",
        "model.compile(loss='mean_squared_error', optimizer='adam') \n",
        "\n",
        "model.summary()"
      ],
      "metadata": {
        "colab": {
          "base_uri": "https://localhost:8080/"
        },
        "id": "FWeVQ_zIOUFk",
        "outputId": "c6b110e2-862b-4862-9f6d-1921cd1d6b84"
      },
      "execution_count": 39,
      "outputs": [
        {
          "output_type": "stream",
          "name": "stdout",
          "text": [
            "Model: \"sequential\"\n",
            "_________________________________________________________________\n",
            " Layer (type)                Output Shape              Param #   \n",
            "=================================================================\n",
            " lstm (LSTM)                 (None, 20)                1920      \n",
            "                                                                 \n",
            " dense (Dense)               (None, 1)                 21        \n",
            "                                                                 \n",
            "=================================================================\n",
            "Total params: 1,941\n",
            "Trainable params: 1,941\n",
            "Non-trainable params: 0\n",
            "_________________________________________________________________\n"
          ]
        }
      ]
    },
    {
      "cell_type": "code",
      "source": [
        "history = model.fit(X_train, Y_train, epochs=100, validation_data=(X_test, Y_test))"
      ],
      "metadata": {
        "colab": {
          "base_uri": "https://localhost:8080/"
        },
        "id": "h5XGHz74O4fR",
        "outputId": "c32eed24-10ad-4b75-f626-8659cac8d8d8"
      },
      "execution_count": 18,
      "outputs": [
        {
          "output_type": "stream",
          "name": "stdout",
          "text": [
            "Epoch 1/100\n",
            "48/48 [==============================] - 6s 18ms/step - loss: 0.0129 - val_loss: 0.0092\n",
            "Epoch 2/100\n",
            "48/48 [==============================] - 0s 6ms/step - loss: 0.0070 - val_loss: 0.0089\n",
            "Epoch 3/100\n",
            "48/48 [==============================] - 0s 6ms/step - loss: 0.0065 - val_loss: 0.0086\n",
            "Epoch 4/100\n",
            "48/48 [==============================] - 0s 6ms/step - loss: 0.0063 - val_loss: 0.0082\n",
            "Epoch 5/100\n",
            "48/48 [==============================] - 0s 6ms/step - loss: 0.0062 - val_loss: 0.0081\n",
            "Epoch 6/100\n",
            "48/48 [==============================] - 0s 6ms/step - loss: 0.0062 - val_loss: 0.0083\n",
            "Epoch 7/100\n",
            "48/48 [==============================] - 0s 6ms/step - loss: 0.0063 - val_loss: 0.0080\n",
            "Epoch 8/100\n",
            "48/48 [==============================] - 0s 6ms/step - loss: 0.0061 - val_loss: 0.0081\n",
            "Epoch 9/100\n",
            "48/48 [==============================] - 0s 6ms/step - loss: 0.0062 - val_loss: 0.0080\n",
            "Epoch 10/100\n",
            "48/48 [==============================] - 0s 6ms/step - loss: 0.0063 - val_loss: 0.0081\n",
            "Epoch 11/100\n",
            "48/48 [==============================] - 0s 6ms/step - loss: 0.0062 - val_loss: 0.0079\n",
            "Epoch 12/100\n",
            "48/48 [==============================] - 0s 6ms/step - loss: 0.0062 - val_loss: 0.0079\n",
            "Epoch 13/100\n",
            "48/48 [==============================] - 0s 6ms/step - loss: 0.0061 - val_loss: 0.0079\n",
            "Epoch 14/100\n",
            "48/48 [==============================] - 0s 6ms/step - loss: 0.0061 - val_loss: 0.0081\n",
            "Epoch 15/100\n",
            "48/48 [==============================] - 0s 6ms/step - loss: 0.0062 - val_loss: 0.0079\n",
            "Epoch 16/100\n",
            "48/48 [==============================] - 0s 6ms/step - loss: 0.0062 - val_loss: 0.0078\n",
            "Epoch 17/100\n",
            "48/48 [==============================] - 0s 7ms/step - loss: 0.0061 - val_loss: 0.0079\n",
            "Epoch 18/100\n",
            "48/48 [==============================] - 0s 6ms/step - loss: 0.0061 - val_loss: 0.0079\n",
            "Epoch 19/100\n",
            "48/48 [==============================] - 0s 6ms/step - loss: 0.0060 - val_loss: 0.0078\n",
            "Epoch 20/100\n",
            "48/48 [==============================] - 0s 6ms/step - loss: 0.0060 - val_loss: 0.0078\n",
            "Epoch 21/100\n",
            "48/48 [==============================] - 0s 6ms/step - loss: 0.0060 - val_loss: 0.0078\n",
            "Epoch 22/100\n",
            "48/48 [==============================] - 0s 6ms/step - loss: 0.0062 - val_loss: 0.0080\n",
            "Epoch 23/100\n",
            "48/48 [==============================] - 0s 7ms/step - loss: 0.0060 - val_loss: 0.0078\n",
            "Epoch 24/100\n",
            "48/48 [==============================] - 0s 6ms/step - loss: 0.0059 - val_loss: 0.0078\n",
            "Epoch 25/100\n",
            "48/48 [==============================] - 0s 6ms/step - loss: 0.0059 - val_loss: 0.0077\n",
            "Epoch 26/100\n",
            "48/48 [==============================] - 0s 6ms/step - loss: 0.0061 - val_loss: 0.0077\n",
            "Epoch 27/100\n",
            "48/48 [==============================] - 0s 6ms/step - loss: 0.0059 - val_loss: 0.0077\n",
            "Epoch 28/100\n",
            "48/48 [==============================] - 0s 6ms/step - loss: 0.0060 - val_loss: 0.0077\n",
            "Epoch 29/100\n",
            "48/48 [==============================] - 0s 6ms/step - loss: 0.0060 - val_loss: 0.0076\n",
            "Epoch 30/100\n",
            "48/48 [==============================] - 0s 6ms/step - loss: 0.0059 - val_loss: 0.0076\n",
            "Epoch 31/100\n",
            "48/48 [==============================] - 0s 6ms/step - loss: 0.0059 - val_loss: 0.0075\n",
            "Epoch 32/100\n",
            "48/48 [==============================] - 0s 6ms/step - loss: 0.0059 - val_loss: 0.0075\n",
            "Epoch 33/100\n",
            "48/48 [==============================] - 0s 6ms/step - loss: 0.0058 - val_loss: 0.0077\n",
            "Epoch 34/100\n",
            "48/48 [==============================] - 0s 6ms/step - loss: 0.0058 - val_loss: 0.0075\n",
            "Epoch 35/100\n",
            "48/48 [==============================] - 0s 6ms/step - loss: 0.0057 - val_loss: 0.0073\n",
            "Epoch 36/100\n",
            "48/48 [==============================] - 0s 6ms/step - loss: 0.0058 - val_loss: 0.0073\n",
            "Epoch 37/100\n",
            "48/48 [==============================] - 0s 6ms/step - loss: 0.0056 - val_loss: 0.0071\n",
            "Epoch 38/100\n",
            "48/48 [==============================] - 0s 6ms/step - loss: 0.0056 - val_loss: 0.0071\n",
            "Epoch 39/100\n",
            "48/48 [==============================] - 0s 6ms/step - loss: 0.0056 - val_loss: 0.0073\n",
            "Epoch 40/100\n",
            "48/48 [==============================] - 0s 6ms/step - loss: 0.0057 - val_loss: 0.0077\n",
            "Epoch 41/100\n",
            "48/48 [==============================] - 0s 6ms/step - loss: 0.0056 - val_loss: 0.0069\n",
            "Epoch 42/100\n",
            "48/48 [==============================] - 0s 6ms/step - loss: 0.0056 - val_loss: 0.0072\n",
            "Epoch 43/100\n",
            "48/48 [==============================] - 0s 6ms/step - loss: 0.0055 - val_loss: 0.0072\n",
            "Epoch 44/100\n",
            "48/48 [==============================] - 0s 6ms/step - loss: 0.0054 - val_loss: 0.0066\n",
            "Epoch 45/100\n",
            "48/48 [==============================] - 0s 6ms/step - loss: 0.0054 - val_loss: 0.0067\n",
            "Epoch 46/100\n",
            "48/48 [==============================] - 0s 6ms/step - loss: 0.0053 - val_loss: 0.0065\n",
            "Epoch 47/100\n",
            "48/48 [==============================] - 0s 6ms/step - loss: 0.0052 - val_loss: 0.0068\n",
            "Epoch 48/100\n",
            "48/48 [==============================] - 0s 6ms/step - loss: 0.0051 - val_loss: 0.0065\n",
            "Epoch 49/100\n",
            "48/48 [==============================] - 0s 6ms/step - loss: 0.0051 - val_loss: 0.0067\n",
            "Epoch 50/100\n",
            "48/48 [==============================] - 0s 6ms/step - loss: 0.0051 - val_loss: 0.0067\n",
            "Epoch 51/100\n",
            "48/48 [==============================] - 0s 6ms/step - loss: 0.0052 - val_loss: 0.0068\n",
            "Epoch 52/100\n",
            "48/48 [==============================] - 0s 6ms/step - loss: 0.0052 - val_loss: 0.0064\n",
            "Epoch 53/100\n",
            "48/48 [==============================] - 0s 7ms/step - loss: 0.0051 - val_loss: 0.0064\n",
            "Epoch 54/100\n",
            "48/48 [==============================] - 0s 6ms/step - loss: 0.0051 - val_loss: 0.0067\n",
            "Epoch 55/100\n",
            "48/48 [==============================] - 0s 6ms/step - loss: 0.0050 - val_loss: 0.0063\n",
            "Epoch 56/100\n",
            "48/48 [==============================] - 0s 6ms/step - loss: 0.0051 - val_loss: 0.0064\n",
            "Epoch 57/100\n",
            "48/48 [==============================] - 0s 6ms/step - loss: 0.0050 - val_loss: 0.0064\n",
            "Epoch 58/100\n",
            "48/48 [==============================] - 0s 6ms/step - loss: 0.0050 - val_loss: 0.0064\n",
            "Epoch 59/100\n",
            "48/48 [==============================] - 0s 6ms/step - loss: 0.0049 - val_loss: 0.0064\n",
            "Epoch 60/100\n",
            "48/48 [==============================] - 0s 6ms/step - loss: 0.0051 - val_loss: 0.0063\n",
            "Epoch 61/100\n",
            "48/48 [==============================] - 0s 6ms/step - loss: 0.0048 - val_loss: 0.0063\n",
            "Epoch 62/100\n",
            "48/48 [==============================] - 0s 6ms/step - loss: 0.0048 - val_loss: 0.0066\n",
            "Epoch 63/100\n",
            "48/48 [==============================] - 0s 6ms/step - loss: 0.0048 - val_loss: 0.0063\n",
            "Epoch 64/100\n",
            "48/48 [==============================] - 0s 6ms/step - loss: 0.0048 - val_loss: 0.0067\n",
            "Epoch 65/100\n",
            "48/48 [==============================] - 0s 6ms/step - loss: 0.0051 - val_loss: 0.0063\n",
            "Epoch 66/100\n",
            "48/48 [==============================] - 0s 6ms/step - loss: 0.0048 - val_loss: 0.0064\n",
            "Epoch 67/100\n",
            "48/48 [==============================] - 0s 6ms/step - loss: 0.0048 - val_loss: 0.0063\n",
            "Epoch 68/100\n",
            "48/48 [==============================] - 0s 6ms/step - loss: 0.0047 - val_loss: 0.0063\n",
            "Epoch 69/100\n",
            "48/48 [==============================] - 0s 7ms/step - loss: 0.0048 - val_loss: 0.0065\n",
            "Epoch 70/100\n",
            "48/48 [==============================] - 0s 6ms/step - loss: 0.0048 - val_loss: 0.0063\n",
            "Epoch 71/100\n",
            "48/48 [==============================] - 0s 6ms/step - loss: 0.0048 - val_loss: 0.0064\n",
            "Epoch 72/100\n",
            "48/48 [==============================] - 0s 6ms/step - loss: 0.0048 - val_loss: 0.0063\n",
            "Epoch 73/100\n",
            "48/48 [==============================] - 0s 6ms/step - loss: 0.0047 - val_loss: 0.0065\n",
            "Epoch 74/100\n",
            "48/48 [==============================] - 0s 6ms/step - loss: 0.0047 - val_loss: 0.0065\n",
            "Epoch 75/100\n",
            "48/48 [==============================] - 0s 6ms/step - loss: 0.0046 - val_loss: 0.0062\n",
            "Epoch 76/100\n",
            "48/48 [==============================] - 0s 6ms/step - loss: 0.0046 - val_loss: 0.0066\n",
            "Epoch 77/100\n",
            "48/48 [==============================] - 0s 6ms/step - loss: 0.0047 - val_loss: 0.0062\n",
            "Epoch 78/100\n",
            "48/48 [==============================] - 0s 6ms/step - loss: 0.0047 - val_loss: 0.0063\n",
            "Epoch 79/100\n",
            "48/48 [==============================] - 0s 7ms/step - loss: 0.0046 - val_loss: 0.0065\n",
            "Epoch 80/100\n",
            "48/48 [==============================] - 0s 6ms/step - loss: 0.0047 - val_loss: 0.0062\n",
            "Epoch 81/100\n",
            "48/48 [==============================] - 0s 6ms/step - loss: 0.0046 - val_loss: 0.0069\n",
            "Epoch 82/100\n",
            "48/48 [==============================] - 0s 6ms/step - loss: 0.0045 - val_loss: 0.0066\n",
            "Epoch 83/100\n",
            "48/48 [==============================] - 0s 6ms/step - loss: 0.0046 - val_loss: 0.0061\n",
            "Epoch 84/100\n",
            "48/48 [==============================] - 0s 6ms/step - loss: 0.0045 - val_loss: 0.0061\n",
            "Epoch 85/100\n",
            "48/48 [==============================] - 0s 6ms/step - loss: 0.0046 - val_loss: 0.0061\n",
            "Epoch 86/100\n",
            "48/48 [==============================] - 0s 7ms/step - loss: 0.0046 - val_loss: 0.0062\n",
            "Epoch 87/100\n",
            "48/48 [==============================] - 0s 6ms/step - loss: 0.0045 - val_loss: 0.0061\n",
            "Epoch 88/100\n",
            "48/48 [==============================] - 0s 6ms/step - loss: 0.0046 - val_loss: 0.0060\n",
            "Epoch 89/100\n",
            "48/48 [==============================] - 0s 6ms/step - loss: 0.0044 - val_loss: 0.0060\n",
            "Epoch 90/100\n",
            "48/48 [==============================] - 0s 6ms/step - loss: 0.0045 - val_loss: 0.0059\n",
            "Epoch 91/100\n",
            "48/48 [==============================] - 0s 6ms/step - loss: 0.0044 - val_loss: 0.0059\n",
            "Epoch 92/100\n",
            "48/48 [==============================] - 0s 6ms/step - loss: 0.0045 - val_loss: 0.0059\n",
            "Epoch 93/100\n",
            "48/48 [==============================] - 0s 6ms/step - loss: 0.0045 - val_loss: 0.0058\n",
            "Epoch 94/100\n",
            "48/48 [==============================] - 0s 7ms/step - loss: 0.0044 - val_loss: 0.0058\n",
            "Epoch 95/100\n",
            "48/48 [==============================] - 0s 7ms/step - loss: 0.0045 - val_loss: 0.0058\n",
            "Epoch 96/100\n",
            "48/48 [==============================] - 0s 6ms/step - loss: 0.0043 - val_loss: 0.0058\n",
            "Epoch 97/100\n",
            "48/48 [==============================] - 0s 6ms/step - loss: 0.0044 - val_loss: 0.0058\n",
            "Epoch 98/100\n",
            "48/48 [==============================] - 0s 6ms/step - loss: 0.0043 - val_loss: 0.0059\n",
            "Epoch 99/100\n",
            "48/48 [==============================] - 0s 6ms/step - loss: 0.0043 - val_loss: 0.0056\n",
            "Epoch 100/100\n",
            "48/48 [==============================] - 0s 6ms/step - loss: 0.0043 - val_loss: 0.0056\n"
          ]
        }
      ]
    },
    {
      "cell_type": "code",
      "metadata": {
        "id": "HIZQnJ82PAZ5",
        "colab": {
          "base_uri": "https://localhost:8080/",
          "height": 279
        },
        "outputId": "427ec74f-45f7-4316-bdd8-6c8d7f6267a8"
      },
      "source": [
        "import matplotlib.pyplot as plt\n",
        "y_vloss = history.history['val_loss']\n",
        "y_loss = history.history['loss']\n",
        "\n",
        "x_len = np.arange(len(y_loss))\n",
        "plt.plot(x_len, y_vloss, marker='.', c='red', label=\"Validation-set Loss\")\n",
        "plt.plot(x_len, y_loss, marker='.', c='blue', label=\"Train-set Loss\")\n",
        "\n",
        "plt.legend(loc='upper right')\n",
        "plt.grid()\n",
        "plt.xlabel('epoch')\n",
        "plt.ylabel('loss')\n",
        "plt.show()"
      ],
      "execution_count": 19,
      "outputs": [
        {
          "output_type": "display_data",
          "data": {
            "image/png": "[encoded data removed]",
            "text/plain": [
              "<Figure size 432x288 with 1 Axes>"
            ]
          },
          "metadata": {
            "needs_background": "light"
          }
        }
      ]
    },
    {
      "cell_type": "code",
      "metadata": {
        "id": "TurcPK9AWwrf"
      },
      "source": [
        "def plot_predict(a = 0):\n",
        "    len_stor = range(1, 55)\n",
        "    len_family = range(33)\n",
        "\n",
        "    column_name = []\n",
        "    for store in len_stor:\n",
        "        for family in len_family:\n",
        "            column_name+= [f\"store : {store} family : {store_family.loc[store].iloc[family].name}\"]\n",
        "                \n",
        "    plt.plot(scaler.transform(sales_data)[-77:,a])\n",
        "    plt.plot(model.predict(X_valid)[:, a])\n",
        "    plt.title(column_name[a])\n",
        "    plt.legend(['True', 'Predict'])\n",
        "    plt.show()"
      ],
      "execution_count": 20,
      "outputs": []
    },
    {
      "cell_type": "code",
      "source": [
        "import matplotlib.pyplot as plt\n",
        "\n",
        "plt.figure(figsize = (10, 4))\n",
        "plt.plot(test.iloc[time_steps:-target, 0].values)\n",
        "plt.plot(model.predict(X_test)[:])\n",
        "\n",
        "plt.legend(['True', 'Predict'])\n",
        "plt.show()"
      ],
      "metadata": {
        "colab": {
          "base_uri": "https://localhost:8080/",
          "height": 265
        },
        "id": "7TCYk2OhJ6p7",
        "outputId": "6d919997-322a-48f2-ef91-4376969dbd09"
      },
      "execution_count": 21,
      "outputs": [
        {
          "output_type": "display_data",
          "data": {
            "image/png": "[encoded data removed]",
            "text/plain": [
              "<Figure size 720x288 with 1 Axes>"
            ]
          },
          "metadata": {
            "needs_background": "light"
          }
        }
      ]
    },
    {
      "cell_type": "markdown",
      "source": [
        "time step = 21일, 예측 1일"
      ],
      "metadata": {
        "id": "Q3BBMgNTVHBL"
      }
    },
    {
      "cell_type": "code",
      "source": [
        "time_steps = 21\n",
        "target = 1\n",
        "train_len = len(train)\n",
        "test_len = len(test)"
      ],
      "metadata": {
        "id": "E4ZK85iM50dI"
      },
      "execution_count": 22,
      "outputs": []
    },
    {
      "cell_type": "code",
      "source": [
        "X_train = []\n",
        "Y_train = []\n",
        "for i in range(time_steps, train_len-1):\n",
        "  X_train.append(train[i-time_steps:i])\n",
        "  Y_train.append(train.iloc[i, 0])\n",
        "\n",
        "X_train, Y_train = np.array(X_train), np.array(Y_train)"
      ],
      "metadata": {
        "id": "QrixGFrxUYjg"
      },
      "execution_count": 23,
      "outputs": []
    },
    {
      "cell_type": "code",
      "source": [
        "X_test = []\n",
        "Y_test = []\n",
        "for i in range(time_steps, test_len-1):\n",
        "  X_test.append(test[i-time_steps:i])\n",
        "  Y_test.append(test.iloc[i, 0])\n",
        "\n",
        "X_test, Y_test = np.array(X_test), np.array(Y_test)"
      ],
      "metadata": {
        "id": "QXhy-MQpUaJK"
      },
      "execution_count": 40,
      "outputs": []
    },
    {
      "cell_type": "code",
      "source": [
        "X_train.shape, Y_train.shape"
      ],
      "metadata": {
        "colab": {
          "base_uri": "https://localhost:8080/"
        },
        "id": "YF4FVxz8Ub8T",
        "outputId": "747e2dc4-50d4-4bbe-a47a-3f3479825b75"
      },
      "execution_count": 41,
      "outputs": [
        {
          "output_type": "execute_result",
          "data": {
            "text/plain": [
              "((1506, 7, 3), (1506,))"
            ]
          },
          "metadata": {},
          "execution_count": 41
        }
      ]
    },
    {
      "cell_type": "code",
      "source": [
        "X_test.shape, Y_test.shape"
      ],
      "metadata": {
        "colab": {
          "base_uri": "https://localhost:8080/"
        },
        "id": "OUmY1uP1Udk8",
        "outputId": "6279b85e-08c6-4de1-9868-db55b8e287d7"
      },
      "execution_count": 42,
      "outputs": [
        {
          "output_type": "execute_result",
          "data": {
            "text/plain": [
              "((192, 7, 3), (192,))"
            ]
          },
          "metadata": {},
          "execution_count": 42
        }
      ]
    },
    {
      "cell_type": "code",
      "source": [
        "K.clear_session()\n",
        "model = Sequential() # Sequeatial Model \n",
        "model.add(LSTM(20, input_shape=(None, 3))) # (timestep, feature) \n",
        "model.add(Dense(1)) # output = 1 \n",
        "model.compile(loss='mean_squared_error', optimizer='adam') \n",
        "\n",
        "model.summary()"
      ],
      "metadata": {
        "colab": {
          "base_uri": "https://localhost:8080/"
        },
        "id": "Of1NSwWMUfmE",
        "outputId": "b2ba551a-69d9-44dc-c414-bf43e2388c1b"
      },
      "execution_count": 43,
      "outputs": [
        {
          "output_type": "stream",
          "name": "stdout",
          "text": [
            "Model: \"sequential\"\n",
            "_________________________________________________________________\n",
            " Layer (type)                Output Shape              Param #   \n",
            "=================================================================\n",
            " lstm (LSTM)                 (None, 20)                1920      \n",
            "                                                                 \n",
            " dense (Dense)               (None, 1)                 21        \n",
            "                                                                 \n",
            "=================================================================\n",
            "Total params: 1,941\n",
            "Trainable params: 1,941\n",
            "Non-trainable params: 0\n",
            "_________________________________________________________________\n"
          ]
        }
      ]
    },
    {
      "cell_type": "code",
      "source": [
        "history = model.fit(X_train, Y_train, epochs=100, validation_data=(X_test, Y_test))"
      ],
      "metadata": {
        "colab": {
          "base_uri": "https://localhost:8080/"
        },
        "id": "mK9g30OaUhNd",
        "outputId": "e29786c6-dc0d-4aa6-dfce-aa06ff2da857"
      },
      "execution_count": 44,
      "outputs": [
        {
          "output_type": "stream",
          "name": "stdout",
          "text": [
            "Epoch 1/100\n",
            "48/48 [==============================] - 3s 17ms/step - loss: 0.0095 - val_loss: 0.0088\n",
            "Epoch 2/100\n",
            "48/48 [==============================] - 0s 6ms/step - loss: 0.0064 - val_loss: 0.0085\n",
            "Epoch 3/100\n",
            "48/48 [==============================] - 0s 5ms/step - loss: 0.0062 - val_loss: 0.0080\n",
            "Epoch 4/100\n",
            "48/48 [==============================] - 0s 6ms/step - loss: 0.0062 - val_loss: 0.0080\n",
            "Epoch 5/100\n",
            "48/48 [==============================] - 0s 5ms/step - loss: 0.0062 - val_loss: 0.0080\n",
            "Epoch 6/100\n",
            "48/48 [==============================] - 0s 6ms/step - loss: 0.0062 - val_loss: 0.0080\n",
            "Epoch 7/100\n",
            "48/48 [==============================] - 0s 6ms/step - loss: 0.0061 - val_loss: 0.0079\n",
            "Epoch 8/100\n",
            "48/48 [==============================] - 0s 6ms/step - loss: 0.0062 - val_loss: 0.0079\n",
            "Epoch 9/100\n",
            "48/48 [==============================] - 0s 6ms/step - loss: 0.0061 - val_loss: 0.0079\n",
            "Epoch 10/100\n",
            "48/48 [==============================] - 0s 6ms/step - loss: 0.0061 - val_loss: 0.0079\n",
            "Epoch 11/100\n",
            "48/48 [==============================] - 0s 6ms/step - loss: 0.0061 - val_loss: 0.0079\n",
            "Epoch 12/100\n",
            "48/48 [==============================] - 0s 6ms/step - loss: 0.0062 - val_loss: 0.0079\n",
            "Epoch 13/100\n",
            "48/48 [==============================] - 0s 6ms/step - loss: 0.0061 - val_loss: 0.0079\n",
            "Epoch 14/100\n",
            "48/48 [==============================] - 0s 6ms/step - loss: 0.0060 - val_loss: 0.0079\n",
            "Epoch 15/100\n",
            "48/48 [==============================] - 0s 6ms/step - loss: 0.0062 - val_loss: 0.0078\n",
            "Epoch 16/100\n",
            "48/48 [==============================] - 0s 6ms/step - loss: 0.0062 - val_loss: 0.0078\n",
            "Epoch 17/100\n",
            "48/48 [==============================] - 0s 6ms/step - loss: 0.0060 - val_loss: 0.0080\n",
            "Epoch 18/100\n",
            "48/48 [==============================] - 0s 5ms/step - loss: 0.0060 - val_loss: 0.0077\n",
            "Epoch 19/100\n",
            "48/48 [==============================] - 0s 6ms/step - loss: 0.0060 - val_loss: 0.0077\n",
            "Epoch 20/100\n",
            "48/48 [==============================] - 0s 6ms/step - loss: 0.0060 - val_loss: 0.0077\n",
            "Epoch 21/100\n",
            "48/48 [==============================] - 0s 5ms/step - loss: 0.0060 - val_loss: 0.0077\n",
            "Epoch 22/100\n",
            "48/48 [==============================] - 0s 5ms/step - loss: 0.0059 - val_loss: 0.0077\n",
            "Epoch 23/100\n",
            "48/48 [==============================] - 0s 6ms/step - loss: 0.0060 - val_loss: 0.0077\n",
            "Epoch 24/100\n",
            "48/48 [==============================] - 0s 6ms/step - loss: 0.0060 - val_loss: 0.0076\n",
            "Epoch 25/100\n",
            "48/48 [==============================] - 0s 6ms/step - loss: 0.0059 - val_loss: 0.0077\n",
            "Epoch 26/100\n",
            "48/48 [==============================] - 0s 6ms/step - loss: 0.0059 - val_loss: 0.0076\n",
            "Epoch 27/100\n",
            "48/48 [==============================] - 0s 6ms/step - loss: 0.0060 - val_loss: 0.0076\n",
            "Epoch 28/100\n",
            "48/48 [==============================] - 0s 6ms/step - loss: 0.0059 - val_loss: 0.0077\n",
            "Epoch 29/100\n",
            "48/48 [==============================] - 0s 5ms/step - loss: 0.0058 - val_loss: 0.0078\n",
            "Epoch 30/100\n",
            "48/48 [==============================] - 0s 5ms/step - loss: 0.0059 - val_loss: 0.0074\n",
            "Epoch 31/100\n",
            "48/48 [==============================] - 0s 5ms/step - loss: 0.0058 - val_loss: 0.0076\n",
            "Epoch 32/100\n",
            "48/48 [==============================] - 0s 6ms/step - loss: 0.0060 - val_loss: 0.0076\n",
            "Epoch 33/100\n",
            "48/48 [==============================] - 0s 6ms/step - loss: 0.0059 - val_loss: 0.0080\n",
            "Epoch 34/100\n",
            "48/48 [==============================] - 0s 6ms/step - loss: 0.0058 - val_loss: 0.0075\n",
            "Epoch 35/100\n",
            "48/48 [==============================] - 0s 6ms/step - loss: 0.0057 - val_loss: 0.0073\n",
            "Epoch 36/100\n",
            "48/48 [==============================] - 0s 6ms/step - loss: 0.0057 - val_loss: 0.0073\n",
            "Epoch 37/100\n",
            "48/48 [==============================] - 0s 6ms/step - loss: 0.0057 - val_loss: 0.0072\n",
            "Epoch 38/100\n",
            "48/48 [==============================] - 0s 6ms/step - loss: 0.0056 - val_loss: 0.0071\n",
            "Epoch 39/100\n",
            "48/48 [==============================] - 0s 7ms/step - loss: 0.0056 - val_loss: 0.0070\n",
            "Epoch 40/100\n",
            "48/48 [==============================] - 0s 6ms/step - loss: 0.0055 - val_loss: 0.0070\n",
            "Epoch 41/100\n",
            "48/48 [==============================] - 0s 6ms/step - loss: 0.0057 - val_loss: 0.0071\n",
            "Epoch 42/100\n",
            "48/48 [==============================] - 0s 6ms/step - loss: 0.0054 - val_loss: 0.0074\n",
            "Epoch 43/100\n",
            "48/48 [==============================] - 0s 6ms/step - loss: 0.0055 - val_loss: 0.0067\n",
            "Epoch 44/100\n",
            "48/48 [==============================] - 0s 6ms/step - loss: 0.0053 - val_loss: 0.0067\n",
            "Epoch 45/100\n",
            "48/48 [==============================] - 0s 6ms/step - loss: 0.0053 - val_loss: 0.0069\n",
            "Epoch 46/100\n",
            "48/48 [==============================] - 0s 6ms/step - loss: 0.0053 - val_loss: 0.0067\n",
            "Epoch 47/100\n",
            "48/48 [==============================] - 0s 6ms/step - loss: 0.0053 - val_loss: 0.0066\n",
            "Epoch 48/100\n",
            "48/48 [==============================] - 0s 5ms/step - loss: 0.0056 - val_loss: 0.0065\n",
            "Epoch 49/100\n",
            "48/48 [==============================] - 0s 5ms/step - loss: 0.0052 - val_loss: 0.0067\n",
            "Epoch 50/100\n",
            "48/48 [==============================] - 0s 5ms/step - loss: 0.0052 - val_loss: 0.0069\n",
            "Epoch 51/100\n",
            "48/48 [==============================] - 0s 5ms/step - loss: 0.0052 - val_loss: 0.0065\n",
            "Epoch 52/100\n",
            "48/48 [==============================] - 0s 5ms/step - loss: 0.0051 - val_loss: 0.0068\n",
            "Epoch 53/100\n",
            "48/48 [==============================] - 0s 6ms/step - loss: 0.0051 - val_loss: 0.0066\n",
            "Epoch 54/100\n",
            "48/48 [==============================] - 0s 6ms/step - loss: 0.0050 - val_loss: 0.0065\n",
            "Epoch 55/100\n",
            "48/48 [==============================] - 0s 6ms/step - loss: 0.0049 - val_loss: 0.0068\n",
            "Epoch 56/100\n",
            "48/48 [==============================] - 0s 5ms/step - loss: 0.0050 - val_loss: 0.0067\n",
            "Epoch 57/100\n",
            "48/48 [==============================] - 0s 6ms/step - loss: 0.0049 - val_loss: 0.0064\n",
            "Epoch 58/100\n",
            "48/48 [==============================] - 0s 6ms/step - loss: 0.0050 - val_loss: 0.0064\n",
            "Epoch 59/100\n",
            "48/48 [==============================] - 0s 5ms/step - loss: 0.0048 - val_loss: 0.0064\n",
            "Epoch 60/100\n",
            "48/48 [==============================] - 0s 6ms/step - loss: 0.0048 - val_loss: 0.0065\n",
            "Epoch 61/100\n",
            "48/48 [==============================] - 0s 6ms/step - loss: 0.0053 - val_loss: 0.0065\n",
            "Epoch 62/100\n",
            "48/48 [==============================] - 0s 5ms/step - loss: 0.0049 - val_loss: 0.0063\n",
            "Epoch 63/100\n",
            "48/48 [==============================] - 0s 5ms/step - loss: 0.0048 - val_loss: 0.0063\n",
            "Epoch 64/100\n",
            "48/48 [==============================] - 0s 6ms/step - loss: 0.0048 - val_loss: 0.0063\n",
            "Epoch 65/100\n",
            "48/48 [==============================] - 0s 6ms/step - loss: 0.0048 - val_loss: 0.0063\n",
            "Epoch 66/100\n",
            "48/48 [==============================] - 0s 6ms/step - loss: 0.0048 - val_loss: 0.0063\n",
            "Epoch 67/100\n",
            "48/48 [==============================] - 0s 6ms/step - loss: 0.0047 - val_loss: 0.0064\n",
            "Epoch 68/100\n",
            "48/48 [==============================] - 0s 6ms/step - loss: 0.0049 - val_loss: 0.0064\n",
            "Epoch 69/100\n",
            "48/48 [==============================] - 0s 6ms/step - loss: 0.0047 - val_loss: 0.0063\n",
            "Epoch 70/100\n",
            "48/48 [==============================] - 0s 6ms/step - loss: 0.0048 - val_loss: 0.0063\n",
            "Epoch 71/100\n",
            "48/48 [==============================] - 0s 6ms/step - loss: 0.0047 - val_loss: 0.0065\n",
            "Epoch 72/100\n",
            "48/48 [==============================] - 0s 6ms/step - loss: 0.0048 - val_loss: 0.0064\n",
            "Epoch 73/100\n",
            "48/48 [==============================] - 0s 5ms/step - loss: 0.0046 - val_loss: 0.0063\n",
            "Epoch 74/100\n",
            "48/48 [==============================] - 0s 6ms/step - loss: 0.0047 - val_loss: 0.0069\n",
            "Epoch 75/100\n",
            "48/48 [==============================] - 0s 5ms/step - loss: 0.0047 - val_loss: 0.0062\n",
            "Epoch 76/100\n",
            "48/48 [==============================] - 0s 6ms/step - loss: 0.0047 - val_loss: 0.0062\n",
            "Epoch 77/100\n",
            "48/48 [==============================] - 0s 6ms/step - loss: 0.0049 - val_loss: 0.0066\n",
            "Epoch 78/100\n",
            "48/48 [==============================] - 0s 6ms/step - loss: 0.0047 - val_loss: 0.0062\n",
            "Epoch 79/100\n",
            "48/48 [==============================] - 0s 6ms/step - loss: 0.0047 - val_loss: 0.0061\n",
            "Epoch 80/100\n",
            "48/48 [==============================] - 0s 6ms/step - loss: 0.0047 - val_loss: 0.0061\n",
            "Epoch 81/100\n",
            "48/48 [==============================] - 0s 6ms/step - loss: 0.0046 - val_loss: 0.0062\n",
            "Epoch 82/100\n",
            "48/48 [==============================] - 0s 6ms/step - loss: 0.0046 - val_loss: 0.0061\n",
            "Epoch 83/100\n",
            "48/48 [==============================] - 0s 6ms/step - loss: 0.0046 - val_loss: 0.0064\n",
            "Epoch 84/100\n",
            "48/48 [==============================] - 0s 6ms/step - loss: 0.0046 - val_loss: 0.0062\n",
            "Epoch 85/100\n",
            "48/48 [==============================] - 0s 6ms/step - loss: 0.0045 - val_loss: 0.0061\n",
            "Epoch 86/100\n",
            "48/48 [==============================] - 0s 6ms/step - loss: 0.0045 - val_loss: 0.0061\n",
            "Epoch 87/100\n",
            "48/48 [==============================] - 0s 6ms/step - loss: 0.0045 - val_loss: 0.0062\n",
            "Epoch 88/100\n",
            "48/48 [==============================] - 0s 6ms/step - loss: 0.0046 - val_loss: 0.0071\n",
            "Epoch 89/100\n",
            "48/48 [==============================] - 0s 6ms/step - loss: 0.0045 - val_loss: 0.0061\n",
            "Epoch 90/100\n",
            "48/48 [==============================] - 0s 6ms/step - loss: 0.0046 - val_loss: 0.0062\n",
            "Epoch 91/100\n",
            "48/48 [==============================] - 0s 6ms/step - loss: 0.0045 - val_loss: 0.0062\n",
            "Epoch 92/100\n",
            "48/48 [==============================] - 0s 5ms/step - loss: 0.0046 - val_loss: 0.0063\n",
            "Epoch 93/100\n",
            "48/48 [==============================] - 0s 6ms/step - loss: 0.0045 - val_loss: 0.0061\n",
            "Epoch 94/100\n",
            "48/48 [==============================] - 0s 6ms/step - loss: 0.0045 - val_loss: 0.0062\n",
            "Epoch 95/100\n",
            "48/48 [==============================] - 0s 6ms/step - loss: 0.0045 - val_loss: 0.0061\n",
            "Epoch 96/100\n",
            "48/48 [==============================] - 0s 6ms/step - loss: 0.0044 - val_loss: 0.0060\n",
            "Epoch 97/100\n",
            "48/48 [==============================] - 0s 6ms/step - loss: 0.0045 - val_loss: 0.0061\n",
            "Epoch 98/100\n",
            "48/48 [==============================] - 0s 6ms/step - loss: 0.0045 - val_loss: 0.0061\n",
            "Epoch 99/100\n",
            "48/48 [==============================] - 0s 6ms/step - loss: 0.0045 - val_loss: 0.0067\n",
            "Epoch 100/100\n",
            "48/48 [==============================] - 0s 6ms/step - loss: 0.0045 - val_loss: 0.0060\n"
          ]
        }
      ]
    },
    {
      "cell_type": "code",
      "source": [
        "y_vloss = history.history['val_loss']\n",
        "y_loss = history.history['loss']\n",
        "\n",
        "x_len = np.arange(len(y_loss))\n",
        "plt.plot(x_len, y_vloss, marker='.', c='red', label=\"Validation-set Loss\")\n",
        "plt.plot(x_len, y_loss, marker='.', c='blue', label=\"Train-set Loss\")\n",
        "\n",
        "plt.legend(loc='upper right')\n",
        "plt.grid()\n",
        "plt.xlabel('epoch')\n",
        "plt.ylabel('loss')\n",
        "plt.show()"
      ],
      "metadata": {
        "colab": {
          "base_uri": "https://localhost:8080/",
          "height": 279
        },
        "id": "NmH7uMSuVETS",
        "outputId": "081c899b-50d4-4069-f9c6-a18973a36cad"
      },
      "execution_count": 45,
      "outputs": [
        {
          "output_type": "display_data",
          "data": {
            "image/png": "[encoded data removed]",
            "text/plain": [
              "<Figure size 432x288 with 1 Axes>"
            ]
          },
          "metadata": {
            "needs_background": "light"
          }
        }
      ]
    },
    {
      "cell_type": "code",
      "source": [
        "plt.figure(figsize = (10, 4))\n",
        "plt.plot(test.iloc[time_steps:-target, 0].values)\n",
        "plt.plot(model.predict(X_test)[:])\n",
        "\n",
        "plt.legend(['True', 'Predict'])\n",
        "plt.show()"
      ],
      "metadata": {
        "colab": {
          "base_uri": "https://localhost:8080/",
          "height": 265
        },
        "id": "nCVovIlMVPBq",
        "outputId": "f6814e0c-9c65-4a15-87b5-309065a2a2ca"
      },
      "execution_count": 46,
      "outputs": [
        {
          "output_type": "display_data",
          "data": {
            "image/png": "[encoded data removed]",
            "text/plain": [
              "<Figure size 720x288 with 1 Axes>"
            ]
          },
          "metadata": {
            "needs_background": "light"
          }
        }
      ]
    },
    {
      "cell_type": "markdown",
      "source": [
        "7, 7"
      ],
      "metadata": {
        "id": "dULfIjO_XoB1"
      }
    },
    {
      "cell_type": "code",
      "source": [
        "train.iloc[7:14, 0]"
      ],
      "metadata": {
        "colab": {
          "base_uri": "https://localhost:8080/"
        },
        "id": "KY6nAJVJXBz-",
        "outputId": "1bb5067a-4ee1-4dd4-b73a-42122ab68297"
      },
      "execution_count": 47,
      "outputs": [
        {
          "output_type": "execute_result",
          "data": {
            "text/plain": [
              "7     0.196580\n",
              "8     0.267954\n",
              "9     0.170325\n",
              "10    0.193050\n",
              "11    0.198125\n",
              "12    0.106012\n",
              "13    0.209818\n",
              "Name: 0, dtype: float64"
            ]
          },
          "metadata": {},
          "execution_count": 47
        }
      ]
    },
    {
      "cell_type": "code",
      "source": [
        "time_steps = 7\n",
        "target = 7\n",
        "train_len = len(train)\n",
        "test_len = len(test)"
      ],
      "metadata": {
        "id": "oip4aB45VoV7"
      },
      "execution_count": 48,
      "outputs": []
    },
    {
      "cell_type": "code",
      "source": [
        "X_train = []\n",
        "Y_train = []\n",
        "for i in range(time_steps, train_len-target):\n",
        "  X_train.append(train[i-time_steps:i])\n",
        "  Y_train.append(train.iloc[i:i+target, 0])\n",
        "\n",
        "X_train, Y_train = np.array(X_train), np.array(Y_train)"
      ],
      "metadata": {
        "id": "jPPkgdOfWrCb"
      },
      "execution_count": 49,
      "outputs": []
    },
    {
      "cell_type": "code",
      "source": [
        "X_test = []\n",
        "Y_test = []\n",
        "for i in range(time_steps, test_len-target):\n",
        "  X_test.append(test[i-time_steps:i])\n",
        "  Y_test.append(test.iloc[i:i+target, 0])\n",
        "\n",
        "X_test, Y_test = np.array(X_test), np.array(Y_test)"
      ],
      "metadata": {
        "id": "7jzuBG0yWtEk"
      },
      "execution_count": 50,
      "outputs": []
    },
    {
      "cell_type": "code",
      "source": [
        "X_train.shape, Y_train.shape"
      ],
      "metadata": {
        "colab": {
          "base_uri": "https://localhost:8080/"
        },
        "id": "r_dxEKflWutJ",
        "outputId": "8fc8ade3-99d8-4fe9-bcd0-cb8ab9af054d"
      },
      "execution_count": 51,
      "outputs": [
        {
          "output_type": "execute_result",
          "data": {
            "text/plain": [
              "((1500, 7, 3), (1500, 7))"
            ]
          },
          "metadata": {},
          "execution_count": 51
        }
      ]
    },
    {
      "cell_type": "code",
      "source": [
        "X_test.shape, Y_test.shape"
      ],
      "metadata": {
        "colab": {
          "base_uri": "https://localhost:8080/"
        },
        "id": "KcF8vYyCWy-t",
        "outputId": "05bdcc06-fded-4ca6-85ec-0cda6d3aa522"
      },
      "execution_count": 52,
      "outputs": [
        {
          "output_type": "execute_result",
          "data": {
            "text/plain": [
              "((186, 7, 3), (186, 7))"
            ]
          },
          "metadata": {},
          "execution_count": 52
        }
      ]
    },
    {
      "cell_type": "code",
      "source": [
        "K.clear_session()\n",
        "model = Sequential() # Sequeatial Model \n",
        "model.add(LSTM(20, input_shape=(None, 3))) # (timestep, feature) \n",
        "model.add(Dense(7)) # output = 7\n",
        "model.compile(loss='mean_squared_error', optimizer='adam') \n",
        "\n",
        "model.summary()"
      ],
      "metadata": {
        "colab": {
          "base_uri": "https://localhost:8080/"
        },
        "id": "8MbxAWOwW7fz",
        "outputId": "377d7870-aa42-4320-8f00-1bd575fe24f0"
      },
      "execution_count": 53,
      "outputs": [
        {
          "output_type": "stream",
          "name": "stdout",
          "text": [
            "Model: \"sequential\"\n",
            "_________________________________________________________________\n",
            " Layer (type)                Output Shape              Param #   \n",
            "=================================================================\n",
            " lstm (LSTM)                 (None, 20)                1920      \n",
            "                                                                 \n",
            " dense (Dense)               (None, 7)                 147       \n",
            "                                                                 \n",
            "=================================================================\n",
            "Total params: 2,067\n",
            "Trainable params: 2,067\n",
            "Non-trainable params: 0\n",
            "_________________________________________________________________\n"
          ]
        }
      ]
    },
    {
      "cell_type": "code",
      "source": [
        "history = model.fit(X_train, Y_train, epochs=100, validation_data=(X_test, Y_test))"
      ],
      "metadata": {
        "colab": {
          "base_uri": "https://localhost:8080/"
        },
        "id": "C3B28g8jW_fe",
        "outputId": "d6ebc623-a3e5-4ecf-eec2-8c318f8d6cec"
      },
      "execution_count": 54,
      "outputs": [
        {
          "output_type": "stream",
          "name": "stdout",
          "text": [
            "Epoch 1/100\n",
            "47/47 [==============================] - 3s 16ms/step - loss: 0.0348 - val_loss: 0.0145\n",
            "Epoch 2/100\n",
            "47/47 [==============================] - 0s 6ms/step - loss: 0.0092 - val_loss: 0.0093\n",
            "Epoch 3/100\n",
            "47/47 [==============================] - 0s 6ms/step - loss: 0.0071 - val_loss: 0.0084\n",
            "Epoch 4/100\n",
            "47/47 [==============================] - 0s 5ms/step - loss: 0.0066 - val_loss: 0.0082\n",
            "Epoch 5/100\n",
            "47/47 [==============================] - 0s 6ms/step - loss: 0.0064 - val_loss: 0.0081\n",
            "Epoch 6/100\n",
            "47/47 [==============================] - 0s 6ms/step - loss: 0.0063 - val_loss: 0.0080\n",
            "Epoch 7/100\n",
            "47/47 [==============================] - 0s 6ms/step - loss: 0.0063 - val_loss: 0.0080\n",
            "Epoch 8/100\n",
            "47/47 [==============================] - 0s 6ms/step - loss: 0.0063 - val_loss: 0.0080\n",
            "Epoch 9/100\n",
            "47/47 [==============================] - 0s 5ms/step - loss: 0.0063 - val_loss: 0.0079\n",
            "Epoch 10/100\n",
            "47/47 [==============================] - 0s 6ms/step - loss: 0.0062 - val_loss: 0.0079\n",
            "Epoch 11/100\n",
            "47/47 [==============================] - 0s 6ms/step - loss: 0.0062 - val_loss: 0.0079\n",
            "Epoch 12/100\n",
            "47/47 [==============================] - 0s 6ms/step - loss: 0.0062 - val_loss: 0.0079\n",
            "Epoch 13/100\n",
            "47/47 [==============================] - 0s 5ms/step - loss: 0.0062 - val_loss: 0.0079\n",
            "Epoch 14/100\n",
            "47/47 [==============================] - 0s 6ms/step - loss: 0.0062 - val_loss: 0.0078\n",
            "Epoch 15/100\n",
            "47/47 [==============================] - 0s 6ms/step - loss: 0.0062 - val_loss: 0.0078\n",
            "Epoch 16/100\n",
            "47/47 [==============================] - 0s 6ms/step - loss: 0.0062 - val_loss: 0.0078\n",
            "Epoch 17/100\n",
            "47/47 [==============================] - 0s 6ms/step - loss: 0.0062 - val_loss: 0.0078\n",
            "Epoch 18/100\n",
            "47/47 [==============================] - 0s 6ms/step - loss: 0.0062 - val_loss: 0.0078\n",
            "Epoch 19/100\n",
            "47/47 [==============================] - 0s 6ms/step - loss: 0.0062 - val_loss: 0.0078\n",
            "Epoch 20/100\n",
            "47/47 [==============================] - 0s 6ms/step - loss: 0.0062 - val_loss: 0.0078\n",
            "Epoch 21/100\n",
            "47/47 [==============================] - 0s 6ms/step - loss: 0.0062 - val_loss: 0.0078\n",
            "Epoch 22/100\n",
            "47/47 [==============================] - 0s 6ms/step - loss: 0.0062 - val_loss: 0.0079\n",
            "Epoch 23/100\n",
            "47/47 [==============================] - 0s 6ms/step - loss: 0.0062 - val_loss: 0.0078\n",
            "Epoch 24/100\n",
            "47/47 [==============================] - 0s 6ms/step - loss: 0.0062 - val_loss: 0.0078\n",
            "Epoch 25/100\n",
            "47/47 [==============================] - 0s 6ms/step - loss: 0.0062 - val_loss: 0.0077\n",
            "Epoch 26/100\n",
            "47/47 [==============================] - 0s 6ms/step - loss: 0.0062 - val_loss: 0.0078\n",
            "Epoch 27/100\n",
            "47/47 [==============================] - 0s 5ms/step - loss: 0.0061 - val_loss: 0.0077\n",
            "Epoch 28/100\n",
            "47/47 [==============================] - 0s 6ms/step - loss: 0.0061 - val_loss: 0.0078\n",
            "Epoch 29/100\n",
            "47/47 [==============================] - 0s 6ms/step - loss: 0.0061 - val_loss: 0.0077\n",
            "Epoch 30/100\n",
            "47/47 [==============================] - 0s 6ms/step - loss: 0.0061 - val_loss: 0.0077\n",
            "Epoch 31/100\n",
            "47/47 [==============================] - 0s 6ms/step - loss: 0.0061 - val_loss: 0.0077\n",
            "Epoch 32/100\n",
            "47/47 [==============================] - 0s 6ms/step - loss: 0.0061 - val_loss: 0.0077\n",
            "Epoch 33/100\n",
            "47/47 [==============================] - 0s 6ms/step - loss: 0.0061 - val_loss: 0.0077\n",
            "Epoch 34/100\n",
            "47/47 [==============================] - 0s 6ms/step - loss: 0.0061 - val_loss: 0.0077\n",
            "Epoch 35/100\n",
            "47/47 [==============================] - 0s 6ms/step - loss: 0.0061 - val_loss: 0.0077\n",
            "Epoch 36/100\n",
            "47/47 [==============================] - 0s 6ms/step - loss: 0.0061 - val_loss: 0.0077\n",
            "Epoch 37/100\n",
            "47/47 [==============================] - 0s 6ms/step - loss: 0.0061 - val_loss: 0.0077\n",
            "Epoch 38/100\n",
            "47/47 [==============================] - 0s 6ms/step - loss: 0.0061 - val_loss: 0.0077\n",
            "Epoch 39/100\n",
            "47/47 [==============================] - 0s 6ms/step - loss: 0.0061 - val_loss: 0.0077\n",
            "Epoch 40/100\n",
            "47/47 [==============================] - 0s 6ms/step - loss: 0.0061 - val_loss: 0.0077\n",
            "Epoch 41/100\n",
            "47/47 [==============================] - 0s 6ms/step - loss: 0.0061 - val_loss: 0.0077\n",
            "Epoch 42/100\n",
            "47/47 [==============================] - 0s 6ms/step - loss: 0.0061 - val_loss: 0.0077\n",
            "Epoch 43/100\n",
            "47/47 [==============================] - 0s 6ms/step - loss: 0.0061 - val_loss: 0.0077\n",
            "Epoch 44/100\n",
            "47/47 [==============================] - 0s 6ms/step - loss: 0.0060 - val_loss: 0.0076\n",
            "Epoch 45/100\n",
            "47/47 [==============================] - 0s 6ms/step - loss: 0.0060 - val_loss: 0.0076\n",
            "Epoch 46/100\n",
            "47/47 [==============================] - 0s 6ms/step - loss: 0.0061 - val_loss: 0.0076\n",
            "Epoch 47/100\n",
            "47/47 [==============================] - 0s 6ms/step - loss: 0.0060 - val_loss: 0.0076\n",
            "Epoch 48/100\n",
            "47/47 [==============================] - 0s 6ms/step - loss: 0.0060 - val_loss: 0.0076\n",
            "Epoch 49/100\n",
            "47/47 [==============================] - 0s 6ms/step - loss: 0.0060 - val_loss: 0.0076\n",
            "Epoch 50/100\n",
            "47/47 [==============================] - 0s 6ms/step - loss: 0.0060 - val_loss: 0.0076\n",
            "Epoch 51/100\n",
            "47/47 [==============================] - 0s 6ms/step - loss: 0.0060 - val_loss: 0.0076\n",
            "Epoch 52/100\n",
            "47/47 [==============================] - 0s 6ms/step - loss: 0.0060 - val_loss: 0.0076\n",
            "Epoch 53/100\n",
            "47/47 [==============================] - 0s 6ms/step - loss: 0.0060 - val_loss: 0.0076\n",
            "Epoch 54/100\n",
            "47/47 [==============================] - 0s 6ms/step - loss: 0.0060 - val_loss: 0.0075\n",
            "Epoch 55/100\n",
            "47/47 [==============================] - 0s 6ms/step - loss: 0.0060 - val_loss: 0.0075\n",
            "Epoch 56/100\n",
            "47/47 [==============================] - 0s 6ms/step - loss: 0.0060 - val_loss: 0.0076\n",
            "Epoch 57/100\n",
            "47/47 [==============================] - 0s 7ms/step - loss: 0.0060 - val_loss: 0.0076\n",
            "Epoch 58/100\n",
            "47/47 [==============================] - 0s 6ms/step - loss: 0.0060 - val_loss: 0.0075\n",
            "Epoch 59/100\n",
            "47/47 [==============================] - 0s 6ms/step - loss: 0.0060 - val_loss: 0.0075\n",
            "Epoch 60/100\n",
            "47/47 [==============================] - 0s 6ms/step - loss: 0.0060 - val_loss: 0.0076\n",
            "Epoch 61/100\n",
            "47/47 [==============================] - 0s 6ms/step - loss: 0.0060 - val_loss: 0.0074\n",
            "Epoch 62/100\n",
            "47/47 [==============================] - 0s 6ms/step - loss: 0.0059 - val_loss: 0.0075\n",
            "Epoch 63/100\n",
            "47/47 [==============================] - 0s 6ms/step - loss: 0.0059 - val_loss: 0.0074\n",
            "Epoch 64/100\n",
            "47/47 [==============================] - 0s 6ms/step - loss: 0.0059 - val_loss: 0.0075\n",
            "Epoch 65/100\n",
            "47/47 [==============================] - 0s 6ms/step - loss: 0.0059 - val_loss: 0.0074\n",
            "Epoch 66/100\n",
            "47/47 [==============================] - 0s 6ms/step - loss: 0.0059 - val_loss: 0.0074\n",
            "Epoch 67/100\n",
            "47/47 [==============================] - 0s 6ms/step - loss: 0.0059 - val_loss: 0.0074\n",
            "Epoch 68/100\n",
            "47/47 [==============================] - 0s 6ms/step - loss: 0.0059 - val_loss: 0.0073\n",
            "Epoch 69/100\n",
            "47/47 [==============================] - 0s 6ms/step - loss: 0.0058 - val_loss: 0.0073\n",
            "Epoch 70/100\n",
            "47/47 [==============================] - 0s 6ms/step - loss: 0.0059 - val_loss: 0.0073\n",
            "Epoch 71/100\n",
            "47/47 [==============================] - 0s 6ms/step - loss: 0.0059 - val_loss: 0.0073\n",
            "Epoch 72/100\n",
            "47/47 [==============================] - 0s 6ms/step - loss: 0.0059 - val_loss: 0.0073\n",
            "Epoch 73/100\n",
            "47/47 [==============================] - 0s 6ms/step - loss: 0.0058 - val_loss: 0.0072\n",
            "Epoch 74/100\n",
            "47/47 [==============================] - 0s 6ms/step - loss: 0.0058 - val_loss: 0.0073\n",
            "Epoch 75/100\n",
            "47/47 [==============================] - 0s 6ms/step - loss: 0.0058 - val_loss: 0.0073\n",
            "Epoch 76/100\n",
            "47/47 [==============================] - 0s 6ms/step - loss: 0.0058 - val_loss: 0.0073\n",
            "Epoch 77/100\n",
            "47/47 [==============================] - 0s 6ms/step - loss: 0.0057 - val_loss: 0.0072\n",
            "Epoch 78/100\n",
            "47/47 [==============================] - 0s 7ms/step - loss: 0.0057 - val_loss: 0.0072\n",
            "Epoch 79/100\n",
            "47/47 [==============================] - 0s 6ms/step - loss: 0.0057 - val_loss: 0.0071\n",
            "Epoch 80/100\n",
            "47/47 [==============================] - 0s 6ms/step - loss: 0.0057 - val_loss: 0.0071\n",
            "Epoch 81/100\n",
            "47/47 [==============================] - 0s 6ms/step - loss: 0.0057 - val_loss: 0.0071\n",
            "Epoch 82/100\n",
            "47/47 [==============================] - 0s 6ms/step - loss: 0.0057 - val_loss: 0.0071\n",
            "Epoch 83/100\n",
            "47/47 [==============================] - 0s 6ms/step - loss: 0.0057 - val_loss: 0.0071\n",
            "Epoch 84/100\n",
            "47/47 [==============================] - 0s 6ms/step - loss: 0.0056 - val_loss: 0.0071\n",
            "Epoch 85/100\n",
            "47/47 [==============================] - 0s 6ms/step - loss: 0.0056 - val_loss: 0.0070\n",
            "Epoch 86/100\n",
            "47/47 [==============================] - 0s 6ms/step - loss: 0.0056 - val_loss: 0.0070\n",
            "Epoch 87/100\n",
            "47/47 [==============================] - 0s 6ms/step - loss: 0.0056 - val_loss: 0.0069\n",
            "Epoch 88/100\n",
            "47/47 [==============================] - 0s 6ms/step - loss: 0.0056 - val_loss: 0.0070\n",
            "Epoch 89/100\n",
            "47/47 [==============================] - 0s 6ms/step - loss: 0.0056 - val_loss: 0.0070\n",
            "Epoch 90/100\n",
            "47/47 [==============================] - 0s 6ms/step - loss: 0.0056 - val_loss: 0.0069\n",
            "Epoch 91/100\n",
            "47/47 [==============================] - 0s 6ms/step - loss: 0.0056 - val_loss: 0.0071\n",
            "Epoch 92/100\n",
            "47/47 [==============================] - 0s 6ms/step - loss: 0.0056 - val_loss: 0.0070\n",
            "Epoch 93/100\n",
            "47/47 [==============================] - 0s 6ms/step - loss: 0.0055 - val_loss: 0.0069\n",
            "Epoch 94/100\n",
            "47/47 [==============================] - 0s 6ms/step - loss: 0.0055 - val_loss: 0.0069\n",
            "Epoch 95/100\n",
            "47/47 [==============================] - 0s 6ms/step - loss: 0.0055 - val_loss: 0.0069\n",
            "Epoch 96/100\n",
            "47/47 [==============================] - 0s 6ms/step - loss: 0.0055 - val_loss: 0.0070\n",
            "Epoch 97/100\n",
            "47/47 [==============================] - 0s 6ms/step - loss: 0.0055 - val_loss: 0.0069\n",
            "Epoch 98/100\n",
            "47/47 [==============================] - 0s 6ms/step - loss: 0.0055 - val_loss: 0.0070\n",
            "Epoch 99/100\n",
            "47/47 [==============================] - 0s 6ms/step - loss: 0.0055 - val_loss: 0.0069\n",
            "Epoch 100/100\n",
            "47/47 [==============================] - 0s 6ms/step - loss: 0.0055 - val_loss: 0.0069\n"
          ]
        }
      ]
    },
    {
      "cell_type": "code",
      "source": [
        "y_vloss = history.history['val_loss']\n",
        "y_loss = history.history['loss']\n",
        "\n",
        "x_len = np.arange(len(y_loss))\n",
        "plt.plot(x_len, y_vloss, marker='.', c='red', label=\"Validation-set Loss\")\n",
        "plt.plot(x_len, y_loss, marker='.', c='blue', label=\"Train-set Loss\")\n",
        "\n",
        "plt.legend(loc='upper right')\n",
        "plt.grid()\n",
        "plt.xlabel('epoch')\n",
        "plt.ylabel('loss')\n",
        "plt.show()"
      ],
      "metadata": {
        "colab": {
          "base_uri": "https://localhost:8080/",
          "height": 279
        },
        "id": "AZu5-W_3Y7MN",
        "outputId": "b3fb7134-b904-4d8f-e050-ffce335e8992"
      },
      "execution_count": 55,
      "outputs": [
        {
          "output_type": "display_data",
          "data": {
            "image/png": "[encoded data removed]",
            "text/plain": [
              "<Figure size 432x288 with 1 Axes>"
            ]
          },
          "metadata": {
            "needs_background": "light"
          }
        }
      ]
    },
    {
      "cell_type": "code",
      "source": [
        "X_test.shape"
      ],
      "metadata": {
        "colab": {
          "base_uri": "https://localhost:8080/"
        },
        "id": "GYvLdhAFbIeC",
        "outputId": "99833bdc-ffd2-47e0-bae0-64c346560e4c"
      },
      "execution_count": 56,
      "outputs": [
        {
          "output_type": "execute_result",
          "data": {
            "text/plain": [
              "(186, 7, 3)"
            ]
          },
          "metadata": {},
          "execution_count": 56
        }
      ]
    },
    {
      "cell_type": "code",
      "source": [
        "model.predict(X_test[:-1])"
      ],
      "metadata": {
        "colab": {
          "base_uri": "https://localhost:8080/"
        },
        "id": "y6zSWNmiaf0c",
        "outputId": "a6ed8f6b-5a80-4429-df29-b3bcaa51252e"
      },
      "execution_count": 57,
      "outputs": [
        {
          "output_type": "execute_result",
          "data": {
            "text/plain": [
              "array([[0.29192224, 0.30255812, 0.28622204, ..., 0.2438404 , 0.24636514,\n",
              "        0.29835612],\n",
              "       [0.2845532 , 0.28400418, 0.27080873, ..., 0.25940385, 0.2757184 ,\n",
              "        0.31689617],\n",
              "       [0.2678237 , 0.27229726, 0.28033993, ..., 0.28958994, 0.2940769 ,\n",
              "        0.28441226],\n",
              "       ...,\n",
              "       [0.25712523, 0.26569998, 0.289247  , ..., 0.29978162, 0.28113675,\n",
              "        0.2766323 ],\n",
              "       [0.24262959, 0.2618084 , 0.29528767, ..., 0.300944  , 0.2745008 ,\n",
              "        0.24163374],\n",
              "       [0.24415413, 0.279668  , 0.30726016, ..., 0.27545735, 0.24073935,\n",
              "        0.19192457]], dtype=float32)"
            ]
          },
          "metadata": {},
          "execution_count": 57
        }
      ]
    },
    {
      "cell_type": "code",
      "source": [
        "import torch"
      ],
      "metadata": {
        "id": "cDejXWUaeVz6"
      },
      "execution_count": 58,
      "outputs": []
    },
    {
      "cell_type": "code",
      "source": [
        "i = 4\n",
        "plt.plot(np.arange(time_steps + target), test.iloc[i:time_steps + target+i, 0].values)\n",
        "plt.plot(np.arange(time_steps, time_steps + target), test.iloc[i+time_steps:time_steps + target+i, 0].values)\n",
        "plt.plot(np.arange(time_steps, time_steps + target) , model.predict(np.expand_dims(X_test[i], axis = 0)).squeeze())\n",
        "plt.vlines(7, 0, 1, color = 'gray', linestyle = '--')\n",
        "plt.ylim(0,test.iloc[:time_steps + target, 0].values.max() + 0.2)\n",
        "plt.legend(['period', 'True', 'Predict'])\n",
        "plt.show()"
      ],
      "metadata": {
        "colab": {
          "base_uri": "https://localhost:8080/",
          "height": 265
        },
        "id": "m1xcGLLie8Qw",
        "outputId": "4a758891-8ae1-445b-ecb6-4bdd2e0abe79"
      },
      "execution_count": 59,
      "outputs": [
        {
          "output_type": "display_data",
          "data": {
            "image/png": "[encoded data removed]",
            "text/plain": [
              "<Figure size 432x288 with 1 Axes>"
            ]
          },
          "metadata": {
            "needs_background": "light"
          }
        }
      ]
    },
    {
      "cell_type": "markdown",
      "source": [
        "14, 1"
      ],
      "metadata": {
        "id": "YD928EvpgGl7"
      }
    },
    {
      "cell_type": "code",
      "source": [
        "time_steps = 180\n",
        "target = 7\n",
        "train_len = len(train)\n",
        "test_len = len(test)"
      ],
      "metadata": {
        "id": "fmnO5gdugGUY"
      },
      "execution_count": 67,
      "outputs": []
    },
    {
      "cell_type": "code",
      "source": [
        "X_train = []\n",
        "Y_train = []\n",
        "for i in range(time_steps, train_len-target):\n",
        "  X_train.append(train[i-time_steps:i])\n",
        "  Y_train.append(train.iloc[i:i+target, 0])\n",
        "\n",
        "X_train, Y_train = np.array(X_train), np.array(Y_train)"
      ],
      "metadata": {
        "id": "5_2da72-gMGj"
      },
      "execution_count": 68,
      "outputs": []
    },
    {
      "cell_type": "code",
      "source": [
        "X_test = []\n",
        "Y_test = []\n",
        "for i in range(time_steps, test_len-target):\n",
        "  X_test.append(test[i-time_steps:i])\n",
        "  Y_test.append(test.iloc[i:i+target, 0])\n",
        "\n",
        "X_test, Y_test = np.array(X_test), np.array(Y_test)"
      ],
      "metadata": {
        "id": "NC2wbz9fgkLh"
      },
      "execution_count": 69,
      "outputs": []
    },
    {
      "cell_type": "code",
      "source": [
        "K.clear_session()\n",
        "model = Sequential() # Sequeatial Model \n",
        "model.add(LSTM(100, input_shape=(None, 3))) # (timestep, feature) \n",
        "model.add(Dense(7)) # output = 1\n",
        "model.compile(loss='mean_squared_error', optimizer='adam') \n",
        "\n",
        "model.summary()"
      ],
      "metadata": {
        "colab": {
          "base_uri": "https://localhost:8080/"
        },
        "id": "yEgAffYLhOZm",
        "outputId": "2bc512bf-2511-483d-d345-5d31d03afd15"
      },
      "execution_count": 70,
      "outputs": [
        {
          "output_type": "stream",
          "name": "stdout",
          "text": [
            "Model: \"sequential\"\n",
            "_________________________________________________________________\n",
            " Layer (type)                Output Shape              Param #   \n",
            "=================================================================\n",
            " lstm (LSTM)                 (None, 100)               41600     \n",
            "                                                                 \n",
            " dense (Dense)               (None, 7)                 707       \n",
            "                                                                 \n",
            "=================================================================\n",
            "Total params: 42,307\n",
            "Trainable params: 42,307\n",
            "Non-trainable params: 0\n",
            "_________________________________________________________________\n"
          ]
        }
      ]
    },
    {
      "cell_type": "code",
      "source": [
        "history = model.fit(X_train, Y_train, epochs=100, validation_data=(X_test, Y_test))"
      ],
      "metadata": {
        "colab": {
          "base_uri": "https://localhost:8080/"
        },
        "id": "hvOqbaeQhSdI",
        "outputId": "34e9570d-e231-4552-f516-6c4e4a6cd132"
      },
      "execution_count": 71,
      "outputs": [
        {
          "output_type": "stream",
          "name": "stdout",
          "text": [
            "Epoch 1/100\n",
            "42/42 [==============================] - 4s 54ms/step - loss: 0.0161 - val_loss: 0.0080\n",
            "Epoch 2/100\n",
            "42/42 [==============================] - 2s 42ms/step - loss: 0.0067 - val_loss: 0.0065\n",
            "Epoch 3/100\n",
            "42/42 [==============================] - 2s 42ms/step - loss: 0.0067 - val_loss: 0.0062\n",
            "Epoch 4/100\n",
            "42/42 [==============================] - 2s 42ms/step - loss: 0.0068 - val_loss: 0.0077\n",
            "Epoch 5/100\n",
            "42/42 [==============================] - 2s 42ms/step - loss: 0.0067 - val_loss: 0.0064\n",
            "Epoch 6/100\n",
            "42/42 [==============================] - 2s 41ms/step - loss: 0.0067 - val_loss: 0.0065\n",
            "Epoch 7/100\n",
            "42/42 [==============================] - 2s 41ms/step - loss: 0.0067 - val_loss: 0.0063\n",
            "Epoch 8/100\n",
            "42/42 [==============================] - 2s 41ms/step - loss: 0.0067 - val_loss: 0.0063\n",
            "Epoch 9/100\n",
            "42/42 [==============================] - 2s 41ms/step - loss: 0.0067 - val_loss: 0.0066\n",
            "Epoch 10/100\n",
            "42/42 [==============================] - 2s 41ms/step - loss: 0.0066 - val_loss: 0.0064\n",
            "Epoch 11/100\n",
            "42/42 [==============================] - 2s 42ms/step - loss: 0.0066 - val_loss: 0.0068\n",
            "Epoch 12/100\n",
            "42/42 [==============================] - 2s 42ms/step - loss: 0.0066 - val_loss: 0.0063\n",
            "Epoch 13/100\n",
            "42/42 [==============================] - 2s 41ms/step - loss: 0.0066 - val_loss: 0.0067\n",
            "Epoch 14/100\n",
            "42/42 [==============================] - 2s 41ms/step - loss: 0.0065 - val_loss: 0.0068\n",
            "Epoch 15/100\n",
            "42/42 [==============================] - 2s 41ms/step - loss: 0.0066 - val_loss: 0.0066\n",
            "Epoch 16/100\n",
            "42/42 [==============================] - 2s 41ms/step - loss: 0.0065 - val_loss: 0.0061\n",
            "Epoch 17/100\n",
            "42/42 [==============================] - 2s 42ms/step - loss: 0.0065 - val_loss: 0.0066\n",
            "Epoch 18/100\n",
            "42/42 [==============================] - 2s 42ms/step - loss: 0.0065 - val_loss: 0.0066\n",
            "Epoch 19/100\n",
            "42/42 [==============================] - 2s 42ms/step - loss: 0.0066 - val_loss: 0.0066\n",
            "Epoch 20/100\n",
            "42/42 [==============================] - 2s 41ms/step - loss: 0.0065 - val_loss: 0.0070\n",
            "Epoch 21/100\n",
            "42/42 [==============================] - 2s 41ms/step - loss: 0.0065 - val_loss: 0.0061\n",
            "Epoch 22/100\n",
            "42/42 [==============================] - 2s 42ms/step - loss: 0.0065 - val_loss: 0.0068\n",
            "Epoch 23/100\n",
            "42/42 [==============================] - 2s 42ms/step - loss: 0.0065 - val_loss: 0.0063\n",
            "Epoch 24/100\n",
            "42/42 [==============================] - 2s 42ms/step - loss: 0.0065 - val_loss: 0.0059\n",
            "Epoch 25/100\n",
            "42/42 [==============================] - 2s 42ms/step - loss: 0.0065 - val_loss: 0.0061\n",
            "Epoch 26/100\n",
            "42/42 [==============================] - 2s 42ms/step - loss: 0.0065 - val_loss: 0.0061\n",
            "Epoch 27/100\n",
            "42/42 [==============================] - 2s 42ms/step - loss: 0.0064 - val_loss: 0.0064\n",
            "Epoch 28/100\n",
            "42/42 [==============================] - 2s 42ms/step - loss: 0.0064 - val_loss: 0.0059\n",
            "Epoch 29/100\n",
            "42/42 [==============================] - 2s 42ms/step - loss: 0.0064 - val_loss: 0.0062\n",
            "Epoch 30/100\n",
            "42/42 [==============================] - 2s 41ms/step - loss: 0.0064 - val_loss: 0.0057\n",
            "Epoch 31/100\n",
            "42/42 [==============================] - 2s 41ms/step - loss: 0.0062 - val_loss: 0.0057\n",
            "Epoch 32/100\n",
            "42/42 [==============================] - 2s 41ms/step - loss: 0.0061 - val_loss: 0.0062\n",
            "Epoch 33/100\n",
            "42/42 [==============================] - 2s 41ms/step - loss: 0.0060 - val_loss: 0.0049\n",
            "Epoch 34/100\n",
            "42/42 [==============================] - 2s 41ms/step - loss: 0.0058 - val_loss: 0.0040\n",
            "Epoch 35/100\n",
            "42/42 [==============================] - 2s 41ms/step - loss: 0.0057 - val_loss: 0.0043\n",
            "Epoch 36/100\n",
            "42/42 [==============================] - 2s 41ms/step - loss: 0.0056 - val_loss: 0.0042\n",
            "Epoch 37/100\n",
            "42/42 [==============================] - 2s 41ms/step - loss: 0.0057 - val_loss: 0.0038\n",
            "Epoch 38/100\n",
            "42/42 [==============================] - 2s 41ms/step - loss: 0.0057 - val_loss: 0.0045\n",
            "Epoch 39/100\n",
            "42/42 [==============================] - 2s 41ms/step - loss: 0.0056 - val_loss: 0.0044\n",
            "Epoch 40/100\n",
            "42/42 [==============================] - 2s 41ms/step - loss: 0.0056 - val_loss: 0.0042\n",
            "Epoch 41/100\n",
            "42/42 [==============================] - 2s 41ms/step - loss: 0.0056 - val_loss: 0.0045\n",
            "Epoch 42/100\n",
            "42/42 [==============================] - 2s 41ms/step - loss: 0.0056 - val_loss: 0.0042\n",
            "Epoch 43/100\n",
            "42/42 [==============================] - 2s 41ms/step - loss: 0.0056 - val_loss: 0.0041\n",
            "Epoch 44/100\n",
            "42/42 [==============================] - 2s 41ms/step - loss: 0.0055 - val_loss: 0.0039\n",
            "Epoch 45/100\n",
            "42/42 [==============================] - 2s 41ms/step - loss: 0.0055 - val_loss: 0.0047\n",
            "Epoch 46/100\n",
            "42/42 [==============================] - 2s 41ms/step - loss: 0.0055 - val_loss: 0.0044\n",
            "Epoch 47/100\n",
            "42/42 [==============================] - 2s 41ms/step - loss: 0.0055 - val_loss: 0.0044\n",
            "Epoch 48/100\n",
            "42/42 [==============================] - 2s 41ms/step - loss: 0.0055 - val_loss: 0.0044\n",
            "Epoch 49/100\n",
            "42/42 [==============================] - 2s 41ms/step - loss: 0.0055 - val_loss: 0.0046\n",
            "Epoch 50/100\n",
            "42/42 [==============================] - 2s 41ms/step - loss: 0.0055 - val_loss: 0.0042\n",
            "Epoch 51/100\n",
            "42/42 [==============================] - 2s 41ms/step - loss: 0.0055 - val_loss: 0.0038\n",
            "Epoch 52/100\n",
            "42/42 [==============================] - 2s 41ms/step - loss: 0.0054 - val_loss: 0.0046\n",
            "Epoch 53/100\n",
            "42/42 [==============================] - 2s 41ms/step - loss: 0.0054 - val_loss: 0.0044\n",
            "Epoch 54/100\n",
            "42/42 [==============================] - 2s 41ms/step - loss: 0.0054 - val_loss: 0.0043\n",
            "Epoch 55/100\n",
            "42/42 [==============================] - 2s 41ms/step - loss: 0.0054 - val_loss: 0.0040\n",
            "Epoch 56/100\n",
            "42/42 [==============================] - 2s 41ms/step - loss: 0.0054 - val_loss: 0.0037\n",
            "Epoch 57/100\n",
            "42/42 [==============================] - 2s 41ms/step - loss: 0.0054 - val_loss: 0.0044\n",
            "Epoch 58/100\n",
            "42/42 [==============================] - 2s 41ms/step - loss: 0.0053 - val_loss: 0.0038\n",
            "Epoch 59/100\n",
            "42/42 [==============================] - 2s 42ms/step - loss: 0.0052 - val_loss: 0.0036\n",
            "Epoch 60/100\n",
            "42/42 [==============================] - 2s 41ms/step - loss: 0.0052 - val_loss: 0.0044\n",
            "Epoch 61/100\n",
            "42/42 [==============================] - 2s 41ms/step - loss: 0.0052 - val_loss: 0.0038\n",
            "Epoch 62/100\n",
            "42/42 [==============================] - 2s 41ms/step - loss: 0.0052 - val_loss: 0.0037\n",
            "Epoch 63/100\n",
            "42/42 [==============================] - 2s 42ms/step - loss: 0.0050 - val_loss: 0.0037\n",
            "Epoch 64/100\n",
            "42/42 [==============================] - 2s 42ms/step - loss: 0.0049 - val_loss: 0.0045\n",
            "Epoch 65/100\n",
            "42/42 [==============================] - 2s 42ms/step - loss: 0.0050 - val_loss: 0.0036\n",
            "Epoch 66/100\n",
            "42/42 [==============================] - 2s 42ms/step - loss: 0.0049 - val_loss: 0.0080\n",
            "Epoch 67/100\n",
            "42/42 [==============================] - 2s 41ms/step - loss: 0.0049 - val_loss: 0.0032\n",
            "Epoch 68/100\n",
            "42/42 [==============================] - 2s 42ms/step - loss: 0.0048 - val_loss: 0.0036\n",
            "Epoch 69/100\n",
            "42/42 [==============================] - 2s 42ms/step - loss: 0.0047 - val_loss: 0.0045\n",
            "Epoch 70/100\n",
            "42/42 [==============================] - 2s 42ms/step - loss: 0.0047 - val_loss: 0.0036\n",
            "Epoch 71/100\n",
            "42/42 [==============================] - 2s 42ms/step - loss: 0.0046 - val_loss: 0.0060\n",
            "Epoch 72/100\n",
            "42/42 [==============================] - 2s 43ms/step - loss: 0.0045 - val_loss: 0.0043\n",
            "Epoch 73/100\n",
            "42/42 [==============================] - 2s 42ms/step - loss: 0.0045 - val_loss: 0.0034\n",
            "Epoch 74/100\n",
            "42/42 [==============================] - 2s 42ms/step - loss: 0.0044 - val_loss: 0.0041\n",
            "Epoch 75/100\n",
            "42/42 [==============================] - 2s 42ms/step - loss: 0.0044 - val_loss: 0.0036\n",
            "Epoch 76/100\n",
            "42/42 [==============================] - 2s 42ms/step - loss: 0.0043 - val_loss: 0.0062\n",
            "Epoch 77/100\n",
            "42/42 [==============================] - 2s 42ms/step - loss: 0.0044 - val_loss: 0.0126\n",
            "Epoch 78/100\n",
            "42/42 [==============================] - 2s 42ms/step - loss: 0.0043 - val_loss: 0.0041\n",
            "Epoch 79/100\n",
            "42/42 [==============================] - 2s 42ms/step - loss: 0.0042 - val_loss: 0.0031\n",
            "Epoch 80/100\n",
            "42/42 [==============================] - 2s 42ms/step - loss: 0.0041 - val_loss: 0.0052\n",
            "Epoch 81/100\n",
            "42/42 [==============================] - 2s 42ms/step - loss: 0.0041 - val_loss: 0.0031\n",
            "Epoch 82/100\n",
            "42/42 [==============================] - 2s 42ms/step - loss: 0.0040 - val_loss: 0.0041\n",
            "Epoch 83/100\n",
            "42/42 [==============================] - 2s 42ms/step - loss: 0.0040 - val_loss: 0.0031\n",
            "Epoch 84/100\n",
            "42/42 [==============================] - 2s 43ms/step - loss: 0.0040 - val_loss: 0.0025\n",
            "Epoch 85/100\n",
            "42/42 [==============================] - 2s 42ms/step - loss: 0.0042 - val_loss: 0.0036\n",
            "Epoch 86/100\n",
            "42/42 [==============================] - 2s 43ms/step - loss: 0.0038 - val_loss: 0.0031\n",
            "Epoch 87/100\n",
            "42/42 [==============================] - 2s 42ms/step - loss: 0.0040 - val_loss: 0.0033\n",
            "Epoch 88/100\n",
            "42/42 [==============================] - 2s 43ms/step - loss: 0.0047 - val_loss: 0.0034\n",
            "Epoch 89/100\n",
            "42/42 [==============================] - 2s 42ms/step - loss: 0.0045 - val_loss: 0.0036\n",
            "Epoch 90/100\n",
            "42/42 [==============================] - 2s 42ms/step - loss: 0.0043 - val_loss: 0.0043\n",
            "Epoch 91/100\n",
            "42/42 [==============================] - 2s 42ms/step - loss: 0.0043 - val_loss: 0.0034\n",
            "Epoch 92/100\n",
            "42/42 [==============================] - 2s 43ms/step - loss: 0.0042 - val_loss: 0.0062\n",
            "Epoch 93/100\n",
            "42/42 [==============================] - 2s 43ms/step - loss: 0.0038 - val_loss: 0.0073\n",
            "Epoch 94/100\n",
            "42/42 [==============================] - 2s 43ms/step - loss: 0.0038 - val_loss: 0.0036\n",
            "Epoch 95/100\n",
            "42/42 [==============================] - 2s 43ms/step - loss: 0.0036 - val_loss: 0.0058\n",
            "Epoch 96/100\n",
            "42/42 [==============================] - 2s 43ms/step - loss: 0.0035 - val_loss: 0.0043\n",
            "Epoch 97/100\n",
            "42/42 [==============================] - 2s 43ms/step - loss: 0.0033 - val_loss: 0.0047\n",
            "Epoch 98/100\n",
            "42/42 [==============================] - 2s 42ms/step - loss: 0.0033 - val_loss: 0.0151\n",
            "Epoch 99/100\n",
            "42/42 [==============================] - 2s 42ms/step - loss: 0.0032 - val_loss: 0.0079\n",
            "Epoch 100/100\n",
            "42/42 [==============================] - 2s 42ms/step - loss: 0.0032 - val_loss: 0.0055\n"
          ]
        }
      ]
    },
    {
      "cell_type": "code",
      "source": [
        "y_vloss = history.history['val_loss']\n",
        "y_loss = history.history['loss']\n",
        "\n",
        "x_len = np.arange(len(y_loss))\n",
        "plt.plot(x_len, y_vloss, marker='.', c='red', label=\"Validation-set Loss\")\n",
        "plt.plot(x_len, y_loss, marker='.', c='blue', label=\"Train-set Loss\")\n",
        "\n",
        "plt.legend(loc='upper right')\n",
        "plt.grid()\n",
        "plt.xlabel('epoch')\n",
        "plt.ylabel('loss')\n",
        "plt.show()"
      ],
      "metadata": {
        "colab": {
          "base_uri": "https://localhost:8080/",
          "height": 279
        },
        "id": "wr8LnAhuhc6Z",
        "outputId": "34fea3d7-f73f-46ce-f817-e6055bf5a98e"
      },
      "execution_count": 72,
      "outputs": [
        {
          "output_type": "display_data",
          "data": {
            "image/png": "[encoded data removed]",
            "text/plain": [
              "<Figure size 432x288 with 1 Axes>"
            ]
          },
          "metadata": {
            "needs_background": "light"
          }
        }
      ]
    },
    {
      "cell_type": "code",
      "source": [
        "i = 1\n",
        "plt.figure(figsize= (15, 4))\n",
        "plt.plot(np.arange(time_steps + target), test.iloc[i:time_steps + target+i, 0].values)\n",
        "plt.plot(np.arange(time_steps, time_steps + target), test.iloc[i+time_steps:time_steps + target+i, 0].values)\n",
        "plt.plot(np.arange(time_steps, time_steps + target) , model.predict(np.expand_dims(X_test[i], axis = 0)).squeeze())\n",
        "plt.vlines(time_steps, 0, 1, color = 'gray', linestyle = '--')\n",
        "plt.ylim(0,test.iloc[:time_steps + target, 0].values.max() + 0.2)\n",
        "plt.title(f'time_steps : {time_steps}, periods : {target}')\n",
        "plt.grid()\n",
        "plt.legend(['period', 'True', 'Predict'])\n",
        "plt.show()"
      ],
      "metadata": {
        "colab": {
          "base_uri": "https://localhost:8080/",
          "height": 281
        },
        "id": "8KeqcCQNhk37",
        "outputId": "d792b57a-8b2b-4a70-cae3-8c87bbbeaf2c"
      },
      "execution_count": 80,
      "outputs": [
        {
          "output_type": "display_data",
          "data": {
            "image/png": "[encoded data removed]",
            "text/plain": [
              "<Figure size 1080x288 with 1 Axes>"
            ]
          },
          "metadata": {
            "needs_background": "light"
          }
        }
      ]
    }
  ]
}
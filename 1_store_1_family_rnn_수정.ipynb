{
 "cells": [
  {
   "cell_type": "code",
   "execution_count": 1,
   "id": "7dd0c833",
   "metadata": {},
   "outputs": [],
   "source": [
    "import pandas as pd\n",
    "import numpy as np"
   ]
  },
  {
   "cell_type": "code",
   "execution_count": 108,
   "id": "bde3b539",
   "metadata": {},
   "outputs": [],
   "source": [
    "train = pd.read_csv('./data/gro_train.csv').iloc[:, 1:]\n",
    "valid = pd.read_csv('./data/gro_test.csv').iloc[:, 1:]"
   ]
  },
  {
   "cell_type": "code",
   "execution_count": 109,
   "id": "a46ba323",
   "metadata": {
    "scrolled": true
   },
   "outputs": [
    {
     "data": {
      "text/html": [
       "<div>\n",
       "<style scoped>\n",
       "    .dataframe tbody tr th:only-of-type {\n",
       "        vertical-align: middle;\n",
       "    }\n",
       "\n",
       "    .dataframe tbody tr th {\n",
       "        vertical-align: top;\n",
       "    }\n",
       "\n",
       "    .dataframe thead th {\n",
       "        text-align: right;\n",
       "    }\n",
       "</style>\n",
       "<table border=\"1\" class=\"dataframe\">\n",
       "  <thead>\n",
       "    <tr style=\"text-align: right;\">\n",
       "      <th></th>\n",
       "      <th>0</th>\n",
       "      <th>1</th>\n",
       "      <th>2</th>\n",
       "    </tr>\n",
       "  </thead>\n",
       "  <tbody>\n",
       "    <tr>\n",
       "      <th>0</th>\n",
       "      <td>0.364810</td>\n",
       "      <td>0.341317</td>\n",
       "      <td>0.328201</td>\n",
       "    </tr>\n",
       "    <tr>\n",
       "      <th>1</th>\n",
       "      <td>0.309653</td>\n",
       "      <td>0.161677</td>\n",
       "      <td>0.324055</td>\n",
       "    </tr>\n",
       "    <tr>\n",
       "      <th>2</th>\n",
       "      <td>0.340982</td>\n",
       "      <td>0.209581</td>\n",
       "      <td>0.327135</td>\n",
       "    </tr>\n",
       "    <tr>\n",
       "      <th>3</th>\n",
       "      <td>0.352785</td>\n",
       "      <td>0.263473</td>\n",
       "      <td>0.317660</td>\n",
       "    </tr>\n",
       "    <tr>\n",
       "      <th>4</th>\n",
       "      <td>0.138555</td>\n",
       "      <td>0.269461</td>\n",
       "      <td>0.317660</td>\n",
       "    </tr>\n",
       "    <tr>\n",
       "      <th>...</th>\n",
       "      <td>...</td>\n",
       "      <td>...</td>\n",
       "      <td>...</td>\n",
       "    </tr>\n",
       "    <tr>\n",
       "      <th>195</th>\n",
       "      <td>0.140099</td>\n",
       "      <td>0.143713</td>\n",
       "      <td>0.267914</td>\n",
       "    </tr>\n",
       "    <tr>\n",
       "      <th>196</th>\n",
       "      <td>0.179812</td>\n",
       "      <td>0.167665</td>\n",
       "      <td>0.253464</td>\n",
       "    </tr>\n",
       "    <tr>\n",
       "      <th>197</th>\n",
       "      <td>0.105019</td>\n",
       "      <td>0.113772</td>\n",
       "      <td>0.253464</td>\n",
       "    </tr>\n",
       "    <tr>\n",
       "      <th>198</th>\n",
       "      <td>0.265527</td>\n",
       "      <td>0.179641</td>\n",
       "      <td>0.253464</td>\n",
       "    </tr>\n",
       "    <tr>\n",
       "      <th>199</th>\n",
       "      <td>0.276669</td>\n",
       "      <td>0.173653</td>\n",
       "      <td>0.253228</td>\n",
       "    </tr>\n",
       "  </tbody>\n",
       "</table>\n",
       "<p>200 rows × 3 columns</p>\n",
       "</div>"
      ],
      "text/plain": [
       "            0         1         2\n",
       "0    0.364810  0.341317  0.328201\n",
       "1    0.309653  0.161677  0.324055\n",
       "2    0.340982  0.209581  0.327135\n",
       "3    0.352785  0.263473  0.317660\n",
       "4    0.138555  0.269461  0.317660\n",
       "..        ...       ...       ...\n",
       "195  0.140099  0.143713  0.267914\n",
       "196  0.179812  0.167665  0.253464\n",
       "197  0.105019  0.113772  0.253464\n",
       "198  0.265527  0.179641  0.253464\n",
       "199  0.276669  0.173653  0.253228\n",
       "\n",
       "[200 rows x 3 columns]"
      ]
     },
     "execution_count": 109,
     "metadata": {},
     "output_type": "execute_result"
    }
   ],
   "source": [
    "valid"
   ]
  },
  {
   "cell_type": "code",
   "execution_count": 110,
   "id": "708a5467",
   "metadata": {},
   "outputs": [
    {
     "data": {
      "text/html": [
       "<div>\n",
       "<style scoped>\n",
       "    .dataframe tbody tr th:only-of-type {\n",
       "        vertical-align: middle;\n",
       "    }\n",
       "\n",
       "    .dataframe tbody tr th {\n",
       "        vertical-align: top;\n",
       "    }\n",
       "\n",
       "    .dataframe thead th {\n",
       "        text-align: right;\n",
       "    }\n",
       "</style>\n",
       "<table border=\"1\" class=\"dataframe\">\n",
       "  <thead>\n",
       "    <tr style=\"text-align: right;\">\n",
       "      <th></th>\n",
       "      <th>0</th>\n",
       "      <th>1</th>\n",
       "      <th>2</th>\n",
       "    </tr>\n",
       "  </thead>\n",
       "  <tbody>\n",
       "    <tr>\n",
       "      <th>0</th>\n",
       "      <td>0.000000</td>\n",
       "      <td>0.000000</td>\n",
       "      <td>0.792965</td>\n",
       "    </tr>\n",
       "    <tr>\n",
       "      <th>1</th>\n",
       "      <td>0.292554</td>\n",
       "      <td>0.000000</td>\n",
       "      <td>0.792965</td>\n",
       "    </tr>\n",
       "    <tr>\n",
       "      <th>2</th>\n",
       "      <td>0.233977</td>\n",
       "      <td>0.000000</td>\n",
       "      <td>0.790951</td>\n",
       "    </tr>\n",
       "    <tr>\n",
       "      <th>3</th>\n",
       "      <td>0.226806</td>\n",
       "      <td>0.000000</td>\n",
       "      <td>0.792728</td>\n",
       "    </tr>\n",
       "    <tr>\n",
       "      <th>4</th>\n",
       "      <td>0.244457</td>\n",
       "      <td>0.000000</td>\n",
       "      <td>0.793675</td>\n",
       "    </tr>\n",
       "    <tr>\n",
       "      <th>...</th>\n",
       "      <td>...</td>\n",
       "      <td>...</td>\n",
       "      <td>...</td>\n",
       "    </tr>\n",
       "    <tr>\n",
       "      <th>1509</th>\n",
       "      <td>0.335245</td>\n",
       "      <td>0.185629</td>\n",
       "      <td>0.319673</td>\n",
       "    </tr>\n",
       "    <tr>\n",
       "      <th>1510</th>\n",
       "      <td>0.307998</td>\n",
       "      <td>0.173653</td>\n",
       "      <td>0.313159</td>\n",
       "    </tr>\n",
       "    <tr>\n",
       "      <th>1511</th>\n",
       "      <td>0.149366</td>\n",
       "      <td>0.137725</td>\n",
       "      <td>0.313159</td>\n",
       "    </tr>\n",
       "    <tr>\n",
       "      <th>1512</th>\n",
       "      <td>0.307998</td>\n",
       "      <td>0.161677</td>\n",
       "      <td>0.313159</td>\n",
       "    </tr>\n",
       "    <tr>\n",
       "      <th>1513</th>\n",
       "      <td>0.271704</td>\n",
       "      <td>0.191617</td>\n",
       "      <td>0.314580</td>\n",
       "    </tr>\n",
       "  </tbody>\n",
       "</table>\n",
       "<p>1514 rows × 3 columns</p>\n",
       "</div>"
      ],
      "text/plain": [
       "             0         1         2\n",
       "0     0.000000  0.000000  0.792965\n",
       "1     0.292554  0.000000  0.792965\n",
       "2     0.233977  0.000000  0.790951\n",
       "3     0.226806  0.000000  0.792728\n",
       "4     0.244457  0.000000  0.793675\n",
       "...        ...       ...       ...\n",
       "1509  0.335245  0.185629  0.319673\n",
       "1510  0.307998  0.173653  0.313159\n",
       "1511  0.149366  0.137725  0.313159\n",
       "1512  0.307998  0.161677  0.313159\n",
       "1513  0.271704  0.191617  0.314580\n",
       "\n",
       "[1514 rows x 3 columns]"
      ]
     },
     "execution_count": 110,
     "metadata": {},
     "output_type": "execute_result"
    }
   ],
   "source": [
    "train"
   ]
  },
  {
   "cell_type": "code",
   "execution_count": 111,
   "id": "12a0c524",
   "metadata": {},
   "outputs": [
    {
     "data": {
      "text/plain": [
       "array([[0.29255378, 0.        , 0.79296459]])"
      ]
     },
     "execution_count": 111,
     "metadata": {},
     "output_type": "execute_result"
    }
   ],
   "source": [
    "train.iloc[1:1+1, :].values"
   ]
  },
  {
   "cell_type": "code",
   "execution_count": 112,
   "id": "660fe0f5",
   "metadata": {
    "scrolled": true
   },
   "outputs": [
    {
     "data": {
      "text/html": [
       "<div>\n",
       "<style scoped>\n",
       "    .dataframe tbody tr th:only-of-type {\n",
       "        vertical-align: middle;\n",
       "    }\n",
       "\n",
       "    .dataframe tbody tr th {\n",
       "        vertical-align: top;\n",
       "    }\n",
       "\n",
       "    .dataframe thead th {\n",
       "        text-align: right;\n",
       "    }\n",
       "</style>\n",
       "<table border=\"1\" class=\"dataframe\">\n",
       "  <thead>\n",
       "    <tr style=\"text-align: right;\">\n",
       "      <th></th>\n",
       "      <th>0</th>\n",
       "      <th>1</th>\n",
       "      <th>2</th>\n",
       "    </tr>\n",
       "  </thead>\n",
       "  <tbody>\n",
       "    <tr>\n",
       "      <th>0</th>\n",
       "      <td>0.364810</td>\n",
       "      <td>0.341317</td>\n",
       "      <td>0.328201</td>\n",
       "    </tr>\n",
       "    <tr>\n",
       "      <th>1</th>\n",
       "      <td>0.309653</td>\n",
       "      <td>0.161677</td>\n",
       "      <td>0.324055</td>\n",
       "    </tr>\n",
       "    <tr>\n",
       "      <th>2</th>\n",
       "      <td>0.340982</td>\n",
       "      <td>0.209581</td>\n",
       "      <td>0.327135</td>\n",
       "    </tr>\n",
       "    <tr>\n",
       "      <th>3</th>\n",
       "      <td>0.352785</td>\n",
       "      <td>0.263473</td>\n",
       "      <td>0.317660</td>\n",
       "    </tr>\n",
       "    <tr>\n",
       "      <th>4</th>\n",
       "      <td>0.138555</td>\n",
       "      <td>0.269461</td>\n",
       "      <td>0.317660</td>\n",
       "    </tr>\n",
       "    <tr>\n",
       "      <th>...</th>\n",
       "      <td>...</td>\n",
       "      <td>...</td>\n",
       "      <td>...</td>\n",
       "    </tr>\n",
       "    <tr>\n",
       "      <th>195</th>\n",
       "      <td>0.140099</td>\n",
       "      <td>0.143713</td>\n",
       "      <td>0.267914</td>\n",
       "    </tr>\n",
       "    <tr>\n",
       "      <th>196</th>\n",
       "      <td>0.179812</td>\n",
       "      <td>0.167665</td>\n",
       "      <td>0.253464</td>\n",
       "    </tr>\n",
       "    <tr>\n",
       "      <th>197</th>\n",
       "      <td>0.105019</td>\n",
       "      <td>0.113772</td>\n",
       "      <td>0.253464</td>\n",
       "    </tr>\n",
       "    <tr>\n",
       "      <th>198</th>\n",
       "      <td>0.265527</td>\n",
       "      <td>0.179641</td>\n",
       "      <td>0.253464</td>\n",
       "    </tr>\n",
       "    <tr>\n",
       "      <th>199</th>\n",
       "      <td>0.276669</td>\n",
       "      <td>0.173653</td>\n",
       "      <td>0.253228</td>\n",
       "    </tr>\n",
       "  </tbody>\n",
       "</table>\n",
       "<p>200 rows × 3 columns</p>\n",
       "</div>"
      ],
      "text/plain": [
       "            0         1         2\n",
       "0    0.364810  0.341317  0.328201\n",
       "1    0.309653  0.161677  0.324055\n",
       "2    0.340982  0.209581  0.327135\n",
       "3    0.352785  0.263473  0.317660\n",
       "4    0.138555  0.269461  0.317660\n",
       "..        ...       ...       ...\n",
       "195  0.140099  0.143713  0.267914\n",
       "196  0.179812  0.167665  0.253464\n",
       "197  0.105019  0.113772  0.253464\n",
       "198  0.265527  0.179641  0.253464\n",
       "199  0.276669  0.173653  0.253228\n",
       "\n",
       "[200 rows x 3 columns]"
      ]
     },
     "execution_count": 112,
     "metadata": {},
     "output_type": "execute_result"
    }
   ],
   "source": [
    "valid"
   ]
  },
  {
   "cell_type": "code",
   "execution_count": 113,
   "id": "8959dcbe",
   "metadata": {},
   "outputs": [],
   "source": [
    "time_steps = 100\n",
    "ts_train_len = len(train)\n",
    "ts_valid_len = len(valid)\n",
    "output = 3\n",
    "for_periods = 14"
   ]
  },
  {
   "cell_type": "code",
   "execution_count": 114,
   "id": "0e3a2832",
   "metadata": {},
   "outputs": [],
   "source": [
    "X_train = []\n",
    "y_train = []\n",
    "for i in range(time_steps, ts_train_len-1):\n",
    "    X_train.append(train.iloc[i-time_steps:i])\n",
    "    y_train.append(train.iloc[i:i+1, :].values.squeeze().tolist())\n",
    "X_train, y_train = np.array(X_train), np.array(y_train)"
   ]
  },
  {
   "cell_type": "code",
   "execution_count": 115,
   "id": "f24cf057",
   "metadata": {},
   "outputs": [],
   "source": [
    "X_valid = []\n",
    "y_valid = []\n",
    "for i in range(time_steps, ts_valid_len-1):\n",
    "    X_valid.append(valid.iloc[i-time_steps:i])\n",
    "    y_valid.append(valid.iloc[i:i+1].values.squeeze().tolist())\n",
    "X_valid, y_valid = np.array(X_valid), np.array(y_valid)"
   ]
  },
  {
   "cell_type": "code",
   "execution_count": 116,
   "id": "9d4054f7",
   "metadata": {},
   "outputs": [
    {
     "data": {
      "text/plain": [
       "((1413, 100, 3), (1413, 3))"
      ]
     },
     "execution_count": 116,
     "metadata": {},
     "output_type": "execute_result"
    }
   ],
   "source": [
    "X_train.shape, y_train.shape"
   ]
  },
  {
   "cell_type": "code",
   "execution_count": 117,
   "id": "405f8dad",
   "metadata": {},
   "outputs": [
    {
     "data": {
      "text/plain": [
       "((99, 100, 3), (99, 3))"
      ]
     },
     "execution_count": 117,
     "metadata": {},
     "output_type": "execute_result"
    }
   ],
   "source": [
    "X_valid.shape, y_valid.shape"
   ]
  },
  {
   "cell_type": "code",
   "execution_count": 129,
   "id": "2cb1f1c5",
   "metadata": {},
   "outputs": [],
   "source": [
    "from tensorflow import keras\n",
    "\n",
    "model = keras.models.Sequential([\n",
    "        keras.layers.LSTM(50, input_shape=[None, X_train.shape[2]], return_sequences=True, activation='tanh'),\n",
    "        keras.layers.LSTM(50, activation='tanh'),\n",
    "        keras.layers.Dense(output)\n",
    "])"
   ]
  },
  {
   "cell_type": "code",
   "execution_count": 130,
   "id": "c8e8dfee",
   "metadata": {},
   "outputs": [],
   "source": [
    "model.compile(loss=keras.losses.MeanSquaredError(), optimizer=keras.optimizers.Adam())"
   ]
  },
  {
   "cell_type": "code",
   "execution_count": null,
   "id": "210ac67b",
   "metadata": {
    "scrolled": true
   },
   "outputs": [
    {
     "name": "stdout",
     "output_type": "stream",
     "text": [
      "Epoch 1/100\n",
      "45/45 [==============================] - 6s 85ms/step - loss: 0.0199 - val_loss: 0.0049\n",
      "Epoch 2/100\n",
      "45/45 [==============================] - 3s 71ms/step - loss: 0.0037 - val_loss: 0.0046\n",
      "Epoch 3/100\n",
      "45/45 [==============================] - 3s 72ms/step - loss: 0.0036 - val_loss: 0.0046\n",
      "Epoch 4/100\n",
      "45/45 [==============================] - 3s 71ms/step - loss: 0.0036 - val_loss: 0.0044\n",
      "Epoch 5/100\n",
      "45/45 [==============================] - 3s 70ms/step - loss: 0.0035 - val_loss: 0.0045\n",
      "Epoch 6/100\n",
      "45/45 [==============================] - 3s 72ms/step - loss: 0.0034 - val_loss: 0.0043\n",
      "Epoch 7/100\n",
      "45/45 [==============================] - 3s 73ms/step - loss: 0.0034 - val_loss: 0.0044\n",
      "Epoch 8/100\n",
      "45/45 [==============================] - 3s 75ms/step - loss: 0.0034 - val_loss: 0.0042\n",
      "Epoch 9/100\n",
      "45/45 [==============================] - 3s 76ms/step - loss: 0.0034 - val_loss: 0.0048\n",
      "Epoch 10/100\n",
      "45/45 [==============================] - 3s 76ms/step - loss: 0.0034 - val_loss: 0.0042\n",
      "Epoch 11/100\n",
      "45/45 [==============================] - 3s 71ms/step - loss: 0.0033 - val_loss: 0.0041\n",
      "Epoch 12/100\n",
      "45/45 [==============================] - 3s 71ms/step - loss: 0.0032 - val_loss: 0.0041\n",
      "Epoch 13/100\n",
      "45/45 [==============================] - 3s 73ms/step - loss: 0.0033 - val_loss: 0.0043\n",
      "Epoch 14/100\n",
      "45/45 [==============================] - 3s 73ms/step - loss: 0.0034 - val_loss: 0.0041\n",
      "Epoch 15/100\n",
      "45/45 [==============================] - 3s 70ms/step - loss: 0.0032 - val_loss: 0.0040\n",
      "Epoch 16/100\n",
      "45/45 [==============================] - 3s 70ms/step - loss: 0.0032 - val_loss: 0.0040\n",
      "Epoch 17/100\n",
      "45/45 [==============================] - 3s 71ms/step - loss: 0.0032 - val_loss: 0.0043\n",
      "Epoch 18/100\n",
      "45/45 [==============================] - 3s 73ms/step - loss: 0.0032 - val_loss: 0.0042\n",
      "Epoch 19/100\n",
      "45/45 [==============================] - 3s 71ms/step - loss: 0.0031 - val_loss: 0.0040\n",
      "Epoch 20/100\n",
      "45/45 [==============================] - 3s 72ms/step - loss: 0.0032 - val_loss: 0.0040\n",
      "Epoch 21/100\n",
      "45/45 [==============================] - 3s 73ms/step - loss: 0.0031 - val_loss: 0.0040\n",
      "Epoch 22/100\n",
      "45/45 [==============================] - 3s 71ms/step - loss: 0.0031 - val_loss: 0.0041\n",
      "Epoch 23/100\n",
      "45/45 [==============================] - 3s 70ms/step - loss: 0.0031 - val_loss: 0.0040\n",
      "Epoch 24/100\n",
      "45/45 [==============================] - 3s 73ms/step - loss: 0.0031 - val_loss: 0.0041\n",
      "Epoch 25/100\n",
      "45/45 [==============================] - 3s 70ms/step - loss: 0.0031 - val_loss: 0.0042\n",
      "Epoch 26/100\n",
      "45/45 [==============================] - 3s 75ms/step - loss: 0.0031 - val_loss: 0.0039\n",
      "Epoch 27/100\n",
      "45/45 [==============================] - 3s 75ms/step - loss: 0.0031 - val_loss: 0.0040\n",
      "Epoch 28/100\n",
      "45/45 [==============================] - 3s 75ms/step - loss: 0.0031 - val_loss: 0.0039\n",
      "Epoch 29/100\n",
      "45/45 [==============================] - 3s 73ms/step - loss: 0.0031 - val_loss: 0.0041\n",
      "Epoch 30/100\n",
      "45/45 [==============================] - 3s 74ms/step - loss: 0.0031 - val_loss: 0.0039\n",
      "Epoch 31/100\n",
      "45/45 [==============================] - 3s 76ms/step - loss: 0.0030 - val_loss: 0.0040\n",
      "Epoch 32/100\n",
      "45/45 [==============================] - 3s 74ms/step - loss: 0.0031 - val_loss: 0.0040\n",
      "Epoch 33/100\n",
      "45/45 [==============================] - 3s 74ms/step - loss: 0.0031 - val_loss: 0.0041\n",
      "Epoch 34/100\n",
      "45/45 [==============================] - 3s 73ms/step - loss: 0.0031 - val_loss: 0.0039\n",
      "Epoch 35/100\n",
      "45/45 [==============================] - 3s 73ms/step - loss: 0.0030 - val_loss: 0.0039\n",
      "Epoch 36/100\n",
      "45/45 [==============================] - 3s 74ms/step - loss: 0.0030 - val_loss: 0.0039\n",
      "Epoch 37/100\n",
      "45/45 [==============================] - 3s 74ms/step - loss: 0.0030 - val_loss: 0.0039\n",
      "Epoch 38/100\n",
      "45/45 [==============================] - 3s 75ms/step - loss: 0.0030 - val_loss: 0.0039\n",
      "Epoch 39/100\n",
      "45/45 [==============================] - 3s 75ms/step - loss: 0.0030 - val_loss: 0.0039\n",
      "Epoch 40/100\n",
      "45/45 [==============================] - 4s 80ms/step - loss: 0.0031 - val_loss: 0.0040\n",
      "Epoch 41/100\n",
      "45/45 [==============================] - 3s 77ms/step - loss: 0.0030 - val_loss: 0.0039\n",
      "Epoch 42/100\n",
      "45/45 [==============================] - 3s 76ms/step - loss: 0.0030 - val_loss: 0.0039\n",
      "Epoch 43/100\n",
      "45/45 [==============================] - 3s 74ms/step - loss: 0.0031 - val_loss: 0.0039\n",
      "Epoch 44/100\n",
      "45/45 [==============================] - 3s 76ms/step - loss: 0.0030 - val_loss: 0.0041\n",
      "Epoch 45/100\n",
      "45/45 [==============================] - 3s 77ms/step - loss: 0.0033 - val_loss: 0.0039\n",
      "Epoch 46/100\n",
      "45/45 [==============================] - 3s 76ms/step - loss: 0.0030 - val_loss: 0.0038\n",
      "Epoch 47/100\n",
      "45/45 [==============================] - 3s 77ms/step - loss: 0.0030 - val_loss: 0.0039\n",
      "Epoch 48/100\n",
      "45/45 [==============================] - 3s 77ms/step - loss: 0.0030 - val_loss: 0.0040\n",
      "Epoch 49/100\n",
      "45/45 [==============================] - 3s 74ms/step - loss: 0.0030 - val_loss: 0.0039\n",
      "Epoch 50/100\n",
      "45/45 [==============================] - 3s 76ms/step - loss: 0.0030 - val_loss: 0.0039\n",
      "Epoch 51/100\n",
      "45/45 [==============================] - 3s 76ms/step - loss: 0.0030 - val_loss: 0.0039\n",
      "Epoch 52/100\n",
      "45/45 [==============================] - 3s 75ms/step - loss: 0.0030 - val_loss: 0.0039\n",
      "Epoch 53/100\n",
      "45/45 [==============================] - 3s 75ms/step - loss: 0.0029 - val_loss: 0.0039\n",
      "Epoch 54/100\n",
      "45/45 [==============================] - 3s 76ms/step - loss: 0.0030 - val_loss: 0.0040\n",
      "Epoch 55/100\n",
      "10/45 [=====>........................] - ETA: 2s - loss: 0.0024"
     ]
    }
   ],
   "source": [
    "history = model.fit(X_train, y_train, epochs=100, validation_data=(X_valid, y_valid))"
   ]
  },
  {
   "cell_type": "code",
   "execution_count": null,
   "id": "ed135350",
   "metadata": {},
   "outputs": [],
   "source": [
    "import matplotlib.pyplot as plt\n",
    "y_vloss = history.history['val_loss']\n",
    "y_loss = history.history['loss']\n",
    "\n",
    "x_len = np.arange(len(y_loss))\n",
    "plt.plot(x_len, y_vloss, marker='.', c='red', label=\"Validation-set Loss\")\n",
    "plt.plot(x_len, y_loss, marker='.', c='blue', label=\"Train-set Loss\")\n",
    "plt.title(f'time_steps : {time_steps}, periods : {for_periods}')\n",
    "plt.legend(loc='upper right')\n",
    "plt.grid()\n",
    "plt.xlabel('epoch')\n",
    "plt.ylabel('loss')\n",
    "plt.show()\n"
   ]
  },
  {
   "cell_type": "markdown",
   "id": "a6babf14",
   "metadata": {},
   "source": [
    "### 한개 예측"
   ]
  },
  {
   "cell_type": "code",
   "execution_count": null,
   "id": "398a119a",
   "metadata": {
    "scrolled": true
   },
   "outputs": [],
   "source": [
    " model.predict(X_valid)"
   ]
  },
  {
   "cell_type": "code",
   "execution_count": null,
   "id": "3f5e3d39",
   "metadata": {
    "scrolled": true
   },
   "outputs": [],
   "source": [
    "import matplotlib.pyplot as plt\n",
    "\n",
    "plt.figure(figsize = (10, 4))\n",
    "plt.plot(valid.iloc[:-1, 0])\n",
    "plt.plot(range(1+time_steps, len(X_valid) + time_steps+1), model.predict(X_valid)[:, 0])\n",
    "plt.vlines(time_steps+1, 0, 1, color = 'red', linestyle = '--')\n",
    "plt.ylim(valid.iloc[:-1, 0].values.min() - 0.1,valid.iloc[:-1, 0].values.max()+0.1)\n",
    "plt.legend(['True', 'Predict'])\n",
    "plt.show()"
   ]
  },
  {
   "cell_type": "markdown",
   "id": "02158bfc",
   "metadata": {},
   "source": [
    "### 여러개 예측"
   ]
  },
  {
   "cell_type": "code",
   "execution_count": null,
   "id": "349911e6",
   "metadata": {},
   "outputs": [],
   "source": [
    "def period_prediction(model, X, for_periods):\n",
    "    predict = []\n",
    "    X_pred = X.copy()\n",
    "    for _ in range(for_periods):\n",
    "        pred = model.predict(np.expand_dims(X_pred, axis = 0))\n",
    "        predict += pred.tolist()\n",
    "        X_pred = np.append(X_pred[1:], model.predict(np.expand_dims(X_pred,axis = 0)), axis = 0)\n",
    "    \n",
    "    return np.array(predict)"
   ]
  },
  {
   "cell_type": "code",
   "execution_count": null,
   "id": "be44e193",
   "metadata": {
    "scrolled": false
   },
   "outputs": [],
   "source": [
    "i = 0\n",
    "\n",
    "predict = period_prediction(model, X_valid[i], for_periods)\n",
    "\n",
    "plt.figure(figsize= (15, 4))\n",
    "\n",
    "# period\n",
    "plt.plot(np.arange(time_steps + for_periods), valid.iloc[i:time_steps + for_periods+i, 0].values)\n",
    "\n",
    "# True\n",
    "plt.plot(np.arange(time_steps, time_steps + for_periods), valid.iloc[i+time_steps:time_steps + for_periods+i, 0].values)\n",
    "\n",
    "# predict\n",
    "plt.plot(np.arange(time_steps, time_steps + for_periods) , predict[:, 0])\n",
    "\n",
    "plt.vlines(time_steps, 0, 1, color = 'gray', linestyle = '--')\n",
    "plt.vlines(time_steps + 7, 0, 1, color = 'red', linestyle = '--')\n",
    "plt.ylim(valid.iloc[:time_steps + for_periods, 0].values.min() - 0.1,valid.iloc[:time_steps + for_periods, 0].values.max() + 0.2)\n",
    "plt.title(f', time_steps : {time_steps}, periods : {for_periods}')\n",
    "plt.grid()\n",
    "plt.legend(['period', 'True', 'Predict'])\n",
    "plt.show()"
   ]
  },
  {
   "cell_type": "markdown",
   "id": "735f5692",
   "metadata": {},
   "source": [
    "1. store마다 하나의 모델을 두기 store 마다\n",
    "2. store마다 family의 모델 두기 "
   ]
  }
 ],
 "metadata": {
  "kernelspec": {
   "display_name": "Python 3",
   "language": "python",
   "name": "python3"
  },
  "language_info": {
   "codemirror_mode": {
    "name": "ipython",
    "version": 3
   },
   "file_extension": ".py",
   "mimetype": "text/x-python",
   "name": "python",
   "nbconvert_exporter": "python",
   "pygments_lexer": "ipython3",
   "version": "3.6.13"
  }
 },
 "nbformat": 4,
 "nbformat_minor": 5
}

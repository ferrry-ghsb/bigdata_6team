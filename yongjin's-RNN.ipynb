{
  "nbformat": 4,
  "nbformat_minor": 5,
  "metadata": {
    "kernelspec": {
      "display_name": "Python 3",
      "language": "python",
      "name": "python3"
    },
    "language_info": {
      "codemirror_mode": {
        "name": "ipython",
        "version": 3
      },
      "file_extension": ".py",
      "mimetype": "text/x-python",
      "name": "python",
      "nbconvert_exporter": "python",
      "pygments_lexer": "ipython3",
      "version": "3.6.13"
    },
    "colab": {
      "name": "rnn.ipynb",
      "provenance": [],
      "include_colab_link": true
    },
    "accelerator": "GPU"
  },
  "cells": [
    {
      "cell_type": "markdown",
      "metadata": {
        "id": "view-in-github",
        "colab_type": "text"
      },
      "source": [
        "<a href=\"https://colab.research.google.com/github/ferrry-ghsb/bigdata_6team/blob/main/yongjin's-RNN.ipynb\" target=\"_parent\"><img src=\"https://colab.research.google.com/assets/colab-badge.svg\" alt=\"Open In Colab\"/></a>"
      ]
    },
    {
      "cell_type": "code",
      "metadata": {
        "id": "6d4f7ee9"
      },
      "source": [
        "import numpy as np\n",
        "from tensorflow import keras\n",
        "import pandas as pd"
      ],
      "id": "6d4f7ee9",
      "execution_count": 15,
      "outputs": []
    },
    {
      "cell_type": "code",
      "metadata": {
        "id": "c862ff87"
      },
      "source": [
        "def generate_time_series(batch_size, n_steps):\n",
        "    freq1, freq2, offsets1, offsets2 = np.random.rand(4, batch_size, 1)\n",
        "    time = np.linspace(0, 1, n_steps)\n",
        "    series = 0.5 * np.sin((time - offsets1) * (freq1 * 10 + 10))\n",
        "    series += 0.2 * np.sin((time - offsets2) * (freq2 * 20 + 20))\n",
        "    series += 0.1 * (np.random.rand(batch_size, n_steps) - 0.5)\n",
        "    return series[..., np.newaxis].astype(np.float32)"
      ],
      "id": "c862ff87",
      "execution_count": 16,
      "outputs": []
    },
    {
      "cell_type": "code",
      "metadata": {
        "id": "809376a7"
      },
      "source": [
        "n_steps = 50\n",
        "series = generate_time_series(10000, n_steps + 1)"
      ],
      "id": "809376a7",
      "execution_count": 17,
      "outputs": []
    },
    {
      "cell_type": "code",
      "metadata": {
        "colab": {
          "base_uri": "https://localhost:8080/"
        },
        "id": "891c8b07",
        "outputId": "f845ed1c-12a0-4ab6-a093-3ecfa6462f4b"
      },
      "source": [
        "series.shape"
      ],
      "id": "891c8b07",
      "execution_count": 18,
      "outputs": [
        {
          "output_type": "execute_result",
          "data": {
            "text/plain": [
              "(10000, 51, 1)"
            ]
          },
          "metadata": {},
          "execution_count": 18
        }
      ]
    },
    {
      "cell_type": "code",
      "metadata": {
        "id": "ed492a3b"
      },
      "source": [
        "X_train, y_train = series[:7000, :n_steps], series[:7000, -1]"
      ],
      "id": "ed492a3b",
      "execution_count": 19,
      "outputs": []
    },
    {
      "cell_type": "code",
      "metadata": {
        "colab": {
          "base_uri": "https://localhost:8080/"
        },
        "id": "73007729",
        "outputId": "bded4489-50d0-44c9-a3ca-402d529f1974"
      },
      "source": [
        "X_train.shape, y_train.shape"
      ],
      "id": "73007729",
      "execution_count": 20,
      "outputs": [
        {
          "output_type": "execute_result",
          "data": {
            "text/plain": [
              "((7000, 50, 1), (7000, 1))"
            ]
          },
          "metadata": {},
          "execution_count": 20
        }
      ]
    },
    {
      "cell_type": "code",
      "metadata": {
        "id": "cc13ff04"
      },
      "source": [
        "model = keras.models.Sequential([\n",
        "    keras.layers.SimpleRNN(1, input_shape=[50, 1])\n",
        "])"
      ],
      "id": "cc13ff04",
      "execution_count": 21,
      "outputs": []
    },
    {
      "cell_type": "code",
      "metadata": {
        "id": "8c020e91"
      },
      "source": [
        "model.compile(loss=keras.losses.MeanSquaredError(), optimizer=keras.optimizers.Adam())"
      ],
      "id": "8c020e91",
      "execution_count": 22,
      "outputs": []
    },
    {
      "cell_type": "code",
      "metadata": {
        "colab": {
          "base_uri": "https://localhost:8080/"
        },
        "id": "f8532422",
        "outputId": "c18d94aa-301a-4f30-81d5-cd1b3b7dcf6b"
      },
      "source": [
        "model.fit(X_train, y_train)"
      ],
      "id": "f8532422",
      "execution_count": 23,
      "outputs": [
        {
          "output_type": "stream",
          "name": "stdout",
          "text": [
            "219/219 [==============================] - 12s 53ms/step - loss: 0.1929\n"
          ]
        },
        {
          "output_type": "execute_result",
          "data": {
            "text/plain": [
              "<keras.callbacks.History at 0x7f08e21a6fd0>"
            ]
          },
          "metadata": {},
          "execution_count": 23
        }
      ]
    },
    {
      "cell_type": "markdown",
      "metadata": {
        "id": "43a14a21"
      },
      "source": [
        "# Practice"
      ],
      "id": "43a14a21"
    },
    {
      "cell_type": "code",
      "metadata": {
        "id": "23198657"
      },
      "source": [
        "train = pd.read_csv('/content/drive/MyDrive/Colab Notebooks/data/train.csv', usecols=['date','sales'], index_col='date')"
      ],
      "id": "23198657",
      "execution_count": 14,
      "outputs": []
    },
    {
      "cell_type": "code",
      "metadata": {
        "colab": {
          "base_uri": "https://localhost:8080/"
        },
        "id": "7zThVacPsYCw",
        "outputId": "79bd0497-a592-4d72-86bc-33057d0321a4"
      },
      "source": [
        "from google.colab import drive\n",
        "drive.mount('/content/drive')"
      ],
      "id": "7zThVacPsYCw",
      "execution_count": 24,
      "outputs": [
        {
          "output_type": "stream",
          "name": "stdout",
          "text": [
            "Drive already mounted at /content/drive; to attempt to forcibly remount, call drive.mount(\"/content/drive\", force_remount=True).\n"
          ]
        }
      ]
    },
    {
      "cell_type": "code",
      "metadata": {
        "colab": {
          "base_uri": "https://localhost:8080/",
          "height": 455
        },
        "id": "2e852b00",
        "outputId": "33c6d0bc-2ba3-46ea-fa20-008c703496b6"
      },
      "source": [
        "train"
      ],
      "id": "2e852b00",
      "execution_count": 25,
      "outputs": [
        {
          "output_type": "execute_result",
          "data": {
            "text/html": [
              "<div>\n",
              "<style scoped>\n",
              "    .dataframe tbody tr th:only-of-type {\n",
              "        vertical-align: middle;\n",
              "    }\n",
              "\n",
              "    .dataframe tbody tr th {\n",
              "        vertical-align: top;\n",
              "    }\n",
              "\n",
              "    .dataframe thead th {\n",
              "        text-align: right;\n",
              "    }\n",
              "</style>\n",
              "<table border=\"1\" class=\"dataframe\">\n",
              "  <thead>\n",
              "    <tr style=\"text-align: right;\">\n",
              "      <th></th>\n",
              "      <th>sales</th>\n",
              "    </tr>\n",
              "    <tr>\n",
              "      <th>date</th>\n",
              "      <th></th>\n",
              "    </tr>\n",
              "  </thead>\n",
              "  <tbody>\n",
              "    <tr>\n",
              "      <th>2013-01-01</th>\n",
              "      <td>0.000</td>\n",
              "    </tr>\n",
              "    <tr>\n",
              "      <th>2013-01-01</th>\n",
              "      <td>0.000</td>\n",
              "    </tr>\n",
              "    <tr>\n",
              "      <th>2013-01-01</th>\n",
              "      <td>0.000</td>\n",
              "    </tr>\n",
              "    <tr>\n",
              "      <th>2013-01-01</th>\n",
              "      <td>0.000</td>\n",
              "    </tr>\n",
              "    <tr>\n",
              "      <th>2013-01-01</th>\n",
              "      <td>0.000</td>\n",
              "    </tr>\n",
              "    <tr>\n",
              "      <th>...</th>\n",
              "      <td>...</td>\n",
              "    </tr>\n",
              "    <tr>\n",
              "      <th>2017-08-15</th>\n",
              "      <td>438.133</td>\n",
              "    </tr>\n",
              "    <tr>\n",
              "      <th>2017-08-15</th>\n",
              "      <td>154.553</td>\n",
              "    </tr>\n",
              "    <tr>\n",
              "      <th>2017-08-15</th>\n",
              "      <td>2419.729</td>\n",
              "    </tr>\n",
              "    <tr>\n",
              "      <th>2017-08-15</th>\n",
              "      <td>121.000</td>\n",
              "    </tr>\n",
              "    <tr>\n",
              "      <th>2017-08-15</th>\n",
              "      <td>16.000</td>\n",
              "    </tr>\n",
              "  </tbody>\n",
              "</table>\n",
              "<p>3000888 rows × 1 columns</p>\n",
              "</div>"
            ],
            "text/plain": [
              "               sales\n",
              "date                \n",
              "2013-01-01     0.000\n",
              "2013-01-01     0.000\n",
              "2013-01-01     0.000\n",
              "2013-01-01     0.000\n",
              "2013-01-01     0.000\n",
              "...              ...\n",
              "2017-08-15   438.133\n",
              "2017-08-15   154.553\n",
              "2017-08-15  2419.729\n",
              "2017-08-15   121.000\n",
              "2017-08-15    16.000\n",
              "\n",
              "[3000888 rows x 1 columns]"
            ]
          },
          "metadata": {},
          "execution_count": 25
        }
      ]
    },
    {
      "cell_type": "code",
      "metadata": {
        "id": "228184b0"
      },
      "source": [
        "sales_data = []\n",
        "for day in sorted(list(set(train.index))):\n",
        "    sales_data += [train.loc[day].values.squeeze().tolist()]"
      ],
      "id": "228184b0",
      "execution_count": 26,
      "outputs": []
    },
    {
      "cell_type": "code",
      "metadata": {
        "id": "3c6df4a9"
      },
      "source": [
        "sales_data = np.array(sales_data)"
      ],
      "id": "3c6df4a9",
      "execution_count": 27,
      "outputs": []
    },
    {
      "cell_type": "code",
      "metadata": {
        "colab": {
          "base_uri": "https://localhost:8080/"
        },
        "id": "ca0f6ea9",
        "outputId": "8ebf02b5-8beb-4fd9-cd8d-1fa32c3da558"
      },
      "source": [
        "sales_data.shape"
      ],
      "id": "ca0f6ea9",
      "execution_count": 28,
      "outputs": [
        {
          "output_type": "execute_result",
          "data": {
            "text/plain": [
              "(1684, 1782)"
            ]
          },
          "metadata": {},
          "execution_count": 28
        }
      ]
    },
    {
      "cell_type": "code",
      "metadata": {
        "id": "0ddd34a6"
      },
      "source": [
        "train = sales_data[:1600]"
      ],
      "id": "0ddd34a6",
      "execution_count": 29,
      "outputs": []
    },
    {
      "cell_type": "code",
      "metadata": {
        "id": "b4242b81"
      },
      "source": [
        "valid = sales_data[1600:]"
      ],
      "id": "b4242b81",
      "execution_count": 30,
      "outputs": []
    },
    {
      "cell_type": "code",
      "metadata": {
        "id": "f1c60856"
      },
      "source": [
        "from sklearn.preprocessing import StandardScaler\n",
        "\n",
        "scaler = StandardScaler()\n",
        "train = scaler.fit_transform(train)\n",
        "valid = scaler.transform(valid)"
      ],
      "id": "f1c60856",
      "execution_count": 31,
      "outputs": []
    },
    {
      "cell_type": "code",
      "metadata": {
        "id": "f3750aa7"
      },
      "source": [
        "time_steps = 7\n",
        "ts_train_len = 1600\n",
        "ts_valid_len = len(valid)\n",
        "for_periods = 7"
      ],
      "id": "f3750aa7",
      "execution_count": 32,
      "outputs": []
    },
    {
      "cell_type": "code",
      "metadata": {
        "colab": {
          "base_uri": "https://localhost:8080/"
        },
        "id": "e669921e",
        "outputId": "0b8e8957-f4a7-4cb5-dc2c-7253bb613027"
      },
      "source": [
        "len(valid)"
      ],
      "id": "e669921e",
      "execution_count": 33,
      "outputs": [
        {
          "output_type": "execute_result",
          "data": {
            "text/plain": [
              "84"
            ]
          },
          "metadata": {},
          "execution_count": 33
        }
      ]
    },
    {
      "cell_type": "code",
      "metadata": {
        "id": "e0cae373"
      },
      "source": [
        "X_train = []\n",
        "y_train = []\n",
        "for i in range(time_steps, ts_train_len-1):\n",
        "    X_train.append(train[i-time_steps:i])\n",
        "    y_train.append(train[i])\n",
        "X_train, y_train = np.array(X_train), np.array(y_train)"
      ],
      "id": "e0cae373",
      "execution_count": 34,
      "outputs": []
    },
    {
      "cell_type": "code",
      "metadata": {
        "scrolled": true,
        "id": "af1d725f"
      },
      "source": [
        "X_valid = []\n",
        "y_valid = []\n",
        "for i in range(time_steps, ts_valid_len-1):\n",
        "    X_valid.append(valid[i-time_steps:i])\n",
        "    y_valid.append(valid[i])\n",
        "X_valid, y_valid = np.array(X_valid), np.array(y_valid)"
      ],
      "id": "af1d725f",
      "execution_count": 35,
      "outputs": []
    },
    {
      "cell_type": "code",
      "metadata": {
        "colab": {
          "base_uri": "https://localhost:8080/"
        },
        "id": "5f48a83a",
        "outputId": "d16f49fe-8788-4a78-fc69-01b501203f92"
      },
      "source": [
        "X_train.shape"
      ],
      "id": "5f48a83a",
      "execution_count": 36,
      "outputs": [
        {
          "output_type": "execute_result",
          "data": {
            "text/plain": [
              "(1592, 7, 1782)"
            ]
          },
          "metadata": {},
          "execution_count": 36
        }
      ]
    },
    {
      "cell_type": "code",
      "metadata": {
        "colab": {
          "base_uri": "https://localhost:8080/"
        },
        "id": "4039ce7f",
        "outputId": "340a67a2-cd88-4156-c067-eb67c7cacd88"
      },
      "source": [
        "y_train.shape"
      ],
      "id": "4039ce7f",
      "execution_count": 37,
      "outputs": [
        {
          "output_type": "execute_result",
          "data": {
            "text/plain": [
              "(1592, 1782)"
            ]
          },
          "metadata": {},
          "execution_count": 37
        }
      ]
    },
    {
      "cell_type": "code",
      "metadata": {
        "colab": {
          "base_uri": "https://localhost:8080/"
        },
        "id": "b40173d8",
        "outputId": "e435079c-5cf6-4b6a-a8d3-982781d2f27d"
      },
      "source": [
        "X_valid.shape"
      ],
      "id": "b40173d8",
      "execution_count": 38,
      "outputs": [
        {
          "output_type": "execute_result",
          "data": {
            "text/plain": [
              "(76, 7, 1782)"
            ]
          },
          "metadata": {},
          "execution_count": 38
        }
      ]
    },
    {
      "cell_type": "code",
      "metadata": {
        "scrolled": true,
        "colab": {
          "base_uri": "https://localhost:8080/"
        },
        "id": "b058b33e",
        "outputId": "5909ec06-8e58-4954-d76b-132a7359c04c"
      },
      "source": [
        "y_valid.shape"
      ],
      "id": "b058b33e",
      "execution_count": 39,
      "outputs": [
        {
          "output_type": "execute_result",
          "data": {
            "text/plain": [
              "(76, 1782)"
            ]
          },
          "metadata": {},
          "execution_count": 39
        }
      ]
    },
    {
      "cell_type": "code",
      "metadata": {
        "id": "b4b54a61"
      },
      "source": [
        "model = keras.models.Sequential([\n",
        "    keras.layers.SimpleRNN(100, input_shape=[None, 1782], return_sequences=True),\n",
        "    keras.layers.SimpleRNN(100, return_sequences=True),\n",
        "    keras.layers.SimpleRNN(100),\n",
        "    keras.layers.Dense(1782)\n",
        "])"
      ],
      "id": "b4b54a61",
      "execution_count": 40,
      "outputs": []
    },
    {
      "cell_type": "code",
      "metadata": {
        "id": "2d4e0659"
      },
      "source": [
        "model.compile(loss=keras.losses.MeanSquaredError(), optimizer=keras.optimizers.Adam())"
      ],
      "id": "2d4e0659",
      "execution_count": 41,
      "outputs": []
    },
    {
      "cell_type": "code",
      "metadata": {
        "scrolled": true,
        "colab": {
          "base_uri": "https://localhost:8080/"
        },
        "id": "0952a114",
        "outputId": "9c99a31c-131b-42c6-96f6-f5563509c789"
      },
      "source": [
        "history = model.fit(X_train, y_train, epochs=100, validation_data=(X_valid, y_valid))"
      ],
      "id": "0952a114",
      "execution_count": 42,
      "outputs": [
        {
          "output_type": "stream",
          "name": "stdout",
          "text": [
            "Epoch 1/100\n",
            "50/50 [==============================] - 4s 42ms/step - loss: 0.7563 - val_loss: 1.9231\n",
            "Epoch 2/100\n",
            "50/50 [==============================] - 2s 33ms/step - loss: 0.6284 - val_loss: 1.8444\n",
            "Epoch 3/100\n",
            "50/50 [==============================] - 2s 31ms/step - loss: 0.5825 - val_loss: 1.7253\n",
            "Epoch 4/100\n",
            "50/50 [==============================] - 2s 32ms/step - loss: 0.5474 - val_loss: 1.6291\n",
            "Epoch 5/100\n",
            "50/50 [==============================] - 2s 33ms/step - loss: 0.5247 - val_loss: 1.5401\n",
            "Epoch 6/100\n",
            "50/50 [==============================] - 2s 32ms/step - loss: 0.5063 - val_loss: 1.4766\n",
            "Epoch 7/100\n",
            "50/50 [==============================] - 2s 32ms/step - loss: 0.4902 - val_loss: 1.4280\n",
            "Epoch 8/100\n",
            "50/50 [==============================] - 2s 31ms/step - loss: 0.4788 - val_loss: 1.4108\n",
            "Epoch 9/100\n",
            "50/50 [==============================] - 2s 32ms/step - loss: 0.4686 - val_loss: 1.3906\n",
            "Epoch 10/100\n",
            "50/50 [==============================] - 2s 33ms/step - loss: 0.4615 - val_loss: 1.3888\n",
            "Epoch 11/100\n",
            "50/50 [==============================] - 2s 33ms/step - loss: 0.4541 - val_loss: 1.3839\n",
            "Epoch 12/100\n",
            "50/50 [==============================] - 2s 33ms/step - loss: 0.4476 - val_loss: 1.3731\n",
            "Epoch 13/100\n",
            "50/50 [==============================] - 2s 31ms/step - loss: 0.4414 - val_loss: 1.3697\n",
            "Epoch 14/100\n",
            "50/50 [==============================] - 2s 33ms/step - loss: 0.4355 - val_loss: 1.3757\n",
            "Epoch 15/100\n",
            "50/50 [==============================] - 2s 32ms/step - loss: 0.4302 - val_loss: 1.3615\n",
            "Epoch 16/100\n",
            "50/50 [==============================] - 2s 33ms/step - loss: 0.4261 - val_loss: 1.3530\n",
            "Epoch 17/100\n",
            "50/50 [==============================] - 2s 32ms/step - loss: 0.4213 - val_loss: 1.3492\n",
            "Epoch 18/100\n",
            "50/50 [==============================] - 2s 33ms/step - loss: 0.4172 - val_loss: 1.3486\n",
            "Epoch 19/100\n",
            "50/50 [==============================] - 2s 32ms/step - loss: 0.4137 - val_loss: 1.3504\n",
            "Epoch 20/100\n",
            "50/50 [==============================] - 2s 32ms/step - loss: 0.4109 - val_loss: 1.3418\n",
            "Epoch 21/100\n",
            "50/50 [==============================] - 2s 33ms/step - loss: 0.4077 - val_loss: 1.3470\n",
            "Epoch 22/100\n",
            "50/50 [==============================] - 2s 34ms/step - loss: 0.4045 - val_loss: 1.3379\n",
            "Epoch 23/100\n",
            "50/50 [==============================] - 2s 31ms/step - loss: 0.4019 - val_loss: 1.3380\n",
            "Epoch 24/100\n",
            "50/50 [==============================] - 2s 32ms/step - loss: 0.4000 - val_loss: 1.3317\n",
            "Epoch 25/100\n",
            "50/50 [==============================] - 2s 32ms/step - loss: 0.3979 - val_loss: 1.3264\n",
            "Epoch 26/100\n",
            "50/50 [==============================] - 2s 33ms/step - loss: 0.3953 - val_loss: 1.3278\n",
            "Epoch 27/100\n",
            "50/50 [==============================] - 2s 34ms/step - loss: 0.3937 - val_loss: 1.3263\n",
            "Epoch 28/100\n",
            "50/50 [==============================] - 2s 35ms/step - loss: 0.3919 - val_loss: 1.3197\n",
            "Epoch 29/100\n",
            "50/50 [==============================] - 2s 32ms/step - loss: 0.3895 - val_loss: 1.3238\n",
            "Epoch 30/100\n",
            "50/50 [==============================] - 2s 32ms/step - loss: 0.3873 - val_loss: 1.3333\n",
            "Epoch 31/100\n",
            "50/50 [==============================] - 2s 33ms/step - loss: 0.3856 - val_loss: 1.3141\n",
            "Epoch 32/100\n",
            "50/50 [==============================] - 2s 34ms/step - loss: 0.3840 - val_loss: 1.3246\n",
            "Epoch 33/100\n",
            "50/50 [==============================] - 2s 32ms/step - loss: 0.3824 - val_loss: 1.3182\n",
            "Epoch 34/100\n",
            "50/50 [==============================] - 2s 32ms/step - loss: 0.3816 - val_loss: 1.3161\n",
            "Epoch 35/100\n",
            "50/50 [==============================] - 2s 32ms/step - loss: 0.3801 - val_loss: 1.3249\n",
            "Epoch 36/100\n",
            "50/50 [==============================] - 2s 32ms/step - loss: 0.3787 - val_loss: 1.3075\n",
            "Epoch 37/100\n",
            "50/50 [==============================] - 2s 33ms/step - loss: 0.3771 - val_loss: 1.3166\n",
            "Epoch 38/100\n",
            "50/50 [==============================] - 2s 33ms/step - loss: 0.3758 - val_loss: 1.3259\n",
            "Epoch 39/100\n",
            "50/50 [==============================] - 2s 32ms/step - loss: 0.3745 - val_loss: 1.3141\n",
            "Epoch 40/100\n",
            "50/50 [==============================] - 2s 33ms/step - loss: 0.3738 - val_loss: 1.3136\n",
            "Epoch 41/100\n",
            "50/50 [==============================] - 2s 32ms/step - loss: 0.3726 - val_loss: 1.3118\n",
            "Epoch 42/100\n",
            "50/50 [==============================] - 2s 35ms/step - loss: 0.3716 - val_loss: 1.3086\n",
            "Epoch 43/100\n",
            "50/50 [==============================] - 2s 33ms/step - loss: 0.3706 - val_loss: 1.3127\n",
            "Epoch 44/100\n",
            "50/50 [==============================] - 2s 32ms/step - loss: 0.3696 - val_loss: 1.3170\n",
            "Epoch 45/100\n",
            "50/50 [==============================] - 2s 32ms/step - loss: 0.3686 - val_loss: 1.3142\n",
            "Epoch 46/100\n",
            "50/50 [==============================] - 2s 32ms/step - loss: 0.3677 - val_loss: 1.3156\n",
            "Epoch 47/100\n",
            "50/50 [==============================] - 2s 34ms/step - loss: 0.3666 - val_loss: 1.3115\n",
            "Epoch 48/100\n",
            "50/50 [==============================] - 2s 33ms/step - loss: 0.3660 - val_loss: 1.3141\n",
            "Epoch 49/100\n",
            "50/50 [==============================] - 2s 32ms/step - loss: 0.3649 - val_loss: 1.3198\n",
            "Epoch 50/100\n",
            "50/50 [==============================] - 2s 33ms/step - loss: 0.3645 - val_loss: 1.3045\n",
            "Epoch 51/100\n",
            "50/50 [==============================] - 2s 33ms/step - loss: 0.3639 - val_loss: 1.3186\n",
            "Epoch 52/100\n",
            "50/50 [==============================] - 2s 32ms/step - loss: 0.3626 - val_loss: 1.3306\n",
            "Epoch 53/100\n",
            "50/50 [==============================] - 2s 32ms/step - loss: 0.3616 - val_loss: 1.3304\n",
            "Epoch 54/100\n",
            "50/50 [==============================] - 2s 31ms/step - loss: 0.3609 - val_loss: 1.3254\n",
            "Epoch 55/100\n",
            "50/50 [==============================] - 2s 32ms/step - loss: 0.3603 - val_loss: 1.3258\n",
            "Epoch 56/100\n",
            "50/50 [==============================] - 2s 34ms/step - loss: 0.3602 - val_loss: 1.3241\n",
            "Epoch 57/100\n",
            "50/50 [==============================] - 2s 31ms/step - loss: 0.3598 - val_loss: 1.3309\n",
            "Epoch 58/100\n",
            "50/50 [==============================] - 2s 32ms/step - loss: 0.3585 - val_loss: 1.3326\n",
            "Epoch 59/100\n",
            "50/50 [==============================] - 2s 33ms/step - loss: 0.3581 - val_loss: 1.3237\n",
            "Epoch 60/100\n",
            "50/50 [==============================] - 2s 34ms/step - loss: 0.3576 - val_loss: 1.3076\n",
            "Epoch 61/100\n",
            "50/50 [==============================] - 2s 33ms/step - loss: 0.3565 - val_loss: 1.3379\n",
            "Epoch 62/100\n",
            "50/50 [==============================] - 2s 33ms/step - loss: 0.3559 - val_loss: 1.3222\n",
            "Epoch 63/100\n",
            "50/50 [==============================] - 2s 33ms/step - loss: 0.3552 - val_loss: 1.3313\n",
            "Epoch 64/100\n",
            "50/50 [==============================] - 2s 32ms/step - loss: 0.3555 - val_loss: 1.3266\n",
            "Epoch 65/100\n",
            "50/50 [==============================] - 2s 32ms/step - loss: 0.3546 - val_loss: 1.3217\n",
            "Epoch 66/100\n",
            "50/50 [==============================] - 2s 32ms/step - loss: 0.3539 - val_loss: 1.3226\n",
            "Epoch 67/100\n",
            "50/50 [==============================] - 2s 32ms/step - loss: 0.3538 - val_loss: 1.3242\n",
            "Epoch 68/100\n",
            "50/50 [==============================] - 2s 32ms/step - loss: 0.3534 - val_loss: 1.3383\n",
            "Epoch 69/100\n",
            "50/50 [==============================] - 2s 32ms/step - loss: 0.3530 - val_loss: 1.3434\n",
            "Epoch 70/100\n",
            "50/50 [==============================] - 2s 34ms/step - loss: 0.3526 - val_loss: 1.3352\n",
            "Epoch 71/100\n",
            "50/50 [==============================] - 2s 34ms/step - loss: 0.3518 - val_loss: 1.3371\n",
            "Epoch 72/100\n",
            "50/50 [==============================] - 2s 35ms/step - loss: 0.3515 - val_loss: 1.3368\n",
            "Epoch 73/100\n",
            "50/50 [==============================] - 2s 33ms/step - loss: 0.3508 - val_loss: 1.3526\n",
            "Epoch 74/100\n",
            "50/50 [==============================] - 2s 32ms/step - loss: 0.3501 - val_loss: 1.3342\n",
            "Epoch 75/100\n",
            "50/50 [==============================] - 2s 32ms/step - loss: 0.3498 - val_loss: 1.3422\n",
            "Epoch 76/100\n",
            "50/50 [==============================] - 2s 33ms/step - loss: 0.3499 - val_loss: 1.3422\n",
            "Epoch 77/100\n",
            "50/50 [==============================] - 2s 32ms/step - loss: 0.3492 - val_loss: 1.3449\n",
            "Epoch 78/100\n",
            "50/50 [==============================] - 2s 32ms/step - loss: 0.3490 - val_loss: 1.3486\n",
            "Epoch 79/100\n",
            "50/50 [==============================] - 2s 33ms/step - loss: 0.3483 - val_loss: 1.3383\n",
            "Epoch 80/100\n",
            "50/50 [==============================] - 2s 32ms/step - loss: 0.3480 - val_loss: 1.3471\n",
            "Epoch 81/100\n",
            "50/50 [==============================] - 2s 32ms/step - loss: 0.3477 - val_loss: 1.3591\n",
            "Epoch 82/100\n",
            "50/50 [==============================] - 2s 33ms/step - loss: 0.3471 - val_loss: 1.3427\n",
            "Epoch 83/100\n",
            "50/50 [==============================] - 2s 34ms/step - loss: 0.3467 - val_loss: 1.3542\n",
            "Epoch 84/100\n",
            "50/50 [==============================] - 2s 34ms/step - loss: 0.3466 - val_loss: 1.3386\n",
            "Epoch 85/100\n",
            "50/50 [==============================] - 2s 34ms/step - loss: 0.3463 - val_loss: 1.3480\n",
            "Epoch 86/100\n",
            "50/50 [==============================] - 2s 32ms/step - loss: 0.3457 - val_loss: 1.3495\n",
            "Epoch 87/100\n",
            "50/50 [==============================] - 2s 33ms/step - loss: 0.3454 - val_loss: 1.3402\n",
            "Epoch 88/100\n",
            "50/50 [==============================] - 2s 33ms/step - loss: 0.3453 - val_loss: 1.3382\n",
            "Epoch 89/100\n",
            "50/50 [==============================] - 2s 32ms/step - loss: 0.3453 - val_loss: 1.3641\n",
            "Epoch 90/100\n",
            "50/50 [==============================] - 2s 32ms/step - loss: 0.3450 - val_loss: 1.3381\n",
            "Epoch 91/100\n",
            "50/50 [==============================] - 2s 34ms/step - loss: 0.3447 - val_loss: 1.3472\n",
            "Epoch 92/100\n",
            "50/50 [==============================] - 2s 32ms/step - loss: 0.3441 - val_loss: 1.3373\n",
            "Epoch 93/100\n",
            "50/50 [==============================] - 2s 32ms/step - loss: 0.3439 - val_loss: 1.3336\n",
            "Epoch 94/100\n",
            "50/50 [==============================] - 2s 33ms/step - loss: 0.3437 - val_loss: 1.3516\n",
            "Epoch 95/100\n",
            "50/50 [==============================] - 2s 33ms/step - loss: 0.3432 - val_loss: 1.3539\n",
            "Epoch 96/100\n",
            "50/50 [==============================] - 2s 32ms/step - loss: 0.3433 - val_loss: 1.3616\n",
            "Epoch 97/100\n",
            "50/50 [==============================] - 2s 31ms/step - loss: 0.3430 - val_loss: 1.3655\n",
            "Epoch 98/100\n",
            "50/50 [==============================] - 2s 33ms/step - loss: 0.3429 - val_loss: 1.3639\n",
            "Epoch 99/100\n",
            "50/50 [==============================] - 2s 33ms/step - loss: 0.3429 - val_loss: 1.3622\n",
            "Epoch 100/100\n",
            "50/50 [==============================] - 2s 33ms/step - loss: 0.3421 - val_loss: 1.3474\n"
          ]
        }
      ]
    },
    {
      "cell_type": "code",
      "metadata": {
        "colab": {
          "base_uri": "https://localhost:8080/",
          "height": 283
        },
        "id": "f51e776c",
        "outputId": "dff51df2-2641-42ec-8609-6281a64de90e"
      },
      "source": [
        "import matplotlib.pyplot as plt\n",
        "y_vloss = history.history['val_loss']\n",
        "y_loss = history.history['loss']\n",
        "\n",
        "x_len = np.arange(len(y_loss))\n",
        "plt.plot(x_len, y_vloss, marker='.', c='red', label=\"Validation-set Loss\")\n",
        "plt.plot(x_len, y_loss, marker='.', c='blue', label=\"Train-set Loss\")\n",
        "\n",
        "plt.legend(loc='upper right')\n",
        "plt.grid()\n",
        "plt.xlabel('epoch')\n",
        "plt.ylabel('loss')\n",
        "plt.show()\n"
      ],
      "id": "f51e776c",
      "execution_count": 43,
      "outputs": [
        {
          "output_type": "display_data",
          "data": {
            "image/png": "[encoded data removed]",
            "text/plain": [
              "<Figure size 432x288 with 1 Axes>"
            ]
          },
          "metadata": {
            "needs_background": "light"
          }
        }
      ]
    },
    {
      "cell_type": "code",
      "metadata": {
        "colab": {
          "base_uri": "https://localhost:8080/"
        },
        "id": "b8ac53fb",
        "outputId": "38ccbe06-2e25-4855-d1a5-d231fb627351"
      },
      "source": [
        "sales_data.shape"
      ],
      "id": "b8ac53fb",
      "execution_count": 44,
      "outputs": [
        {
          "output_type": "execute_result",
          "data": {
            "text/plain": [
              "(1684, 1782)"
            ]
          },
          "metadata": {},
          "execution_count": 44
        }
      ]
    },
    {
      "cell_type": "code",
      "metadata": {
        "colab": {
          "base_uri": "https://localhost:8080/"
        },
        "id": "72af91aa",
        "outputId": "bdccca4a-8bae-4433-c7bb-98e962c99337"
      },
      "source": [
        "len(sales_data[:, 1])"
      ],
      "id": "72af91aa",
      "execution_count": 45,
      "outputs": [
        {
          "output_type": "execute_result",
          "data": {
            "text/plain": [
              "1684"
            ]
          },
          "metadata": {},
          "execution_count": 45
        }
      ]
    },
    {
      "cell_type": "code",
      "metadata": {
        "colab": {
          "base_uri": "https://localhost:8080/"
        },
        "id": "6f063b62",
        "outputId": "7961c437-5b93-4024-fc09-106c97555f87"
      },
      "source": [
        "scaler.transform(sales_data)[1620:,3]"
      ],
      "id": "6f063b62",
      "execution_count": 46,
      "outputs": [
        {
          "output_type": "execute_result",
          "data": {
            "text/plain": [
              "array([ 1.41348601,  1.59061534,  0.80183629,  1.34844633,  1.63351385,\n",
              "       -0.76465123,  1.29447724,  1.96424752,  1.4190213 ,  0.36869972,\n",
              "        1.15747877,  1.54494918, -0.67470275,  0.94713769,  0.75201866,\n",
              "        0.8931686 ,  0.78938188,  1.29862871,  1.437011  , -0.58475426,\n",
              "        1.34014339,  1.00525825,  1.56847417,  1.00525825,  1.40656689,\n",
              "        1.09797439, -0.5210984 ,  1.07998469,  1.12703467,  1.24881108,\n",
              "        0.77139218,  1.34429486,  0.86549214, -0.66224834,  1.13948907,\n",
              "        1.42732423,  1.1228832 ,  0.62055549,  1.80095642,  0.96927886,\n",
              "       -0.7383586 ,  0.83089657,  1.21836698,  0.94713769,  0.61502019,\n",
              "        1.10766115,  0.83504803, -0.47819989,  1.18515523,  1.4799095 ,\n",
              "        1.50481832,  0.663454  ,  1.27510372,  0.74094808, -0.81585268,\n",
              "        0.73126132,  1.19069052,  1.04262147,  1.13395378, -0.76326741,\n",
              "        0.14036894, -1.04418346,  0.89040095,  0.53199082])"
            ]
          },
          "metadata": {},
          "execution_count": 46
        }
      ]
    },
    {
      "cell_type": "code",
      "metadata": {
        "colab": {
          "base_uri": "https://localhost:8080/",
          "height": 282
        },
        "id": "d9693839",
        "outputId": "a40cf250-4112-45c4-c526-b6c80c26794c"
      },
      "source": [
        "plt.plot(scaler.transform(sales_data)[1620:,3])\n",
        "plt.plot(model.predict(X_valid)[:, 3])"
      ],
      "id": "d9693839",
      "execution_count": 47,
      "outputs": [
        {
          "output_type": "execute_result",
          "data": {
            "text/plain": [
              "[<matplotlib.lines.Line2D at 0x7f08de343f90>]"
            ]
          },
          "metadata": {},
          "execution_count": 47
        },
        {
          "output_type": "display_data",
          "data": {
            "image/png": "[encoded data removed]",
            "text/plain": [
              "<Figure size 432x288 with 1 Axes>"
            ]
          },
          "metadata": {
            "needs_background": "light"
          }
        }
      ]
    },
    {
      "cell_type": "code",
      "metadata": {
        "colab": {
          "base_uri": "https://localhost:8080/"
        },
        "id": "3705c525",
        "outputId": "4508d3fa-29e8-4bee-a84f-78af24b6e938"
      },
      "source": [
        "sales_data[:, 3]"
      ],
      "id": "3705c525",
      "execution_count": 48,
      "outputs": [
        {
          "output_type": "execute_result",
          "data": {
            "text/plain": [
              "array([   0., 1091.,  919., ...,  803., 2201., 1942.])"
            ]
          },
          "metadata": {},
          "execution_count": 48
        }
      ]
    },
    {
      "cell_type": "code",
      "metadata": {
        "colab": {
          "base_uri": "https://localhost:8080/"
        },
        "id": "2abf1d3e",
        "outputId": "76ba2a33-bbb8-4be8-a0d6-dabe52d427f2"
      },
      "source": [
        "model.predict(X_valid[:3])"
      ],
      "id": "2abf1d3e",
      "execution_count": 49,
      "outputs": [
        {
          "output_type": "execute_result",
          "data": {
            "text/plain": [
              "array([[ 0.23483475,  0.00861402,  1.0078619 , ...,  0.41974005,\n",
              "        -0.7613804 ,  0.21582484],\n",
              "       [-0.05583475,  0.00722157,  0.73263425, ...,  0.41954386,\n",
              "        -0.78865397,  0.09781794],\n",
              "       [ 0.5030626 ,  0.0114535 ,  0.82625234, ...,  0.63577896,\n",
              "        -0.44656694,  0.1792144 ]], dtype=float32)"
            ]
          },
          "metadata": {},
          "execution_count": 49
        }
      ]
    },
    {
      "cell_type": "code",
      "metadata": {
        "colab": {
          "base_uri": "https://localhost:8080/",
          "height": 282
        },
        "id": "bf5bc974",
        "outputId": "ec5eb560-1379-4941-9359-07c4fd0f35a6"
      },
      "source": [
        "plt.plot(model.predict(X_valid)[:, 3])"
      ],
      "id": "bf5bc974",
      "execution_count": 50,
      "outputs": [
        {
          "output_type": "execute_result",
          "data": {
            "text/plain": [
              "[<matplotlib.lines.Line2D at 0x7f08dd950a50>]"
            ]
          },
          "metadata": {},
          "execution_count": 50
        },
        {
          "output_type": "display_data",
          "data": {
            "image/png": "[encoded data removed]",
            "text/plain": [
              "<Figure size 432x288 with 1 Axes>"
            ]
          },
          "metadata": {
            "needs_background": "light"
          }
        }
      ]
    },
    {
      "cell_type": "code",
      "metadata": {
        "id": "fcaba238"
      },
      "source": [
        "def plot_predict(a = 0):\n",
        "    plt.plot(scaler.transform(sales_data)[-77:,a])\n",
        "    plt.plot(model.predict(X_valid)[:, a])\n",
        "    plt.legend(['True', 'Predict'])\n",
        "    plt.show()"
      ],
      "id": "fcaba238",
      "execution_count": 51,
      "outputs": []
    }
  ]
}
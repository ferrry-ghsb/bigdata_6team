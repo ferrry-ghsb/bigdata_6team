{
  "nbformat": 4,
  "nbformat_minor": 0,
  "metadata": {
    "colab": {
      "name": "Untitled1.ipynb",
      "provenance": [],
      "collapsed_sections": [],
      "mount_file_id": "1xJvL1mLVX3e9e9adoozrJezDCti01gM2",
      "authorship_tag": "ABX9TyOW1qFFHJj6fXwuSgVyJRgW",
      "include_colab_link": true
    },
    "kernelspec": {
      "name": "python3",
      "display_name": "Python 3"
    },
    "language_info": {
      "name": "python"
    }
  },
  "cells": [
    {
      "cell_type": "markdown",
      "metadata": {
        "id": "view-in-github",
        "colab_type": "text"
      },
      "source": [
        "<a href=\"https://colab.research.google.com/github/ferrry-ghsb/bigdata_6team/blob/main/RNN_%EB%9E%A8_%EB%B6%80%EC%A1%B1.ipynb\" target=\"_parent\"><img src=\"https://colab.research.google.com/assets/colab-badge.svg\" alt=\"Open In Colab\"/></a>"
      ]
    },
    {
      "cell_type": "code",
      "metadata": {
        "id": "x72volRVVBsB"
      },
      "source": [
        "import io\n",
        "import pandas as pd\n",
        "pd.options.display.float_format = '{:,.2f}'.format\n",
        "pd.options.display.max_rows = 50\n",
        "pd.options.display.max_columns = 40\n",
        "import numpy as np\n",
        "from sklearn import preprocessing"
      ],
      "execution_count": 1,
      "outputs": []
    },
    {
      "cell_type": "code",
      "metadata": {
        "id": "2-Mo8kW0VHl3"
      },
      "source": [
        "from keras.models import Sequential, Model, load_model\n",
        "from keras.layers import Input, Dense, Activation, Flatten, Dropout\n",
        "from keras.layers import SimpleRNN"
      ],
      "execution_count": 2,
      "outputs": []
    },
    {
      "cell_type": "code",
      "metadata": {
        "id": "Ty3B1iJfWqUi"
      },
      "source": [
        "x_train = pd.read_csv('/content/drive/MyDrive/Colab Notebooks/data/x_train.csv')\n",
        "x_valid = pd.read_csv('/content/drive/MyDrive/Colab Notebooks/data/x_valid.csv')\n",
        "y_train = pd.read_csv('/content/drive/MyDrive/Colab Notebooks/data/y_train.csv')\n",
        "y_valid = pd.read_csv('/content/drive/MyDrive/Colab Notebooks/data/y_valid.csv')"
      ],
      "execution_count": 3,
      "outputs": []
    },
    {
      "cell_type": "code",
      "metadata": {
        "id": "UIISkXFPXSca"
      },
      "source": [
        "x_train = x_train[x_train.date >= '2016-01-01']\n",
        "x_valid = x_valid[x_valid.date <= '2016-09-12']\n",
        "y_train = x_train[x_train.date >= '2016-01-01']\n",
        "y_valid = x_valid[x_valid.date <= '2016-09-12']"
      ],
      "execution_count": 4,
      "outputs": []
    },
    {
      "cell_type": "code",
      "metadata": {
        "id": "S4bC57vkXVD7"
      },
      "source": [
        "x_train = x_train.replace('-', '', regex=True).astype(int)\n",
        "x_valid = x_valid.replace('-', '', regex=True).astype(int)\n",
        "y_train = y_train.replace('-', '', regex=True).astype(int)\n",
        "y_valid = y_valid.replace('-', '', regex=True).astype(int)"
      ],
      "execution_count": 5,
      "outputs": []
    },
    {
      "cell_type": "code",
      "metadata": {
        "id": "ktYE9cKNXXsi"
      },
      "source": [
        "scaler_X_tr = preprocessing.MinMaxScaler()\n",
        "scaler_Y_tr = preprocessing.MinMaxScaler()\n",
        "sequence = 34\n",
        "batch_size = 32\n",
        "epoch = 20\n",
        "verbose = 1\n",
        "dropout_ratio = 0"
      ],
      "execution_count": 6,
      "outputs": []
    },
    {
      "cell_type": "code",
      "metadata": {
        "colab": {
          "base_uri": "https://localhost:8080/"
        },
        "id": "ykWwOwn8XZsa",
        "outputId": "48252d23-3d61-41a2-aa7c-646ac1bee60b"
      },
      "source": [
        "x_train['date']"
      ],
      "execution_count": 7,
      "outputs": [
        {
          "output_type": "execute_result",
          "data": {
            "text/plain": [
              "1972674    20160101\n",
              "1972675    20160101\n",
              "1972676    20160101\n",
              "1972677    20160101\n",
              "1972678    20160101\n",
              "             ...   \n",
              "2443473    20160912\n",
              "2443474    20160912\n",
              "2443475    20160912\n",
              "2443476    20160912\n",
              "2443477    20160912\n",
              "Name: date, Length: 470804, dtype: int64"
            ]
          },
          "metadata": {},
          "execution_count": 7
        }
      ]
    },
    {
      "cell_type": "code",
      "metadata": {
        "colab": {
          "base_uri": "https://localhost:8080/"
        },
        "id": "ChE2VYnaXcFD",
        "outputId": "ef7682b3-a8f0-42ab-b0ba-9791ce169daa"
      },
      "source": [
        "X_train_scaled = scaler_X_tr.fit_transform(x_train)\n",
        "Y_train_scaled = scaler_Y_tr.fit_transform(y_train)\n",
        "X_valid_scaled = scaler_X_tr.transform(x_valid)\n",
        "Y_valid_scaled = scaler_Y_tr.transform(y_valid)"
      ],
      "execution_count": 8,
      "outputs": [
        {
          "output_type": "stream",
          "name": "stderr",
          "text": [
            "/usr/local/lib/python3.7/dist-packages/sklearn/base.py:488: FutureWarning: The feature names should match those that were passed during fit. Starting version 1.2, an error will be raised.\n",
            "Feature names must be in the same order as they were in fit.\n",
            "\n",
            "  warnings.warn(message, FutureWarning)\n",
            "/usr/local/lib/python3.7/dist-packages/sklearn/base.py:488: FutureWarning: The feature names should match those that were passed during fit. Starting version 1.2, an error will be raised.\n",
            "Feature names must be in the same order as they were in fit.\n",
            "\n",
            "  warnings.warn(message, FutureWarning)\n"
          ]
        }
      ]
    },
    {
      "cell_type": "code",
      "metadata": {
        "id": "e4VH4xbDXetC"
      },
      "source": [
        "# 여기서부터 램 용량 부족..\n",
        "# X / Y split\n",
        "\n",
        "x_train, y_train = [], []\n",
        "for index in range(len(X_train_scaled) - sequence):\n",
        "    x_train.append(np.array(X_train_scaled[index: index + sequence]))\n",
        "    y_train.append(np.ravel(Y_train_scaled[index + sequence:index + sequence + 1]))\n",
        "x_train, y_train = np.array(x_train), np.array(y_train)\n",
        "x_valid, y_valid = [], []\n",
        "for index in range(len(X_valid_scaled) - sequence):\n",
        "    x_valid.append(np.array(X_valid_scaled[index: index + sequence]))\n",
        "    y_valid.append(np.ravel(Y_valid_scaled[index + sequence:index + sequence + 1]))  \n",
        "x_valid, y_valid = np.array(x_valid), np.array(y_valid)"
      ],
      "execution_count": null,
      "outputs": []
    },
    {
      "cell_type": "code",
      "metadata": {
        "id": "vLPm3LQ7oLs7"
      },
      "source": [
        "# RNN\n",
        "model = Sequential()\n",
        "model.add(SimpleRNN(128, input_shape=(x_train.shape[1], x_train.shape[2]), return_sequences=True, activation='relu'))\n",
        "model.add(Dropout(dropout_ratio))\n",
        "# 램 부족으로 일단은 64의 경우만 실행\n",
        "# model.add(SimpleRNN(256, return_sequences=True, activation=\"relu\"))\n",
        "# model.add(Dropout(dropout_ratio))\n",
        "# model.add(SimpleRNN(128, return_sequences=True, activation=\"relu\"))\n",
        "# model.add(Dropout(dropout_ratio)) \n",
        "model.add(SimpleRNN(64, return_sequences=True, activation=\"relu\"))\n",
        "model.add(Dropout(dropout_ratio)) \n",
        "model.add(Flatten())\n",
        "model.add(Dense(1))\n",
        "model.compile(optimizer='adam', loss='mean_squared_error')\n",
        "model.summary()\n",
        "model_fit = model.fit(X_train, Y_train, \n",
        "                      batch_size=batch_size, epochs=epoch,\n",
        "                      verbose=verbose)\n",
        "\n",
        "plt.plot(pd.DataFrame(model_fit.history))\n",
        "plt.grid(True)\n",
        "plt.show()"
      ],
      "execution_count": null,
      "outputs": []
    }
  ]
}
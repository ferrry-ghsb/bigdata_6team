{
 "cells": [
  {
   "cell_type": "code",
   "execution_count": 1,
   "id": "6d4f7ee9",
   "metadata": {},
   "outputs": [],
   "source": [
    "import numpy as np\n",
    "from tensorflow import keras\n",
    "import pandas as pd"
   ]
  },
  {
   "cell_type": "code",
   "execution_count": 2,
   "id": "c862ff87",
   "metadata": {},
   "outputs": [],
   "source": [
    "def generate_time_series(batch_size, n_steps):\n",
    "    freq1, freq2, offsets1, offsets2 = np.random.rand(4, batch_size, 1)\n",
    "    time = np.linspace(0, 1, n_steps)\n",
    "    series = 0.5 * np.sin((time - offsets1) * (freq1 * 10 + 10))\n",
    "    series += 0.2 * np.sin((time - offsets2) * (freq2 * 20 + 20))\n",
    "    series += 0.1 * (np.random.rand(batch_size, n_steps) - 0.5)\n",
    "    return series[..., np.newaxis].astype(np.float32)"
   ]
  },
  {
   "cell_type": "code",
   "execution_count": 3,
   "id": "809376a7",
   "metadata": {},
   "outputs": [],
   "source": [
    "n_steps = 50\n",
    "series = generate_time_series(10000, n_steps + 1)"
   ]
  },
  {
   "cell_type": "code",
   "execution_count": 4,
   "id": "891c8b07",
   "metadata": {},
   "outputs": [
    {
     "data": {
      "text/plain": [
       "(10000, 51, 1)"
      ]
     },
     "execution_count": 4,
     "metadata": {},
     "output_type": "execute_result"
    }
   ],
   "source": [
    "series.shape"
   ]
  },
  {
   "cell_type": "code",
   "execution_count": 5,
   "id": "ed492a3b",
   "metadata": {},
   "outputs": [],
   "source": [
    "X_train, y_train = series[:7000, :n_steps], series[:7000, -1]"
   ]
  },
  {
   "cell_type": "code",
   "execution_count": 6,
   "id": "73007729",
   "metadata": {},
   "outputs": [
    {
     "data": {
      "text/plain": [
       "((7000, 50, 1), (7000, 1))"
      ]
     },
     "execution_count": 6,
     "metadata": {},
     "output_type": "execute_result"
    }
   ],
   "source": [
    "X_train.shape, y_train.shape"
   ]
  },
  {
   "cell_type": "code",
   "execution_count": 7,
   "id": "cc13ff04",
   "metadata": {},
   "outputs": [],
   "source": [
    "model = keras.models.Sequential([\n",
    "    keras.layers.SimpleRNN(1, input_shape=[50, 1])\n",
    "])"
   ]
  },
  {
   "cell_type": "code",
   "execution_count": 8,
   "id": "8c020e91",
   "metadata": {},
   "outputs": [],
   "source": [
    "model.compile(loss=keras.losses.MeanSquaredError(), optimizer=keras.optimizers.Adam())"
   ]
  },
  {
   "cell_type": "code",
   "execution_count": 9,
   "id": "f8532422",
   "metadata": {},
   "outputs": [
    {
     "name": "stdout",
     "output_type": "stream",
     "text": [
      "219/219 [==============================] - 2s 6ms/step - loss: 0.2716\n"
     ]
    },
    {
     "data": {
      "text/plain": [
       "<keras.callbacks.History at 0x26584449198>"
      ]
     },
     "execution_count": 9,
     "metadata": {},
     "output_type": "execute_result"
    }
   ],
   "source": [
    "model.fit(X_train, y_train)"
   ]
  },
  {
   "cell_type": "markdown",
   "id": "43a14a21",
   "metadata": {},
   "source": [
    "# Practice"
   ]
  },
  {
   "cell_type": "code",
   "execution_count": 230,
   "id": "b28859c4",
   "metadata": {},
   "outputs": [],
   "source": [
    "a = pd.read_csv('../../store-sales-time-series-forecasting/train.csv', usecols = ['store_nbr', 'family', 'sales']).groupby(['store_nbr', 'family']).mean()"
   ]
  },
  {
   "cell_type": "code",
   "execution_count": 234,
   "id": "f6647280",
   "metadata": {
    "scrolled": true
   },
   "outputs": [
    {
     "data": {
      "text/html": [
       "<div>\n",
       "<style scoped>\n",
       "    .dataframe tbody tr th:only-of-type {\n",
       "        vertical-align: middle;\n",
       "    }\n",
       "\n",
       "    .dataframe tbody tr th {\n",
       "        vertical-align: top;\n",
       "    }\n",
       "\n",
       "    .dataframe thead th {\n",
       "        text-align: right;\n",
       "    }\n",
       "</style>\n",
       "<table border=\"1\" class=\"dataframe\">\n",
       "  <thead>\n",
       "    <tr style=\"text-align: right;\">\n",
       "      <th></th>\n",
       "      <th></th>\n",
       "      <th>sales</th>\n",
       "    </tr>\n",
       "    <tr>\n",
       "      <th>store_nbr</th>\n",
       "      <th>family</th>\n",
       "      <th></th>\n",
       "    </tr>\n",
       "  </thead>\n",
       "  <tbody>\n",
       "    <tr>\n",
       "      <th rowspan=\"5\" valign=\"top\">1</th>\n",
       "      <th>AUTOMOTIVE</th>\n",
       "      <td>3.251188</td>\n",
       "    </tr>\n",
       "    <tr>\n",
       "      <th>BABY CARE</th>\n",
       "      <td>0.000000</td>\n",
       "    </tr>\n",
       "    <tr>\n",
       "      <th>BEAUTY</th>\n",
       "      <td>2.408551</td>\n",
       "    </tr>\n",
       "    <tr>\n",
       "      <th>BEVERAGES</th>\n",
       "      <td>1587.748812</td>\n",
       "    </tr>\n",
       "    <tr>\n",
       "      <th>BOOKS</th>\n",
       "      <td>0.125297</td>\n",
       "    </tr>\n",
       "    <tr>\n",
       "      <th>...</th>\n",
       "      <th>...</th>\n",
       "      <td>...</td>\n",
       "    </tr>\n",
       "    <tr>\n",
       "      <th rowspan=\"5\" valign=\"top\">54</th>\n",
       "      <th>POULTRY</th>\n",
       "      <td>52.784924</td>\n",
       "    </tr>\n",
       "    <tr>\n",
       "      <th>PREPARED FOODS</th>\n",
       "      <td>61.217340</td>\n",
       "    </tr>\n",
       "    <tr>\n",
       "      <th>PRODUCE</th>\n",
       "      <td>354.026315</td>\n",
       "    </tr>\n",
       "    <tr>\n",
       "      <th>SCHOOL AND OFFICE SUPPLIES</th>\n",
       "      <td>0.607482</td>\n",
       "    </tr>\n",
       "    <tr>\n",
       "      <th>SEAFOOD</th>\n",
       "      <td>1.744656</td>\n",
       "    </tr>\n",
       "  </tbody>\n",
       "</table>\n",
       "<p>1782 rows × 1 columns</p>\n",
       "</div>"
      ],
      "text/plain": [
       "                                            sales\n",
       "store_nbr family                                 \n",
       "1         AUTOMOTIVE                     3.251188\n",
       "          BABY CARE                      0.000000\n",
       "          BEAUTY                         2.408551\n",
       "          BEVERAGES                   1587.748812\n",
       "          BOOKS                          0.125297\n",
       "...                                           ...\n",
       "54        POULTRY                       52.784924\n",
       "          PREPARED FOODS                61.217340\n",
       "          PRODUCE                      354.026315\n",
       "          SCHOOL AND OFFICE SUPPLIES     0.607482\n",
       "          SEAFOOD                        1.744656\n",
       "\n",
       "[1782 rows x 1 columns]"
      ]
     },
     "execution_count": 234,
     "metadata": {},
     "output_type": "execute_result"
    }
   ],
   "source": [
    "a"
   ]
  },
  {
   "cell_type": "code",
   "execution_count": 232,
   "id": "492d35a3",
   "metadata": {},
   "outputs": [
    {
     "data": {
      "text/html": [
       "<div>\n",
       "<style scoped>\n",
       "    .dataframe tbody tr th:only-of-type {\n",
       "        vertical-align: middle;\n",
       "    }\n",
       "\n",
       "    .dataframe tbody tr th {\n",
       "        vertical-align: top;\n",
       "    }\n",
       "\n",
       "    .dataframe thead th {\n",
       "        text-align: right;\n",
       "    }\n",
       "</style>\n",
       "<table border=\"1\" class=\"dataframe\">\n",
       "  <thead>\n",
       "    <tr style=\"text-align: right;\">\n",
       "      <th></th>\n",
       "      <th>sales</th>\n",
       "    </tr>\n",
       "    <tr>\n",
       "      <th>family</th>\n",
       "      <th></th>\n",
       "    </tr>\n",
       "  </thead>\n",
       "  <tbody>\n",
       "    <tr>\n",
       "      <th>AUTOMOTIVE</th>\n",
       "      <td>5.403800</td>\n",
       "    </tr>\n",
       "    <tr>\n",
       "      <th>BABY CARE</th>\n",
       "      <td>0.049881</td>\n",
       "    </tr>\n",
       "    <tr>\n",
       "      <th>BEAUTY</th>\n",
       "      <td>4.712589</td>\n",
       "    </tr>\n",
       "    <tr>\n",
       "      <th>BEVERAGES</th>\n",
       "      <td>2466.693587</td>\n",
       "    </tr>\n",
       "    <tr>\n",
       "      <th>BOOKS</th>\n",
       "      <td>0.141924</td>\n",
       "    </tr>\n",
       "    <tr>\n",
       "      <th>BREAD/BAKERY</th>\n",
       "      <td>548.855574</td>\n",
       "    </tr>\n",
       "    <tr>\n",
       "      <th>CELEBRATION</th>\n",
       "      <td>7.947743</td>\n",
       "    </tr>\n",
       "    <tr>\n",
       "      <th>CLEANING</th>\n",
       "      <td>965.480404</td>\n",
       "    </tr>\n",
       "    <tr>\n",
       "      <th>DAIRY</th>\n",
       "      <td>853.242280</td>\n",
       "    </tr>\n",
       "    <tr>\n",
       "      <th>DELI</th>\n",
       "      <td>244.349816</td>\n",
       "    </tr>\n",
       "    <tr>\n",
       "      <th>EGGS</th>\n",
       "      <td>186.897862</td>\n",
       "    </tr>\n",
       "    <tr>\n",
       "      <th>FROZEN FOODS</th>\n",
       "      <td>160.718015</td>\n",
       "    </tr>\n",
       "    <tr>\n",
       "      <th>GROCERY I</th>\n",
       "      <td>3914.313419</td>\n",
       "    </tr>\n",
       "    <tr>\n",
       "      <th>GROCERY II</th>\n",
       "      <td>31.285629</td>\n",
       "    </tr>\n",
       "    <tr>\n",
       "      <th>HARDWARE</th>\n",
       "      <td>1.171021</td>\n",
       "    </tr>\n",
       "    <tr>\n",
       "      <th>HOME AND KITCHEN I</th>\n",
       "      <td>17.606295</td>\n",
       "    </tr>\n",
       "    <tr>\n",
       "      <th>HOME AND KITCHEN II</th>\n",
       "      <td>14.408551</td>\n",
       "    </tr>\n",
       "    <tr>\n",
       "      <th>HOME APPLIANCES</th>\n",
       "      <td>0.478622</td>\n",
       "    </tr>\n",
       "    <tr>\n",
       "      <th>HOME CARE</th>\n",
       "      <td>177.328385</td>\n",
       "    </tr>\n",
       "    <tr>\n",
       "      <th>LADIESWEAR</th>\n",
       "      <td>17.540974</td>\n",
       "    </tr>\n",
       "    <tr>\n",
       "      <th>LAWN AND GARDEN</th>\n",
       "      <td>8.232185</td>\n",
       "    </tr>\n",
       "    <tr>\n",
       "      <th>LINGERIE</th>\n",
       "      <td>9.322447</td>\n",
       "    </tr>\n",
       "    <tr>\n",
       "      <th>LIQUOR,WINE,BEER</th>\n",
       "      <td>86.503563</td>\n",
       "    </tr>\n",
       "    <tr>\n",
       "      <th>MAGAZINES</th>\n",
       "      <td>3.835511</td>\n",
       "    </tr>\n",
       "    <tr>\n",
       "      <th>MEATS</th>\n",
       "      <td>504.700580</td>\n",
       "    </tr>\n",
       "    <tr>\n",
       "      <th>PERSONAL CARE</th>\n",
       "      <td>262.966746</td>\n",
       "    </tr>\n",
       "    <tr>\n",
       "      <th>PET SUPPLIES</th>\n",
       "      <td>5.427553</td>\n",
       "    </tr>\n",
       "    <tr>\n",
       "      <th>PLAYERS AND ELECTRONICS</th>\n",
       "      <td>5.702494</td>\n",
       "    </tr>\n",
       "    <tr>\n",
       "      <th>POULTRY</th>\n",
       "      <td>486.603592</td>\n",
       "    </tr>\n",
       "    <tr>\n",
       "      <th>PREPARED FOODS</th>\n",
       "      <td>124.930214</td>\n",
       "    </tr>\n",
       "    <tr>\n",
       "      <th>PRODUCE</th>\n",
       "      <td>1651.778011</td>\n",
       "    </tr>\n",
       "    <tr>\n",
       "      <th>SCHOOL AND OFFICE SUPPLIES</th>\n",
       "      <td>0.457245</td>\n",
       "    </tr>\n",
       "    <tr>\n",
       "      <th>SEAFOOD</th>\n",
       "      <td>32.213157</td>\n",
       "    </tr>\n",
       "  </tbody>\n",
       "</table>\n",
       "</div>"
      ],
      "text/plain": [
       "                                  sales\n",
       "family                                 \n",
       "AUTOMOTIVE                     5.403800\n",
       "BABY CARE                      0.049881\n",
       "BEAUTY                         4.712589\n",
       "BEVERAGES                   2466.693587\n",
       "BOOKS                          0.141924\n",
       "BREAD/BAKERY                 548.855574\n",
       "CELEBRATION                    7.947743\n",
       "CLEANING                     965.480404\n",
       "DAIRY                        853.242280\n",
       "DELI                         244.349816\n",
       "EGGS                         186.897862\n",
       "FROZEN FOODS                 160.718015\n",
       "GROCERY I                   3914.313419\n",
       "GROCERY II                    31.285629\n",
       "HARDWARE                       1.171021\n",
       "HOME AND KITCHEN I            17.606295\n",
       "HOME AND KITCHEN II           14.408551\n",
       "HOME APPLIANCES                0.478622\n",
       "HOME CARE                    177.328385\n",
       "LADIESWEAR                    17.540974\n",
       "LAWN AND GARDEN                8.232185\n",
       "LINGERIE                       9.322447\n",
       "LIQUOR,WINE,BEER              86.503563\n",
       "MAGAZINES                      3.835511\n",
       "MEATS                        504.700580\n",
       "PERSONAL CARE                262.966746\n",
       "PET SUPPLIES                   5.427553\n",
       "PLAYERS AND ELECTRONICS        5.702494\n",
       "POULTRY                      486.603592\n",
       "PREPARED FOODS               124.930214\n",
       "PRODUCE                     1651.778011\n",
       "SCHOOL AND OFFICE SUPPLIES     0.457245\n",
       "SEAFOOD                       32.213157"
      ]
     },
     "execution_count": 232,
     "metadata": {},
     "output_type": "execute_result"
    }
   ],
   "source": [
    "a.loc[2]"
   ]
  },
  {
   "cell_type": "code",
   "execution_count": 10,
   "id": "23198657",
   "metadata": {},
   "outputs": [],
   "source": [
    "train = pd.read_csv('../../store-sales-time-series-forecasting/train.csv', usecols=['date','sales'], index_col='date')"
   ]
  },
  {
   "cell_type": "code",
   "execution_count": 11,
   "id": "2e852b00",
   "metadata": {},
   "outputs": [
    {
     "data": {
      "text/html": [
       "<div>\n",
       "<style scoped>\n",
       "    .dataframe tbody tr th:only-of-type {\n",
       "        vertical-align: middle;\n",
       "    }\n",
       "\n",
       "    .dataframe tbody tr th {\n",
       "        vertical-align: top;\n",
       "    }\n",
       "\n",
       "    .dataframe thead th {\n",
       "        text-align: right;\n",
       "    }\n",
       "</style>\n",
       "<table border=\"1\" class=\"dataframe\">\n",
       "  <thead>\n",
       "    <tr style=\"text-align: right;\">\n",
       "      <th></th>\n",
       "      <th>sales</th>\n",
       "    </tr>\n",
       "    <tr>\n",
       "      <th>date</th>\n",
       "      <th></th>\n",
       "    </tr>\n",
       "  </thead>\n",
       "  <tbody>\n",
       "    <tr>\n",
       "      <th>2013-01-01</th>\n",
       "      <td>0.000</td>\n",
       "    </tr>\n",
       "    <tr>\n",
       "      <th>2013-01-01</th>\n",
       "      <td>0.000</td>\n",
       "    </tr>\n",
       "    <tr>\n",
       "      <th>2013-01-01</th>\n",
       "      <td>0.000</td>\n",
       "    </tr>\n",
       "    <tr>\n",
       "      <th>2013-01-01</th>\n",
       "      <td>0.000</td>\n",
       "    </tr>\n",
       "    <tr>\n",
       "      <th>2013-01-01</th>\n",
       "      <td>0.000</td>\n",
       "    </tr>\n",
       "    <tr>\n",
       "      <th>...</th>\n",
       "      <td>...</td>\n",
       "    </tr>\n",
       "    <tr>\n",
       "      <th>2017-08-15</th>\n",
       "      <td>438.133</td>\n",
       "    </tr>\n",
       "    <tr>\n",
       "      <th>2017-08-15</th>\n",
       "      <td>154.553</td>\n",
       "    </tr>\n",
       "    <tr>\n",
       "      <th>2017-08-15</th>\n",
       "      <td>2419.729</td>\n",
       "    </tr>\n",
       "    <tr>\n",
       "      <th>2017-08-15</th>\n",
       "      <td>121.000</td>\n",
       "    </tr>\n",
       "    <tr>\n",
       "      <th>2017-08-15</th>\n",
       "      <td>16.000</td>\n",
       "    </tr>\n",
       "  </tbody>\n",
       "</table>\n",
       "<p>3000888 rows × 1 columns</p>\n",
       "</div>"
      ],
      "text/plain": [
       "               sales\n",
       "date                \n",
       "2013-01-01     0.000\n",
       "2013-01-01     0.000\n",
       "2013-01-01     0.000\n",
       "2013-01-01     0.000\n",
       "2013-01-01     0.000\n",
       "...              ...\n",
       "2017-08-15   438.133\n",
       "2017-08-15   154.553\n",
       "2017-08-15  2419.729\n",
       "2017-08-15   121.000\n",
       "2017-08-15    16.000\n",
       "\n",
       "[3000888 rows x 1 columns]"
      ]
     },
     "execution_count": 11,
     "metadata": {},
     "output_type": "execute_result"
    }
   ],
   "source": [
    "train"
   ]
  },
  {
   "cell_type": "code",
   "execution_count": 12,
   "id": "228184b0",
   "metadata": {},
   "outputs": [],
   "source": [
    "sales_data = []\n",
    "for day in sorted(list(set(train.index))):\n",
    "    sales_data += [train.loc[day].values.squeeze().tolist()]"
   ]
  },
  {
   "cell_type": "code",
   "execution_count": 13,
   "id": "3c6df4a9",
   "metadata": {},
   "outputs": [],
   "source": [
    "sales_data = np.array(sales_data)"
   ]
  },
  {
   "cell_type": "code",
   "execution_count": 14,
   "id": "ca0f6ea9",
   "metadata": {},
   "outputs": [
    {
     "data": {
      "text/plain": [
       "(1684, 1782)"
      ]
     },
     "execution_count": 14,
     "metadata": {},
     "output_type": "execute_result"
    }
   ],
   "source": [
    "sales_data.shape"
   ]
  },
  {
   "cell_type": "code",
   "execution_count": 227,
   "id": "4d776638",
   "metadata": {},
   "outputs": [
    {
     "data": {
      "text/plain": [
       "array([ 2.   ,  0.   ,  2.   , ...,  0.   ,  0.   , 29.214])"
      ]
     },
     "execution_count": 227,
     "metadata": {},
     "output_type": "execute_result"
    }
   ],
   "source": [
    "sales_data[1]"
   ]
  },
  {
   "cell_type": "code",
   "execution_count": 110,
   "id": "0ddd34a6",
   "metadata": {},
   "outputs": [],
   "source": [
    "train = sales_data[:1600]"
   ]
  },
  {
   "cell_type": "code",
   "execution_count": 111,
   "id": "b4242b81",
   "metadata": {},
   "outputs": [],
   "source": [
    "valid = sales_data[1600:]"
   ]
  },
  {
   "cell_type": "code",
   "execution_count": 130,
   "id": "f1c60856",
   "metadata": {},
   "outputs": [],
   "source": [
    "from sklearn.preprocessing import MinMaxScaler\n",
    "\n",
    "scaler = MinMaxScaler()\n",
    "train = scaler.fit_transform(train)\n",
    "valid = scaler.transform(valid)"
   ]
  },
  {
   "cell_type": "code",
   "execution_count": 203,
   "id": "f3750aa7",
   "metadata": {},
   "outputs": [],
   "source": [
    "time_steps = 7\n",
    "ts_train_len = 1600\n",
    "ts_valid_len = len(valid)\n",
    "for_periods = 1"
   ]
  },
  {
   "cell_type": "code",
   "execution_count": 204,
   "id": "e669921e",
   "metadata": {},
   "outputs": [
    {
     "data": {
      "text/plain": [
       "84"
      ]
     },
     "execution_count": 204,
     "metadata": {},
     "output_type": "execute_result"
    }
   ],
   "source": [
    "len(valid)"
   ]
  },
  {
   "cell_type": "code",
   "execution_count": 205,
   "id": "e0cae373",
   "metadata": {},
   "outputs": [],
   "source": [
    "X_train = []\n",
    "y_train = []\n",
    "for i in range(time_steps, ts_train_len-1):\n",
    "    X_train.append(train[i-time_steps:i])\n",
    "    y_train.append(train[i])\n",
    "X_train, y_train = np.array(X_train), np.array(y_train)"
   ]
  },
  {
   "cell_type": "code",
   "execution_count": 206,
   "id": "af1d725f",
   "metadata": {
    "scrolled": true
   },
   "outputs": [],
   "source": [
    "X_valid = []\n",
    "y_valid = []\n",
    "for i in range(time_steps, ts_valid_len-1):\n",
    "    X_valid.append(valid[i-time_steps:i])\n",
    "    y_valid.append(valid[i])\n",
    "X_valid, y_valid = np.array(X_valid), np.array(y_valid)"
   ]
  },
  {
   "cell_type": "code",
   "execution_count": 207,
   "id": "d64f53c9",
   "metadata": {},
   "outputs": [
    {
     "data": {
      "text/plain": [
       "((1592, 7, 1782), (1592, 1782))"
      ]
     },
     "execution_count": 207,
     "metadata": {},
     "output_type": "execute_result"
    }
   ],
   "source": [
    "X_train.shape, y_train.shape"
   ]
  },
  {
   "cell_type": "code",
   "execution_count": 208,
   "id": "74ecda91",
   "metadata": {},
   "outputs": [
    {
     "data": {
      "text/plain": [
       "((76, 7, 1782), (76, 1782))"
      ]
     },
     "execution_count": 208,
     "metadata": {},
     "output_type": "execute_result"
    }
   ],
   "source": [
    "X_valid.shape, y_valid.shape"
   ]
  },
  {
   "cell_type": "code",
   "execution_count": 209,
   "id": "10612a19",
   "metadata": {},
   "outputs": [
    {
     "data": {
      "text/plain": [
       "array([[0.16666667, 0.        , 0.91666667, ..., 0.34572196, 0.00613497,\n",
       "        0.27982863],\n",
       "       [0.33333333, 0.        , 0.08333333, ..., 0.37845744, 0.00920245,\n",
       "        0.53928162],\n",
       "       [1.05555556, 0.        , 0.08333333, ..., 0.35775819, 0.01840491,\n",
       "        0.1826666 ],\n",
       "       ...,\n",
       "       [0.33333333, 0.        , 0.25      , ..., 0.34958042, 0.42331288,\n",
       "        0.27996149],\n",
       "       [0.05555556, 0.        , 0.08333333, ..., 0.41715414, 0.61349693,\n",
       "        0.33212109],\n",
       "       [0.05555556, 0.        , 0.5       , ..., 0.33213199, 0.55828221,\n",
       "        0.28230293]])"
      ]
     },
     "execution_count": 209,
     "metadata": {},
     "output_type": "execute_result"
    }
   ],
   "source": [
    "y_valid"
   ]
  },
  {
   "cell_type": "code",
   "execution_count": 210,
   "id": "5f48a83a",
   "metadata": {},
   "outputs": [
    {
     "data": {
      "text/plain": [
       "(1592, 7, 1782)"
      ]
     },
     "execution_count": 210,
     "metadata": {},
     "output_type": "execute_result"
    }
   ],
   "source": [
    "X_train.shape"
   ]
  },
  {
   "cell_type": "code",
   "execution_count": 211,
   "id": "4039ce7f",
   "metadata": {},
   "outputs": [
    {
     "data": {
      "text/plain": [
       "(1592, 1782)"
      ]
     },
     "execution_count": 211,
     "metadata": {},
     "output_type": "execute_result"
    }
   ],
   "source": [
    "y_train.shape"
   ]
  },
  {
   "cell_type": "code",
   "execution_count": 212,
   "id": "b40173d8",
   "metadata": {},
   "outputs": [
    {
     "data": {
      "text/plain": [
       "(76, 7, 1782)"
      ]
     },
     "execution_count": 212,
     "metadata": {},
     "output_type": "execute_result"
    }
   ],
   "source": [
    "X_valid.shape"
   ]
  },
  {
   "cell_type": "code",
   "execution_count": 213,
   "id": "b058b33e",
   "metadata": {
    "scrolled": true
   },
   "outputs": [
    {
     "data": {
      "text/plain": [
       "(76, 1782)"
      ]
     },
     "execution_count": 213,
     "metadata": {},
     "output_type": "execute_result"
    }
   ],
   "source": [
    "y_valid.shape"
   ]
  },
  {
   "cell_type": "code",
   "execution_count": 214,
   "id": "b4b54a61",
   "metadata": {},
   "outputs": [],
   "source": [
    "model = keras.models.Sequential([\n",
    "    keras.layers.SimpleRNN(100, input_shape=[None, 1782], return_sequences=True),\n",
    "    keras.layers.SimpleRNN(100, return_sequences=True),\n",
    "    keras.layers.SimpleRNN(100),\n",
    "    keras.layers.Dense(1782)\n",
    "])"
   ]
  },
  {
   "cell_type": "code",
   "execution_count": 215,
   "id": "2d4e0659",
   "metadata": {},
   "outputs": [],
   "source": [
    "model.compile(loss=keras.losses.MeanSquaredError(), optimizer=keras.optimizers.Adam())"
   ]
  },
  {
   "cell_type": "code",
   "execution_count": 216,
   "id": "0952a114",
   "metadata": {
    "scrolled": true
   },
   "outputs": [
    {
     "name": "stdout",
     "output_type": "stream",
     "text": [
      "Epoch 1/50\n",
      "50/50 [==============================] - 2s 17ms/step - loss: 0.0259 - val_loss: 0.0228\n",
      "Epoch 2/50\n",
      "50/50 [==============================] - 1s 11ms/step - loss: 0.0111 - val_loss: 0.0207\n",
      "Epoch 3/50\n",
      "50/50 [==============================] - 1s 11ms/step - loss: 0.0102 - val_loss: 0.0196\n",
      "Epoch 4/50\n",
      "50/50 [==============================] - 1s 11ms/step - loss: 0.0095 - val_loss: 0.0186\n",
      "Epoch 5/50\n",
      "50/50 [==============================] - 1s 11ms/step - loss: 0.0089 - val_loss: 0.0187\n",
      "Epoch 6/50\n",
      "50/50 [==============================] - 1s 11ms/step - loss: 0.0085 - val_loss: 0.0181\n",
      "Epoch 7/50\n",
      "50/50 [==============================] - 1s 11ms/step - loss: 0.0083 - val_loss: 0.0175\n",
      "Epoch 8/50\n",
      "50/50 [==============================] - 1s 12ms/step - loss: 0.0079 - val_loss: 0.0170\n",
      "Epoch 9/50\n",
      "50/50 [==============================] - 1s 12ms/step - loss: 0.0077 - val_loss: 0.0163\n",
      "Epoch 10/50\n",
      "50/50 [==============================] - 1s 11ms/step - loss: 0.0074 - val_loss: 0.0158\n",
      "Epoch 11/50\n",
      "50/50 [==============================] - 0s 10ms/step - loss: 0.0072 - val_loss: 0.0155\n",
      "Epoch 12/50\n",
      "50/50 [==============================] - 1s 10ms/step - loss: 0.0070 - val_loss: 0.0153\n",
      "Epoch 13/50\n",
      "50/50 [==============================] - 1s 11ms/step - loss: 0.0068 - val_loss: 0.0150\n",
      "Epoch 14/50\n",
      "50/50 [==============================] - 1s 12ms/step - loss: 0.0067 - val_loss: 0.0149\n",
      "Epoch 15/50\n",
      "50/50 [==============================] - 1s 11ms/step - loss: 0.0065 - val_loss: 0.0149\n",
      "Epoch 16/50\n",
      "50/50 [==============================] - 1s 11ms/step - loss: 0.0064 - val_loss: 0.0146\n",
      "Epoch 17/50\n",
      "50/50 [==============================] - 1s 11ms/step - loss: 0.0063 - val_loss: 0.0145\n",
      "Epoch 18/50\n",
      "50/50 [==============================] - 1s 11ms/step - loss: 0.0062 - val_loss: 0.0143\n",
      "Epoch 19/50\n",
      "50/50 [==============================] - 0s 10ms/step - loss: 0.0061 - val_loss: 0.0145\n",
      "Epoch 20/50\n",
      "50/50 [==============================] - 0s 10ms/step - loss: 0.0061 - val_loss: 0.0142\n",
      "Epoch 21/50\n",
      "50/50 [==============================] - 1s 10ms/step - loss: 0.0060 - val_loss: 0.0143\n",
      "Epoch 22/50\n",
      "50/50 [==============================] - 0s 10ms/step - loss: 0.0060 - val_loss: 0.0143\n",
      "Epoch 23/50\n",
      "50/50 [==============================] - 0s 10ms/step - loss: 0.0059 - val_loss: 0.0142\n",
      "Epoch 24/50\n",
      "50/50 [==============================] - 0s 10ms/step - loss: 0.0059 - val_loss: 0.0142\n",
      "Epoch 25/50\n",
      "50/50 [==============================] - 0s 10ms/step - loss: 0.0058 - val_loss: 0.0140\n",
      "Epoch 26/50\n",
      "50/50 [==============================] - 0s 10ms/step - loss: 0.0057 - val_loss: 0.0141\n",
      "Epoch 27/50\n",
      "50/50 [==============================] - 1s 10ms/step - loss: 0.0057 - val_loss: 0.0142\n",
      "Epoch 28/50\n",
      "50/50 [==============================] - 1s 11ms/step - loss: 0.0057 - val_loss: 0.0141\n",
      "Epoch 29/50\n",
      "50/50 [==============================] - 1s 11ms/step - loss: 0.0056 - val_loss: 0.0141\n",
      "Epoch 30/50\n",
      "50/50 [==============================] - 1s 11ms/step - loss: 0.0056 - val_loss: 0.0142\n",
      "Epoch 31/50\n",
      "50/50 [==============================] - 1s 10ms/step - loss: 0.0055 - val_loss: 0.0142\n",
      "Epoch 32/50\n",
      "50/50 [==============================] - 0s 10ms/step - loss: 0.0055 - val_loss: 0.0142\n",
      "Epoch 33/50\n",
      "50/50 [==============================] - 0s 10ms/step - loss: 0.0055 - val_loss: 0.0141\n",
      "Epoch 34/50\n",
      "50/50 [==============================] - 0s 10ms/step - loss: 0.0054 - val_loss: 0.0140\n",
      "Epoch 35/50\n",
      "50/50 [==============================] - 0s 10ms/step - loss: 0.0054 - val_loss: 0.0143\n",
      "Epoch 36/50\n",
      "50/50 [==============================] - 1s 11ms/step - loss: 0.0054 - val_loss: 0.0140\n",
      "Epoch 37/50\n",
      "50/50 [==============================] - 1s 11ms/step - loss: 0.0054 - val_loss: 0.0141\n",
      "Epoch 38/50\n",
      "50/50 [==============================] - 1s 11ms/step - loss: 0.0053 - val_loss: 0.0140\n",
      "Epoch 39/50\n",
      "50/50 [==============================] - 1s 11ms/step - loss: 0.0053 - val_loss: 0.0141\n",
      "Epoch 40/50\n",
      "50/50 [==============================] - 1s 11ms/step - loss: 0.0053 - val_loss: 0.0141\n",
      "Epoch 41/50\n",
      "50/50 [==============================] - 1s 11ms/step - loss: 0.0053 - val_loss: 0.0140\n",
      "Epoch 42/50\n",
      "50/50 [==============================] - 1s 11ms/step - loss: 0.0052 - val_loss: 0.0139\n",
      "Epoch 43/50\n",
      "50/50 [==============================] - 1s 11ms/step - loss: 0.0052 - val_loss: 0.0139\n",
      "Epoch 44/50\n",
      "50/50 [==============================] - 1s 11ms/step - loss: 0.0052 - val_loss: 0.0139\n",
      "Epoch 45/50\n",
      "50/50 [==============================] - 1s 11ms/step - loss: 0.0052 - val_loss: 0.0140\n",
      "Epoch 46/50\n",
      "50/50 [==============================] - 1s 11ms/step - loss: 0.0052 - val_loss: 0.0141\n",
      "Epoch 47/50\n",
      "50/50 [==============================] - 1s 10ms/step - loss: 0.0051 - val_loss: 0.0139\n",
      "Epoch 48/50\n",
      "50/50 [==============================] - 0s 10ms/step - loss: 0.0051 - val_loss: 0.0140\n",
      "Epoch 49/50\n",
      "50/50 [==============================] - 0s 10ms/step - loss: 0.0051 - val_loss: 0.0140\n",
      "Epoch 50/50\n",
      "50/50 [==============================] - 0s 10ms/step - loss: 0.0051 - val_loss: 0.0139\n"
     ]
    }
   ],
   "source": [
    "history = model.fit(X_train, y_train, epochs=50, validation_data=(X_valid, y_valid))"
   ]
  },
  {
   "cell_type": "code",
   "execution_count": 217,
   "id": "f51e776c",
   "metadata": {},
   "outputs": [
    {
     "data": {
      "image/png": "[encoded data removed]",
      "text/plain": [
       "<Figure size 432x288 with 1 Axes>"
      ]
     },
     "metadata": {
      "needs_background": "light"
     },
     "output_type": "display_data"
    }
   ],
   "source": [
    "import matplotlib.pyplot as plt\n",
    "y_vloss = history.history['val_loss']\n",
    "y_loss = history.history['loss']\n",
    "\n",
    "x_len = np.arange(len(y_loss))\n",
    "plt.plot(x_len, y_vloss, marker='.', c='red', label=\"Validation-set Loss\")\n",
    "plt.plot(x_len, y_loss, marker='.', c='blue', label=\"Train-set Loss\")\n",
    "\n",
    "plt.legend(loc='upper right')\n",
    "plt.grid()\n",
    "plt.xlabel('epoch')\n",
    "plt.ylabel('loss')\n",
    "plt.show()\n"
   ]
  },
  {
   "cell_type": "code",
   "execution_count": 218,
   "id": "b8ac53fb",
   "metadata": {},
   "outputs": [
    {
     "data": {
      "text/plain": [
       "(1684, 1782)"
      ]
     },
     "execution_count": 218,
     "metadata": {},
     "output_type": "execute_result"
    }
   ],
   "source": [
    "sales_data.shape"
   ]
  },
  {
   "cell_type": "code",
   "execution_count": 195,
   "id": "72af91aa",
   "metadata": {},
   "outputs": [
    {
     "data": {
      "text/plain": [
       "1684"
      ]
     },
     "execution_count": 195,
     "metadata": {},
     "output_type": "execute_result"
    }
   ],
   "source": [
    "len(sales_data[:, 1])"
   ]
  },
  {
   "cell_type": "code",
   "execution_count": 196,
   "id": "6f063b62",
   "metadata": {},
   "outputs": [
    {
     "data": {
      "text/plain": [
       "array([0.51059196, 0.53593348, 0.42308454, 0.50128687, 0.54207088,\n",
       "       0.1989705 , 0.49356563, 0.58938824, 0.51138388, 0.36111661,\n",
       "       0.47396555, 0.52940012, 0.21183924, 0.4438725 , 0.41595724,\n",
       "       0.43615126, 0.42130271, 0.49415957, 0.51395763, 0.22470798,\n",
       "       0.50009899, 0.45218769, 0.53276579, 0.45218769, 0.50960206,\n",
       "       0.46545239, 0.23381509, 0.46287864, 0.46960998, 0.48703227,\n",
       "       0.41872896, 0.50069293, 0.43219165, 0.21362107, 0.4713918 ,\n",
       "       0.51257177, 0.46901604, 0.39714908, 0.56602653, 0.44704019,\n",
       "       0.20273213, 0.42724213, 0.4826767 , 0.4438725 , 0.39635716,\n",
       "       0.46683825, 0.42783607, 0.23995248, 0.47792516, 0.52009503,\n",
       "       0.52365868, 0.40328648, 0.4907939 , 0.41437339, 0.19164522,\n",
       "       0.41298753, 0.47871709, 0.45753316, 0.47059988, 0.19916848,\n",
       "       0.32844981, 0.15897842, 0.4357553 , 0.38447832])"
      ]
     },
     "execution_count": 196,
     "metadata": {},
     "output_type": "execute_result"
    }
   ],
   "source": [
    "scaler.transform(sales_data)[1620:,3]"
   ]
  },
  {
   "cell_type": "code",
   "execution_count": 197,
   "id": "eebd6bd7",
   "metadata": {},
   "outputs": [
    {
     "data": {
      "text/plain": [
       "(76,)"
      ]
     },
     "execution_count": 197,
     "metadata": {},
     "output_type": "execute_result"
    }
   ],
   "source": [
    "scaler.transform(sales_data)[1608:,3].shape"
   ]
  },
  {
   "cell_type": "code",
   "execution_count": 198,
   "id": "79221eb1",
   "metadata": {},
   "outputs": [
    {
     "data": {
      "text/plain": [
       "(80, 3, 1782)"
      ]
     },
     "execution_count": 198,
     "metadata": {},
     "output_type": "execute_result"
    }
   ],
   "source": [
    "X_valid.shape"
   ]
  },
  {
   "cell_type": "code",
   "execution_count": 199,
   "id": "d9693839",
   "metadata": {},
   "outputs": [],
   "source": [
    "def plot_predict(a = 0):\n",
    "    plt.plot(scaler.transform(sales_data)[-77:,a])\n",
    "    plt.plot(model.predict(X_valid)[:, a])\n",
    "    plt.legend(['True', 'Predict'])\n",
    "    plt.show()"
   ]
  },
  {
   "cell_type": "code",
   "execution_count": 219,
   "id": "12948194",
   "metadata": {},
   "outputs": [
    {
     "data": {
      "image/png": "[encoded data removed]",
      "text/plain": [
       "<Figure size 432x288 with 1 Axes>"
      ]
     },
     "metadata": {
      "needs_background": "light"
     },
     "output_type": "display_data"
    }
   ],
   "source": [
    "plot_predict()"
   ]
  },
  {
   "cell_type": "code",
   "execution_count": 220,
   "id": "efab30a8",
   "metadata": {},
   "outputs": [
    {
     "data": {
      "image/png": "[encoded data removed]",
      "text/plain": [
       "<Figure size 432x288 with 1 Axes>"
      ]
     },
     "metadata": {
      "needs_background": "light"
     },
     "output_type": "display_data"
    }
   ],
   "source": [
    "plot_predict(2)"
   ]
  },
  {
   "cell_type": "code",
   "execution_count": 221,
   "id": "88285f9c",
   "metadata": {},
   "outputs": [
    {
     "data": {
      "image/png": "[encoded data removed]",
      "text/plain": [
       "<Figure size 432x288 with 1 Axes>"
      ]
     },
     "metadata": {
      "needs_background": "light"
     },
     "output_type": "display_data"
    }
   ],
   "source": [
    "plot_predict(3)"
   ]
  },
  {
   "cell_type": "code",
   "execution_count": 222,
   "id": "a7896199",
   "metadata": {},
   "outputs": [
    {
     "data": {
      "image/png": "[encoded data removed]",
      "text/plain": [
       "<Figure size 432x288 with 1 Axes>"
      ]
     },
     "metadata": {
      "needs_background": "light"
     },
     "output_type": "display_data"
    }
   ],
   "source": [
    "plot_predict(16)"
   ]
  },
  {
   "cell_type": "code",
   "execution_count": 258,
   "id": "3705c525",
   "metadata": {},
   "outputs": [
    {
     "data": {
      "text/plain": [
       "array([   0., 1091.,  919., ...,  803., 2201., 1942.])"
      ]
     },
     "execution_count": 258,
     "metadata": {},
     "output_type": "execute_result"
    }
   ],
   "source": [
    "sales_data[:, 3]"
   ]
  },
  {
   "cell_type": "code",
   "execution_count": 259,
   "id": "2abf1d3e",
   "metadata": {},
   "outputs": [
    {
     "data": {
      "text/plain": [
       "array([[ 5.09844609e-02,  1.19060006e-08,  9.17587698e-01, ...,\n",
       "         2.19719067e-01, -3.53962243e-01, -7.95165777e-01],\n",
       "       [ 2.23871723e-01, -2.97572411e-10,  8.95112276e-01, ...,\n",
       "         1.31580994e-01, -4.73981440e-01, -5.61966360e-01],\n",
       "       [ 3.58194590e-01,  1.21075905e-08,  7.48227537e-01, ...,\n",
       "         1.74972340e-01, -3.56857926e-02, -8.69415045e-01]], dtype=float32)"
      ]
     },
     "execution_count": 259,
     "metadata": {},
     "output_type": "execute_result"
    }
   ],
   "source": [
    "model.predict(X_valid[:3])"
   ]
  },
  {
   "cell_type": "code",
   "execution_count": 260,
   "id": "bf5bc974",
   "metadata": {},
   "outputs": [
    {
     "data": {
      "text/plain": [
       "[<matplotlib.lines.Line2D at 0x2012d7102e8>]"
      ]
     },
     "execution_count": 260,
     "metadata": {},
     "output_type": "execute_result"
    },
    {
     "data": {
      "image/png": "[encoded data removed]",
      "text/plain": [
       "<Figure size 432x288 with 1 Axes>"
      ]
     },
     "metadata": {
      "needs_background": "light"
     },
     "output_type": "display_data"
    }
   ],
   "source": [
    "plt.plot(model.predict(X_valid)[:, 3])"
   ]
  },
  {
   "cell_type": "code",
   "execution_count": null,
   "id": "fcaba238",
   "metadata": {},
   "outputs": [],
   "source": []
  }
 ],
 "metadata": {
  "kernelspec": {
   "display_name": "Python 3",
   "language": "python",
   "name": "python3"
  },
  "language_info": {
   "codemirror_mode": {
    "name": "ipython",
    "version": 3
   },
   "file_extension": ".py",
   "mimetype": "text/x-python",
   "name": "python",
   "nbconvert_exporter": "python",
   "pygments_lexer": "ipython3",
   "version": "3.6.13"
  }
 },
 "nbformat": 4,
 "nbformat_minor": 5
}
